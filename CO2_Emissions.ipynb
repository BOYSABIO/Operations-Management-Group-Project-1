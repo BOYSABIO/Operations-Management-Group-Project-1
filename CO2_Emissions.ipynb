{
 "cells": [
  {
   "cell_type": "markdown",
   "metadata": {},
   "source": [
    "Gathering Data"
   ]
  },
  {
   "cell_type": "code",
   "execution_count": 124,
   "metadata": {},
   "outputs": [],
   "source": [
    "import pandas as pd\n",
    "import requests\n",
    "\n",
    "# Fetch the data.\n",
    "df = pd.read_csv(\"https://ourworldindata.org/grapher/monthly-co2-emissions-from-international-and-domestic-flights.csv?v=1&csvType=full&useColumnShortNames=true\", storage_options = {'User-Agent': 'Our World In Data data fetch/1.0'})\n",
    "\n",
    "# Fetch the metadata\n",
    "metadata = requests.get(\"https://ourworldindata.org/grapher/monthly-co2-emissions-from-international-and-domestic-flights.metadata.json?v=1&csvType=full&useColumnShortNames=true\").json()"
   ]
  },
  {
   "cell_type": "code",
   "execution_count": 125,
   "metadata": {},
   "outputs": [
    {
     "data": {
      "text/html": [
       "<div>\n",
       "<style scoped>\n",
       "    .dataframe tbody tr th:only-of-type {\n",
       "        vertical-align: middle;\n",
       "    }\n",
       "\n",
       "    .dataframe tbody tr th {\n",
       "        vertical-align: top;\n",
       "    }\n",
       "\n",
       "    .dataframe thead th {\n",
       "        text-align: right;\n",
       "    }\n",
       "</style>\n",
       "<table border=\"1\" class=\"dataframe\">\n",
       "  <thead>\n",
       "    <tr style=\"text-align: right;\">\n",
       "      <th></th>\n",
       "      <th>Entity</th>\n",
       "      <th>Code</th>\n",
       "      <th>Day</th>\n",
       "      <th>ter_dom_m</th>\n",
       "      <th>ter_int_m</th>\n",
       "    </tr>\n",
       "  </thead>\n",
       "  <tbody>\n",
       "    <tr>\n",
       "      <th>0</th>\n",
       "      <td>Afghanistan</td>\n",
       "      <td>AFG</td>\n",
       "      <td>2019-01-15</td>\n",
       "      <td>1576.6334</td>\n",
       "      <td>10899.172</td>\n",
       "    </tr>\n",
       "  </tbody>\n",
       "</table>\n",
       "</div>"
      ],
      "text/plain": [
       "        Entity Code         Day  ter_dom_m  ter_int_m\n",
       "0  Afghanistan  AFG  2019-01-15  1576.6334  10899.172"
      ]
     },
     "execution_count": 125,
     "metadata": {},
     "output_type": "execute_result"
    }
   ],
   "source": [
    "df.head(1)"
   ]
  },
  {
   "cell_type": "markdown",
   "metadata": {},
   "source": [
    "Data Cleaning"
   ]
  },
  {
   "cell_type": "code",
   "execution_count": 126,
   "metadata": {},
   "outputs": [
    {
     "data": {
      "text/html": [
       "<div>\n",
       "<style scoped>\n",
       "    .dataframe tbody tr th:only-of-type {\n",
       "        vertical-align: middle;\n",
       "    }\n",
       "\n",
       "    .dataframe tbody tr th {\n",
       "        vertical-align: top;\n",
       "    }\n",
       "\n",
       "    .dataframe thead th {\n",
       "        text-align: right;\n",
       "    }\n",
       "</style>\n",
       "<table border=\"1\" class=\"dataframe\">\n",
       "  <thead>\n",
       "    <tr style=\"text-align: right;\">\n",
       "      <th></th>\n",
       "      <th>Entity</th>\n",
       "      <th>Code</th>\n",
       "      <th>Day</th>\n",
       "      <th>ter_dom_m</th>\n",
       "      <th>ter_int_m</th>\n",
       "    </tr>\n",
       "  </thead>\n",
       "  <tbody>\n",
       "    <tr>\n",
       "      <th>0</th>\n",
       "      <td>Afghanistan</td>\n",
       "      <td>AFG</td>\n",
       "      <td>2019-01-15</td>\n",
       "      <td>1576.6334</td>\n",
       "      <td>10899.1720</td>\n",
       "    </tr>\n",
       "    <tr>\n",
       "      <th>1</th>\n",
       "      <td>Afghanistan</td>\n",
       "      <td>AFG</td>\n",
       "      <td>2019-02-15</td>\n",
       "      <td>1794.2830</td>\n",
       "      <td>10676.1920</td>\n",
       "    </tr>\n",
       "    <tr>\n",
       "      <th>2</th>\n",
       "      <td>Afghanistan</td>\n",
       "      <td>AFG</td>\n",
       "      <td>2019-03-15</td>\n",
       "      <td>1409.3792</td>\n",
       "      <td>10475.1620</td>\n",
       "    </tr>\n",
       "    <tr>\n",
       "      <th>3</th>\n",
       "      <td>Afghanistan</td>\n",
       "      <td>AFG</td>\n",
       "      <td>2019-04-15</td>\n",
       "      <td>2558.5806</td>\n",
       "      <td>12447.3580</td>\n",
       "    </tr>\n",
       "    <tr>\n",
       "      <th>4</th>\n",
       "      <td>Afghanistan</td>\n",
       "      <td>AFG</td>\n",
       "      <td>2019-05-15</td>\n",
       "      <td>2011.3917</td>\n",
       "      <td>11834.1520</td>\n",
       "    </tr>\n",
       "    <tr>\n",
       "      <th>...</th>\n",
       "      <td>...</td>\n",
       "      <td>...</td>\n",
       "      <td>...</td>\n",
       "      <td>...</td>\n",
       "      <td>...</td>\n",
       "    </tr>\n",
       "    <tr>\n",
       "      <th>13305</th>\n",
       "      <td>Zimbabwe</td>\n",
       "      <td>ZWE</td>\n",
       "      <td>2023-08-15</td>\n",
       "      <td>NaN</td>\n",
       "      <td>13718.7705</td>\n",
       "    </tr>\n",
       "    <tr>\n",
       "      <th>13306</th>\n",
       "      <td>Zimbabwe</td>\n",
       "      <td>ZWE</td>\n",
       "      <td>2023-09-15</td>\n",
       "      <td>NaN</td>\n",
       "      <td>13263.5260</td>\n",
       "    </tr>\n",
       "    <tr>\n",
       "      <th>13307</th>\n",
       "      <td>Zimbabwe</td>\n",
       "      <td>ZWE</td>\n",
       "      <td>2023-11-15</td>\n",
       "      <td>NaN</td>\n",
       "      <td>14148.6810</td>\n",
       "    </tr>\n",
       "    <tr>\n",
       "      <th>13308</th>\n",
       "      <td>Zimbabwe</td>\n",
       "      <td>ZWE</td>\n",
       "      <td>2024-01-15</td>\n",
       "      <td>NaN</td>\n",
       "      <td>13685.1490</td>\n",
       "    </tr>\n",
       "    <tr>\n",
       "      <th>13309</th>\n",
       "      <td>Zimbabwe</td>\n",
       "      <td>ZWE</td>\n",
       "      <td>2024-02-15</td>\n",
       "      <td>NaN</td>\n",
       "      <td>12829.2010</td>\n",
       "    </tr>\n",
       "  </tbody>\n",
       "</table>\n",
       "<p>13310 rows × 5 columns</p>\n",
       "</div>"
      ],
      "text/plain": [
       "            Entity Code        Day  ter_dom_m   ter_int_m\n",
       "0      Afghanistan  AFG 2019-01-15  1576.6334  10899.1720\n",
       "1      Afghanistan  AFG 2019-02-15  1794.2830  10676.1920\n",
       "2      Afghanistan  AFG 2019-03-15  1409.3792  10475.1620\n",
       "3      Afghanistan  AFG 2019-04-15  2558.5806  12447.3580\n",
       "4      Afghanistan  AFG 2019-05-15  2011.3917  11834.1520\n",
       "...            ...  ...        ...        ...         ...\n",
       "13305     Zimbabwe  ZWE 2023-08-15        NaN  13718.7705\n",
       "13306     Zimbabwe  ZWE 2023-09-15        NaN  13263.5260\n",
       "13307     Zimbabwe  ZWE 2023-11-15        NaN  14148.6810\n",
       "13308     Zimbabwe  ZWE 2024-01-15        NaN  13685.1490\n",
       "13309     Zimbabwe  ZWE 2024-02-15        NaN  12829.2010\n",
       "\n",
       "[13310 rows x 5 columns]"
      ]
     },
     "execution_count": 126,
     "metadata": {},
     "output_type": "execute_result"
    }
   ],
   "source": [
    "df['Day'] = pd.to_datetime(df['Day'])\n",
    "df"
   ]
  },
  {
   "cell_type": "code",
   "execution_count": 127,
   "metadata": {},
   "outputs": [
    {
     "data": {
      "text/html": [
       "<div>\n",
       "<style scoped>\n",
       "    .dataframe tbody tr th:only-of-type {\n",
       "        vertical-align: middle;\n",
       "    }\n",
       "\n",
       "    .dataframe tbody tr th {\n",
       "        vertical-align: top;\n",
       "    }\n",
       "\n",
       "    .dataframe thead th {\n",
       "        text-align: right;\n",
       "    }\n",
       "</style>\n",
       "<table border=\"1\" class=\"dataframe\">\n",
       "  <thead>\n",
       "    <tr style=\"text-align: right;\">\n",
       "      <th></th>\n",
       "      <th>Entity</th>\n",
       "      <th>Code</th>\n",
       "      <th>Day</th>\n",
       "      <th>ter_dom_m</th>\n",
       "      <th>ter_int_m</th>\n",
       "    </tr>\n",
       "  </thead>\n",
       "  <tbody>\n",
       "    <tr>\n",
       "      <th>13062</th>\n",
       "      <td>World</td>\n",
       "      <td>OWID_WRL</td>\n",
       "      <td>2019-01-15</td>\n",
       "      <td>25458934.0</td>\n",
       "      <td>44271290.0</td>\n",
       "    </tr>\n",
       "    <tr>\n",
       "      <th>13063</th>\n",
       "      <td>World</td>\n",
       "      <td>OWID_WRL</td>\n",
       "      <td>2019-02-15</td>\n",
       "      <td>23327330.0</td>\n",
       "      <td>39871720.0</td>\n",
       "    </tr>\n",
       "    <tr>\n",
       "      <th>13064</th>\n",
       "      <td>World</td>\n",
       "      <td>OWID_WRL</td>\n",
       "      <td>2019-03-15</td>\n",
       "      <td>23483454.0</td>\n",
       "      <td>40737690.0</td>\n",
       "    </tr>\n",
       "    <tr>\n",
       "      <th>13065</th>\n",
       "      <td>World</td>\n",
       "      <td>OWID_WRL</td>\n",
       "      <td>2019-04-15</td>\n",
       "      <td>25564624.0</td>\n",
       "      <td>44844636.0</td>\n",
       "    </tr>\n",
       "    <tr>\n",
       "      <th>13066</th>\n",
       "      <td>World</td>\n",
       "      <td>OWID_WRL</td>\n",
       "      <td>2019-05-15</td>\n",
       "      <td>26616754.0</td>\n",
       "      <td>46503204.0</td>\n",
       "    </tr>\n",
       "  </tbody>\n",
       "</table>\n",
       "</div>"
      ],
      "text/plain": [
       "      Entity      Code        Day   ter_dom_m   ter_int_m\n",
       "13062  World  OWID_WRL 2019-01-15  25458934.0  44271290.0\n",
       "13063  World  OWID_WRL 2019-02-15  23327330.0  39871720.0\n",
       "13064  World  OWID_WRL 2019-03-15  23483454.0  40737690.0\n",
       "13065  World  OWID_WRL 2019-04-15  25564624.0  44844636.0\n",
       "13066  World  OWID_WRL 2019-05-15  26616754.0  46503204.0"
      ]
     },
     "execution_count": 127,
     "metadata": {},
     "output_type": "execute_result"
    }
   ],
   "source": [
    "co2 = df[(df['Entity'] == 'World') & (df['Day'] < '2024-01-15')]\n",
    "co2.head()"
   ]
  },
  {
   "cell_type": "code",
   "execution_count": 128,
   "metadata": {},
   "outputs": [
    {
     "data": {
      "text/html": [
       "<div>\n",
       "<style scoped>\n",
       "    .dataframe tbody tr th:only-of-type {\n",
       "        vertical-align: middle;\n",
       "    }\n",
       "\n",
       "    .dataframe tbody tr th {\n",
       "        vertical-align: top;\n",
       "    }\n",
       "\n",
       "    .dataframe thead th {\n",
       "        text-align: right;\n",
       "    }\n",
       "</style>\n",
       "<table border=\"1\" class=\"dataframe\">\n",
       "  <thead>\n",
       "    <tr style=\"text-align: right;\">\n",
       "      <th></th>\n",
       "      <th>Entity</th>\n",
       "      <th>Code</th>\n",
       "      <th>ter_dom_m</th>\n",
       "      <th>ter_int_m</th>\n",
       "      <th>total</th>\n",
       "    </tr>\n",
       "    <tr>\n",
       "      <th>Day</th>\n",
       "      <th></th>\n",
       "      <th></th>\n",
       "      <th></th>\n",
       "      <th></th>\n",
       "      <th></th>\n",
       "    </tr>\n",
       "  </thead>\n",
       "  <tbody>\n",
       "    <tr>\n",
       "      <th>2019-01-15</th>\n",
       "      <td>World</td>\n",
       "      <td>OWID_WRL</td>\n",
       "      <td>25458934.0</td>\n",
       "      <td>44271290.0</td>\n",
       "      <td>69730224.0</td>\n",
       "    </tr>\n",
       "    <tr>\n",
       "      <th>2019-02-15</th>\n",
       "      <td>World</td>\n",
       "      <td>OWID_WRL</td>\n",
       "      <td>23327330.0</td>\n",
       "      <td>39871720.0</td>\n",
       "      <td>63199050.0</td>\n",
       "    </tr>\n",
       "    <tr>\n",
       "      <th>2019-03-15</th>\n",
       "      <td>World</td>\n",
       "      <td>OWID_WRL</td>\n",
       "      <td>23483454.0</td>\n",
       "      <td>40737690.0</td>\n",
       "      <td>64221144.0</td>\n",
       "    </tr>\n",
       "    <tr>\n",
       "      <th>2019-04-15</th>\n",
       "      <td>World</td>\n",
       "      <td>OWID_WRL</td>\n",
       "      <td>25564624.0</td>\n",
       "      <td>44844636.0</td>\n",
       "      <td>70409260.0</td>\n",
       "    </tr>\n",
       "    <tr>\n",
       "      <th>2019-05-15</th>\n",
       "      <td>World</td>\n",
       "      <td>OWID_WRL</td>\n",
       "      <td>26616754.0</td>\n",
       "      <td>46503204.0</td>\n",
       "      <td>73119958.0</td>\n",
       "    </tr>\n",
       "  </tbody>\n",
       "</table>\n",
       "</div>"
      ],
      "text/plain": [
       "           Entity      Code   ter_dom_m   ter_int_m       total\n",
       "Day                                                            \n",
       "2019-01-15  World  OWID_WRL  25458934.0  44271290.0  69730224.0\n",
       "2019-02-15  World  OWID_WRL  23327330.0  39871720.0  63199050.0\n",
       "2019-03-15  World  OWID_WRL  23483454.0  40737690.0  64221144.0\n",
       "2019-04-15  World  OWID_WRL  25564624.0  44844636.0  70409260.0\n",
       "2019-05-15  World  OWID_WRL  26616754.0  46503204.0  73119958.0"
      ]
     },
     "execution_count": 128,
     "metadata": {},
     "output_type": "execute_result"
    }
   ],
   "source": [
    "co2 = co2.set_index('Day')\n",
    "co2['total'] = co2['ter_dom_m'] + co2['ter_int_m']\n",
    "co2.head()"
   ]
  },
  {
   "cell_type": "markdown",
   "metadata": {},
   "source": [
    "Data Vizualization"
   ]
  },
  {
   "cell_type": "code",
   "execution_count": 129,
   "metadata": {},
   "outputs": [
    {
     "data": {
      "application/vnd.plotly.v1+json": {
       "config": {
        "plotlyServerURL": "https://plot.ly"
       },
       "data": [
        {
         "mode": "lines+markers",
         "name": "Total CO₂",
         "type": "scatter",
         "x": [
          "2019-01-15T00:00:00.000000000",
          "2019-02-15T00:00:00.000000000",
          "2019-03-15T00:00:00.000000000",
          "2019-04-15T00:00:00.000000000",
          "2019-05-15T00:00:00.000000000",
          "2019-06-15T00:00:00.000000000",
          "2019-07-15T00:00:00.000000000",
          "2019-08-15T00:00:00.000000000",
          "2019-09-15T00:00:00.000000000",
          "2019-10-15T00:00:00.000000000",
          "2019-11-15T00:00:00.000000000",
          "2019-12-15T00:00:00.000000000",
          "2020-01-15T00:00:00.000000000",
          "2020-02-15T00:00:00.000000000",
          "2020-03-15T00:00:00.000000000",
          "2020-04-15T00:00:00.000000000",
          "2020-05-15T00:00:00.000000000",
          "2020-06-15T00:00:00.000000000",
          "2020-07-15T00:00:00.000000000",
          "2020-08-15T00:00:00.000000000",
          "2020-09-15T00:00:00.000000000",
          "2020-10-15T00:00:00.000000000",
          "2020-11-15T00:00:00.000000000",
          "2020-12-15T00:00:00.000000000",
          "2021-01-15T00:00:00.000000000",
          "2021-02-15T00:00:00.000000000",
          "2021-03-15T00:00:00.000000000",
          "2021-04-15T00:00:00.000000000",
          "2021-05-15T00:00:00.000000000",
          "2021-06-15T00:00:00.000000000",
          "2021-07-15T00:00:00.000000000",
          "2021-08-15T00:00:00.000000000",
          "2021-09-15T00:00:00.000000000",
          "2021-10-15T00:00:00.000000000",
          "2021-11-15T00:00:00.000000000",
          "2021-12-15T00:00:00.000000000",
          "2022-01-15T00:00:00.000000000",
          "2022-02-15T00:00:00.000000000",
          "2022-03-15T00:00:00.000000000",
          "2022-04-15T00:00:00.000000000",
          "2022-05-15T00:00:00.000000000",
          "2022-06-15T00:00:00.000000000",
          "2022-07-15T00:00:00.000000000",
          "2022-08-15T00:00:00.000000000",
          "2022-09-15T00:00:00.000000000",
          "2022-10-15T00:00:00.000000000",
          "2022-11-15T00:00:00.000000000",
          "2022-12-15T00:00:00.000000000",
          "2023-01-15T00:00:00.000000000",
          "2023-02-15T00:00:00.000000000",
          "2023-03-15T00:00:00.000000000",
          "2023-04-15T00:00:00.000000000",
          "2023-05-15T00:00:00.000000000",
          "2023-06-15T00:00:00.000000000",
          "2023-07-15T00:00:00.000000000",
          "2023-08-15T00:00:00.000000000",
          "2023-09-15T00:00:00.000000000",
          "2023-10-15T00:00:00.000000000",
          "2023-11-15T00:00:00.000000000",
          "2023-12-15T00:00:00.000000000"
         ],
         "y": {
          "bdata": "AAAAwP6fkEEAAABQuiKOQQAAAMB+n45BAAAAsHDJkEEAAABY426RQQAAAMgvyZFBAAAAoOwFk0EAAAAgYvqSQQAAALiQlZFBAAAAGPiqkUEAAAAIYUyQQQAAAJAYQJFBAAAAyP4fkUEAAADAuLyLQQAAAPCKQYVBAAAAEAvDaEEAAAAwW5FvQQAAAMDzanNBAAAAsBOoekEAAADQlXV+QQAAADA2IH1BAAAAQNbufkEAAABAtox+QQAAABggjYBBAAAAQHEMfkEAAACA25p5QQAAABDuxIBBAAAAiCwlgUEAAADoDsSBQQAAABCkvoJBAAAAsBL2hUEAAACANV6FQQAAAHBSUIVBAAAAUNFshkEAAADQeiKFQQAAAEC74IZBAAAAwPCshUEAAABw7buDQQAAAMCaMIZBAAAAgFGNhkEAAABA9JSIQQAAADBMyohBAAAA0OubjEEAAABAaHSMQQAAAMDqMIpBAAAAkBBFikEAAADQTUSIQQAAAKBsA4pBAAAA8Eooi0EAAACwR5GIQQAAACBm3ItBAAAAECPojEEAAACAbR2PQQAAANBvro9BAAAAOJsYkUEAAACYByWRQQAAACCw/o9BAAAAEOMnkEEAAACg5daNQQAAAADMdI9B",
          "dtype": "f8"
         }
        },
        {
         "mode": "lines",
         "name": "6-Month Moving Avg",
         "type": "scatter",
         "x": [
          "2019-01-15T00:00:00.000000000",
          "2019-02-15T00:00:00.000000000",
          "2019-03-15T00:00:00.000000000",
          "2019-04-15T00:00:00.000000000",
          "2019-05-15T00:00:00.000000000",
          "2019-06-15T00:00:00.000000000",
          "2019-07-15T00:00:00.000000000",
          "2019-08-15T00:00:00.000000000",
          "2019-09-15T00:00:00.000000000",
          "2019-10-15T00:00:00.000000000",
          "2019-11-15T00:00:00.000000000",
          "2019-12-15T00:00:00.000000000",
          "2020-01-15T00:00:00.000000000",
          "2020-02-15T00:00:00.000000000",
          "2020-03-15T00:00:00.000000000",
          "2020-04-15T00:00:00.000000000",
          "2020-05-15T00:00:00.000000000",
          "2020-06-15T00:00:00.000000000",
          "2020-07-15T00:00:00.000000000",
          "2020-08-15T00:00:00.000000000",
          "2020-09-15T00:00:00.000000000",
          "2020-10-15T00:00:00.000000000",
          "2020-11-15T00:00:00.000000000",
          "2020-12-15T00:00:00.000000000",
          "2021-01-15T00:00:00.000000000",
          "2021-02-15T00:00:00.000000000",
          "2021-03-15T00:00:00.000000000",
          "2021-04-15T00:00:00.000000000",
          "2021-05-15T00:00:00.000000000",
          "2021-06-15T00:00:00.000000000",
          "2021-07-15T00:00:00.000000000",
          "2021-08-15T00:00:00.000000000",
          "2021-09-15T00:00:00.000000000",
          "2021-10-15T00:00:00.000000000",
          "2021-11-15T00:00:00.000000000",
          "2021-12-15T00:00:00.000000000",
          "2022-01-15T00:00:00.000000000",
          "2022-02-15T00:00:00.000000000",
          "2022-03-15T00:00:00.000000000",
          "2022-04-15T00:00:00.000000000",
          "2022-05-15T00:00:00.000000000",
          "2022-06-15T00:00:00.000000000",
          "2022-07-15T00:00:00.000000000",
          "2022-08-15T00:00:00.000000000",
          "2022-09-15T00:00:00.000000000",
          "2022-10-15T00:00:00.000000000",
          "2022-11-15T00:00:00.000000000",
          "2022-12-15T00:00:00.000000000",
          "2023-01-15T00:00:00.000000000",
          "2023-02-15T00:00:00.000000000",
          "2023-03-15T00:00:00.000000000",
          "2023-04-15T00:00:00.000000000",
          "2023-05-15T00:00:00.000000000",
          "2023-06-15T00:00:00.000000000",
          "2023-07-15T00:00:00.000000000",
          "2023-08-15T00:00:00.000000000",
          "2023-09-15T00:00:00.000000000",
          "2023-10-15T00:00:00.000000000",
          "2023-11-15T00:00:00.000000000",
          "2023-12-15T00:00:00.000000000"
         ],
         "y": {
          "bdata": "AAAAAAAA+H8AAAAAAAD4fwAAAAAAAPh/AAAAAAAA+H8AAAAAAAD4f1VVVdlvgJBBVVVVKcLmkEGrqqpSmI2RQQAAAIyQ7pFBVVVVHScUkkEAAAAQvOORQQAAANzizJFBq6qq4uV7kUFVVVXt5KGQQVVVVcUw8o5BVVVVM6kWikGrqqpSl/iFQVVVVR3O1oFBVVVV/Uq0fEFVVVW1+4h4QVVVVW3WTXZBVVVV4WNleUGrqqpSZdt7QVVVVWVHI35BAAAAqAG0fkGrqqqa4uR9QVVVVe0ooX5BVVVVZWkwf0EAAABUfQKAQauqqlITYIBBAAAAAA2IgUEAAACgg/WCQQAAALBpt4NBVVVV0a+YhEEAAAB4bCiFQauqqqrF2IVBAAAAWJXMhUGrqqqq3oaFQVVVVQ1ArIVBAAAAwKqxhUFVVVX9vkSGQVVVVSVXloZBAAAAqCu+h0EAAAAgQDKJQQAAACD43IlBAAAA+Jd7ikFVVVXlJm6KQQAAAPhWoopBq6qq0mZkikEAAAAQjL6JQauqqkrLBYpBAAAAYE52ikGrqqpSfpqLQQAAADBUjIxBAAAAcHu4jUGrqqpaR1ePQauqqoLUA5BBq6qqbndMkEFVVVVxQTGQQauqqspzLJBB",
          "dtype": "f8"
         }
        }
       ],
       "layout": {
        "shapes": [
         {
          "fillcolor": "red",
          "layer": "below",
          "line": {
           "width": 0
          },
          "opacity": 0.3,
          "type": "rect",
          "x0": "2020-01-01",
          "x1": "2020-12-31",
          "xref": "x",
          "y0": 0,
          "y1": 1,
          "yref": "y domain"
         }
        ],
        "template": {
         "data": {
          "bar": [
           {
            "error_x": {
             "color": "#f2f5fa"
            },
            "error_y": {
             "color": "#f2f5fa"
            },
            "marker": {
             "line": {
              "color": "rgb(17,17,17)",
              "width": 0.5
             },
             "pattern": {
              "fillmode": "overlay",
              "size": 10,
              "solidity": 0.2
             }
            },
            "type": "bar"
           }
          ],
          "barpolar": [
           {
            "marker": {
             "line": {
              "color": "rgb(17,17,17)",
              "width": 0.5
             },
             "pattern": {
              "fillmode": "overlay",
              "size": 10,
              "solidity": 0.2
             }
            },
            "type": "barpolar"
           }
          ],
          "carpet": [
           {
            "aaxis": {
             "endlinecolor": "#A2B1C6",
             "gridcolor": "#506784",
             "linecolor": "#506784",
             "minorgridcolor": "#506784",
             "startlinecolor": "#A2B1C6"
            },
            "baxis": {
             "endlinecolor": "#A2B1C6",
             "gridcolor": "#506784",
             "linecolor": "#506784",
             "minorgridcolor": "#506784",
             "startlinecolor": "#A2B1C6"
            },
            "type": "carpet"
           }
          ],
          "choropleth": [
           {
            "colorbar": {
             "outlinewidth": 0,
             "ticks": ""
            },
            "type": "choropleth"
           }
          ],
          "contour": [
           {
            "colorbar": {
             "outlinewidth": 0,
             "ticks": ""
            },
            "colorscale": [
             [
              0,
              "#0d0887"
             ],
             [
              0.1111111111111111,
              "#46039f"
             ],
             [
              0.2222222222222222,
              "#7201a8"
             ],
             [
              0.3333333333333333,
              "#9c179e"
             ],
             [
              0.4444444444444444,
              "#bd3786"
             ],
             [
              0.5555555555555556,
              "#d8576b"
             ],
             [
              0.6666666666666666,
              "#ed7953"
             ],
             [
              0.7777777777777778,
              "#fb9f3a"
             ],
             [
              0.8888888888888888,
              "#fdca26"
             ],
             [
              1,
              "#f0f921"
             ]
            ],
            "type": "contour"
           }
          ],
          "contourcarpet": [
           {
            "colorbar": {
             "outlinewidth": 0,
             "ticks": ""
            },
            "type": "contourcarpet"
           }
          ],
          "heatmap": [
           {
            "colorbar": {
             "outlinewidth": 0,
             "ticks": ""
            },
            "colorscale": [
             [
              0,
              "#0d0887"
             ],
             [
              0.1111111111111111,
              "#46039f"
             ],
             [
              0.2222222222222222,
              "#7201a8"
             ],
             [
              0.3333333333333333,
              "#9c179e"
             ],
             [
              0.4444444444444444,
              "#bd3786"
             ],
             [
              0.5555555555555556,
              "#d8576b"
             ],
             [
              0.6666666666666666,
              "#ed7953"
             ],
             [
              0.7777777777777778,
              "#fb9f3a"
             ],
             [
              0.8888888888888888,
              "#fdca26"
             ],
             [
              1,
              "#f0f921"
             ]
            ],
            "type": "heatmap"
           }
          ],
          "histogram": [
           {
            "marker": {
             "pattern": {
              "fillmode": "overlay",
              "size": 10,
              "solidity": 0.2
             }
            },
            "type": "histogram"
           }
          ],
          "histogram2d": [
           {
            "colorbar": {
             "outlinewidth": 0,
             "ticks": ""
            },
            "colorscale": [
             [
              0,
              "#0d0887"
             ],
             [
              0.1111111111111111,
              "#46039f"
             ],
             [
              0.2222222222222222,
              "#7201a8"
             ],
             [
              0.3333333333333333,
              "#9c179e"
             ],
             [
              0.4444444444444444,
              "#bd3786"
             ],
             [
              0.5555555555555556,
              "#d8576b"
             ],
             [
              0.6666666666666666,
              "#ed7953"
             ],
             [
              0.7777777777777778,
              "#fb9f3a"
             ],
             [
              0.8888888888888888,
              "#fdca26"
             ],
             [
              1,
              "#f0f921"
             ]
            ],
            "type": "histogram2d"
           }
          ],
          "histogram2dcontour": [
           {
            "colorbar": {
             "outlinewidth": 0,
             "ticks": ""
            },
            "colorscale": [
             [
              0,
              "#0d0887"
             ],
             [
              0.1111111111111111,
              "#46039f"
             ],
             [
              0.2222222222222222,
              "#7201a8"
             ],
             [
              0.3333333333333333,
              "#9c179e"
             ],
             [
              0.4444444444444444,
              "#bd3786"
             ],
             [
              0.5555555555555556,
              "#d8576b"
             ],
             [
              0.6666666666666666,
              "#ed7953"
             ],
             [
              0.7777777777777778,
              "#fb9f3a"
             ],
             [
              0.8888888888888888,
              "#fdca26"
             ],
             [
              1,
              "#f0f921"
             ]
            ],
            "type": "histogram2dcontour"
           }
          ],
          "mesh3d": [
           {
            "colorbar": {
             "outlinewidth": 0,
             "ticks": ""
            },
            "type": "mesh3d"
           }
          ],
          "parcoords": [
           {
            "line": {
             "colorbar": {
              "outlinewidth": 0,
              "ticks": ""
             }
            },
            "type": "parcoords"
           }
          ],
          "pie": [
           {
            "automargin": true,
            "type": "pie"
           }
          ],
          "scatter": [
           {
            "marker": {
             "line": {
              "color": "#283442"
             }
            },
            "type": "scatter"
           }
          ],
          "scatter3d": [
           {
            "line": {
             "colorbar": {
              "outlinewidth": 0,
              "ticks": ""
             }
            },
            "marker": {
             "colorbar": {
              "outlinewidth": 0,
              "ticks": ""
             }
            },
            "type": "scatter3d"
           }
          ],
          "scattercarpet": [
           {
            "marker": {
             "colorbar": {
              "outlinewidth": 0,
              "ticks": ""
             }
            },
            "type": "scattercarpet"
           }
          ],
          "scattergeo": [
           {
            "marker": {
             "colorbar": {
              "outlinewidth": 0,
              "ticks": ""
             }
            },
            "type": "scattergeo"
           }
          ],
          "scattergl": [
           {
            "marker": {
             "line": {
              "color": "#283442"
             }
            },
            "type": "scattergl"
           }
          ],
          "scattermap": [
           {
            "marker": {
             "colorbar": {
              "outlinewidth": 0,
              "ticks": ""
             }
            },
            "type": "scattermap"
           }
          ],
          "scattermapbox": [
           {
            "marker": {
             "colorbar": {
              "outlinewidth": 0,
              "ticks": ""
             }
            },
            "type": "scattermapbox"
           }
          ],
          "scatterpolar": [
           {
            "marker": {
             "colorbar": {
              "outlinewidth": 0,
              "ticks": ""
             }
            },
            "type": "scatterpolar"
           }
          ],
          "scatterpolargl": [
           {
            "marker": {
             "colorbar": {
              "outlinewidth": 0,
              "ticks": ""
             }
            },
            "type": "scatterpolargl"
           }
          ],
          "scatterternary": [
           {
            "marker": {
             "colorbar": {
              "outlinewidth": 0,
              "ticks": ""
             }
            },
            "type": "scatterternary"
           }
          ],
          "surface": [
           {
            "colorbar": {
             "outlinewidth": 0,
             "ticks": ""
            },
            "colorscale": [
             [
              0,
              "#0d0887"
             ],
             [
              0.1111111111111111,
              "#46039f"
             ],
             [
              0.2222222222222222,
              "#7201a8"
             ],
             [
              0.3333333333333333,
              "#9c179e"
             ],
             [
              0.4444444444444444,
              "#bd3786"
             ],
             [
              0.5555555555555556,
              "#d8576b"
             ],
             [
              0.6666666666666666,
              "#ed7953"
             ],
             [
              0.7777777777777778,
              "#fb9f3a"
             ],
             [
              0.8888888888888888,
              "#fdca26"
             ],
             [
              1,
              "#f0f921"
             ]
            ],
            "type": "surface"
           }
          ],
          "table": [
           {
            "cells": {
             "fill": {
              "color": "#506784"
             },
             "line": {
              "color": "rgb(17,17,17)"
             }
            },
            "header": {
             "fill": {
              "color": "#2a3f5f"
             },
             "line": {
              "color": "rgb(17,17,17)"
             }
            },
            "type": "table"
           }
          ]
         },
         "layout": {
          "annotationdefaults": {
           "arrowcolor": "#f2f5fa",
           "arrowhead": 0,
           "arrowwidth": 1
          },
          "autotypenumbers": "strict",
          "coloraxis": {
           "colorbar": {
            "outlinewidth": 0,
            "ticks": ""
           }
          },
          "colorscale": {
           "diverging": [
            [
             0,
             "#8e0152"
            ],
            [
             0.1,
             "#c51b7d"
            ],
            [
             0.2,
             "#de77ae"
            ],
            [
             0.3,
             "#f1b6da"
            ],
            [
             0.4,
             "#fde0ef"
            ],
            [
             0.5,
             "#f7f7f7"
            ],
            [
             0.6,
             "#e6f5d0"
            ],
            [
             0.7,
             "#b8e186"
            ],
            [
             0.8,
             "#7fbc41"
            ],
            [
             0.9,
             "#4d9221"
            ],
            [
             1,
             "#276419"
            ]
           ],
           "sequential": [
            [
             0,
             "#0d0887"
            ],
            [
             0.1111111111111111,
             "#46039f"
            ],
            [
             0.2222222222222222,
             "#7201a8"
            ],
            [
             0.3333333333333333,
             "#9c179e"
            ],
            [
             0.4444444444444444,
             "#bd3786"
            ],
            [
             0.5555555555555556,
             "#d8576b"
            ],
            [
             0.6666666666666666,
             "#ed7953"
            ],
            [
             0.7777777777777778,
             "#fb9f3a"
            ],
            [
             0.8888888888888888,
             "#fdca26"
            ],
            [
             1,
             "#f0f921"
            ]
           ],
           "sequentialminus": [
            [
             0,
             "#0d0887"
            ],
            [
             0.1111111111111111,
             "#46039f"
            ],
            [
             0.2222222222222222,
             "#7201a8"
            ],
            [
             0.3333333333333333,
             "#9c179e"
            ],
            [
             0.4444444444444444,
             "#bd3786"
            ],
            [
             0.5555555555555556,
             "#d8576b"
            ],
            [
             0.6666666666666666,
             "#ed7953"
            ],
            [
             0.7777777777777778,
             "#fb9f3a"
            ],
            [
             0.8888888888888888,
             "#fdca26"
            ],
            [
             1,
             "#f0f921"
            ]
           ]
          },
          "colorway": [
           "#636efa",
           "#EF553B",
           "#00cc96",
           "#ab63fa",
           "#FFA15A",
           "#19d3f3",
           "#FF6692",
           "#B6E880",
           "#FF97FF",
           "#FECB52"
          ],
          "font": {
           "color": "#f2f5fa"
          },
          "geo": {
           "bgcolor": "rgb(17,17,17)",
           "lakecolor": "rgb(17,17,17)",
           "landcolor": "rgb(17,17,17)",
           "showlakes": true,
           "showland": true,
           "subunitcolor": "#506784"
          },
          "hoverlabel": {
           "align": "left"
          },
          "hovermode": "closest",
          "mapbox": {
           "style": "dark"
          },
          "paper_bgcolor": "rgb(17,17,17)",
          "plot_bgcolor": "rgb(17,17,17)",
          "polar": {
           "angularaxis": {
            "gridcolor": "#506784",
            "linecolor": "#506784",
            "ticks": ""
           },
           "bgcolor": "rgb(17,17,17)",
           "radialaxis": {
            "gridcolor": "#506784",
            "linecolor": "#506784",
            "ticks": ""
           }
          },
          "scene": {
           "xaxis": {
            "backgroundcolor": "rgb(17,17,17)",
            "gridcolor": "#506784",
            "gridwidth": 2,
            "linecolor": "#506784",
            "showbackground": true,
            "ticks": "",
            "zerolinecolor": "#C8D4E3"
           },
           "yaxis": {
            "backgroundcolor": "rgb(17,17,17)",
            "gridcolor": "#506784",
            "gridwidth": 2,
            "linecolor": "#506784",
            "showbackground": true,
            "ticks": "",
            "zerolinecolor": "#C8D4E3"
           },
           "zaxis": {
            "backgroundcolor": "rgb(17,17,17)",
            "gridcolor": "#506784",
            "gridwidth": 2,
            "linecolor": "#506784",
            "showbackground": true,
            "ticks": "",
            "zerolinecolor": "#C8D4E3"
           }
          },
          "shapedefaults": {
           "line": {
            "color": "#f2f5fa"
           }
          },
          "sliderdefaults": {
           "bgcolor": "#C8D4E3",
           "bordercolor": "rgb(17,17,17)",
           "borderwidth": 1,
           "tickwidth": 0
          },
          "ternary": {
           "aaxis": {
            "gridcolor": "#506784",
            "linecolor": "#506784",
            "ticks": ""
           },
           "baxis": {
            "gridcolor": "#506784",
            "linecolor": "#506784",
            "ticks": ""
           },
           "bgcolor": "rgb(17,17,17)",
           "caxis": {
            "gridcolor": "#506784",
            "linecolor": "#506784",
            "ticks": ""
           }
          },
          "title": {
           "x": 0.05
          },
          "updatemenudefaults": {
           "bgcolor": "#506784",
           "borderwidth": 0
          },
          "xaxis": {
           "automargin": true,
           "gridcolor": "#283442",
           "linecolor": "#506784",
           "ticks": "",
           "title": {
            "standoff": 15
           },
           "zerolinecolor": "#283442",
           "zerolinewidth": 2
          },
          "yaxis": {
           "automargin": true,
           "gridcolor": "#283442",
           "linecolor": "#506784",
           "ticks": "",
           "title": {
            "standoff": 15
           },
           "zerolinecolor": "#283442",
           "zerolinewidth": 2
          }
         }
        },
        "title": {
         "text": "Monthly CO2 Emissions from International and Domestic Flights"
        },
        "xaxis": {
         "title": {
          "text": "Date (Years)"
         }
        },
        "yaxis": {
         "title": {
          "text": "CO2 Emissions (Million Tonnes)"
         }
        }
       }
      }
     },
     "metadata": {},
     "output_type": "display_data"
    }
   ],
   "source": [
    "import plotly.express as px\n",
    "import plotly.graph_objects as go\n",
    "\n",
    "fig = go.Figure()\n",
    "\n",
    "fig.add_trace(go.Scatter(x=co2.index, y=co2['total'], mode='lines+markers', name='Total CO₂'))\n",
    "\n",
    "fig.update_layout(title = 'Monthly CO2 Emissions from International and Domestic Flights',\n",
    "                  xaxis_title = 'Date (Years)',\n",
    "                  yaxis_title = 'CO2 Emissions (Million Tonnes)',\n",
    "                  template = 'plotly_dark')\n",
    "\n",
    "fig.add_vrect(x0=\"2020-01-01\", x1=\"2020-12-31\", \n",
    "              fillcolor=\"red\", opacity=0.3, \n",
    "              layer=\"below\", line_width=0)\n",
    "\n",
    "co2['rolling_mean'] = co2['total'].rolling(window=6).mean()\n",
    "fig.add_trace(go.Scatter(x=co2.index, y=co2['rolling_mean'], mode='lines', name='6-Month Moving Avg'))\n",
    "\n",
    "fig.show()"
   ]
  },
  {
   "cell_type": "markdown",
   "metadata": {},
   "source": [
    "ACF Plot"
   ]
  },
  {
   "cell_type": "code",
   "execution_count": 84,
   "metadata": {},
   "outputs": [
    {
     "data": {
      "text/plain": [
       "<Figure size 800x500 with 0 Axes>"
      ]
     },
     "metadata": {},
     "output_type": "display_data"
    },
    {
     "data": {
      "image/png": "[encoded data removed]",
      "text/plain": [
       "<Figure size 640x480 with 1 Axes>"
      ]
     },
     "metadata": {},
     "output_type": "display_data"
    }
   ],
   "source": [
    "from statsmodels.graphics.tsaplots import plot_acf\n",
    "import matplotlib.pyplot as plt\n",
    "\n",
    "# Plot ACF of Apple closing prices\n",
    "plt.figure(figsize=(8, 5))\n",
    "plot_acf(co2['total'], lags=40)\n",
    "plt.title(\"ACF of CO2 Emissions\")\n",
    "plt.show()"
   ]
  },
  {
   "cell_type": "markdown",
   "metadata": {},
   "source": [
    "Log Transformation (Due to High Spikes from Covid 19)"
   ]
  },
  {
   "cell_type": "code",
   "execution_count": 130,
   "metadata": {},
   "outputs": [],
   "source": [
    "import numpy as np\n",
    "co2[\"log_total\"] = np.log(co2[\"total\"])"
   ]
  },
  {
   "cell_type": "markdown",
   "metadata": {},
   "source": [
    "Decomposition"
   ]
  },
  {
   "cell_type": "code",
   "execution_count": 87,
   "metadata": {},
   "outputs": [
    {
     "data": {
      "image/png": "[encoded data removed]",
      "text/plain": [
       "<Figure size 1400x1000 with 8 Axes>"
      ]
     },
     "metadata": {},
     "output_type": "display_data"
    }
   ],
   "source": [
    "import numpy as np\n",
    "import pandas as pd\n",
    "import matplotlib.pyplot as plt\n",
    "from statsmodels.tsa.seasonal import seasonal_decompose\n",
    "from statsmodels.tsa.stattools import adfuller\n",
    "from statsmodels.graphics.tsaplots import plot_acf, plot_pacf\n",
    "from statsmodels.stats.diagnostic import acorr_ljungbox\n",
    "\n",
    "# ---  Apply Additive and Multiplicative Decomposition ---\n",
    "additive_decomposition = seasonal_decompose(co2[\"log_total\"], model=\"additive\", period=12)\n",
    "multiplicative_decomposition = seasonal_decompose(co2[\"log_total\"], model=\"multiplicative\", period=12)\n",
    "\n",
    "# Plot both decompositions side by side\n",
    "fig, axes = plt.subplots(4, 2, figsize=(14, 10), sharex=True)\n",
    "\n",
    "# Additive Decomposition Plots\n",
    "axes[0, 0].plot(co2.index, co2[\"log_total\"], color=\"black\")\n",
    "axes[0, 0].set_title(\"Original Time Series\")\n",
    "\n",
    "axes[1, 0].plot(co2.index, additive_decomposition.trend, color=\"blue\")\n",
    "axes[1, 0].set_title(\"Additive Trend Component\")\n",
    "\n",
    "axes[2, 0].plot(co2.index, additive_decomposition.seasonal, color=\"green\")\n",
    "axes[2, 0].set_title(\"Additive Seasonal Component\")\n",
    "\n",
    "axes[3, 0].plot(co2.index, additive_decomposition.resid, color=\"red\")\n",
    "axes[3, 0].set_title(\"Additive Residual Component\")\n",
    "\n",
    "# Multiplicative Decomposition Plots\n",
    "axes[0, 1].plot(co2.index, co2[\"log_total\"], color=\"black\")\n",
    "axes[0, 1].set_title(\"Original Time Series\")\n",
    "\n",
    "axes[1, 1].plot(co2.index, multiplicative_decomposition.trend, color=\"blue\")\n",
    "axes[1, 1].set_title(\"Multiplicative Trend Component\")\n",
    "\n",
    "axes[2, 1].plot(co2.index, multiplicative_decomposition.seasonal, color=\"green\")\n",
    "axes[2, 1].set_title(\"Multiplicative Seasonal Component\")\n",
    "\n",
    "axes[3, 1].plot(co2.index, multiplicative_decomposition.resid, color=\"red\")\n",
    "axes[3, 1].set_title(\"Multiplicative Residual Component\")\n",
    "\n",
    "plt.tight_layout()\n",
    "plt.show()"
   ]
  },
  {
   "cell_type": "markdown",
   "metadata": {},
   "source": [
    "ADF Test (Both \"Add\" & \"Mul\" Work. \"Add\" for Interpretation) "
   ]
  },
  {
   "cell_type": "code",
   "execution_count": 88,
   "metadata": {},
   "outputs": [
    {
     "name": "stdout",
     "output_type": "stream",
     "text": [
      "ADF Statistic: -4.5171\n",
      "p-value: 0.0002\n"
     ]
    }
   ],
   "source": [
    "# --- Perform ADF Test on Residuals (Assuming Additive is Best) ---\n",
    "residuals = additive_decomposition.resid.dropna()\n",
    "adf_result = adfuller(residuals)\n",
    "\n",
    "print(f\"ADF Statistic: {adf_result[0]:.4f}\")\n",
    "print(f\"p-value: {adf_result[1]:.4f}\")"
   ]
  },
  {
   "cell_type": "markdown",
   "metadata": {},
   "source": [
    "ACF & PACF if Residuals"
   ]
  },
  {
   "cell_type": "code",
   "execution_count": 89,
   "metadata": {},
   "outputs": [
    {
     "data": {
      "image/png": "[encoded data removed]",
      "text/plain": [
       "<Figure size 1200x500 with 2 Axes>"
      ]
     },
     "metadata": {},
     "output_type": "display_data"
    }
   ],
   "source": [
    "# ---  ACF and PACF Plots of Residuals ---\n",
    "fig, axes = plt.subplots(1, 2, figsize=(12, 5))\n",
    "\n",
    "# ACF plot\n",
    "plot_acf(residuals, lags=23, ax=axes[0])\n",
    "axes[0].set_title(\"ACF of Residuals\")\n",
    "\n",
    "# PACF plot\n",
    "plot_pacf(residuals, lags=23, ax=axes[1])\n",
    "axes[1].set_title(\"PACF of Residuals\")\n",
    "\n",
    "plt.tight_layout()\n",
    "plt.show()"
   ]
  },
  {
   "cell_type": "markdown",
   "metadata": {},
   "source": [
    "Model Evaluation"
   ]
  },
  {
   "cell_type": "code",
   "execution_count": 91,
   "metadata": {},
   "outputs": [
    {
     "name": "stdout",
     "output_type": "stream",
     "text": [
      "ARMA(2,2) AIC: -20.85085434291497 BIC: -8.28478696958237\n",
      "ARMA(1,1) AIC: -23.3406119890074 BIC: -14.963233740118998\n",
      "ARMA(2,1) AIC: -21.76750889171185 BIC: -11.295786080601346\n",
      "ARMA(1,2) AIC: -22.78704434147169 BIC: -12.315321530361189\n",
      "ARMA(3,2) AIC: -22.80428524226086 BIC: -8.143873306706158\n"
     ]
    }
   ],
   "source": [
    "from statsmodels.tsa.arima.model import ARIMA\n",
    "\n",
    "arma_22 = ARIMA(co2['log_total'], order=(2, 0, 2)).fit()\n",
    "\n",
    "# 1. ARMA(1,1)\n",
    "arma_11 = ARIMA(co2['log_total'], order=(1, 0, 1)).fit()\n",
    "\n",
    "# 2. ARMA(2,1)\n",
    "arma_21 = ARIMA(co2['log_total'], order=(2, 0, 1)).fit()\n",
    "\n",
    "# 3. ARMA(1,2)\n",
    "arma_12 = ARIMA(co2['log_total'], order=(1, 0, 2)).fit()\n",
    "\n",
    "arma_32 = ARIMA(co2['log_total'], order=(3, 0, 2)).fit()\n",
    "\n",
    "# Print summaries\n",
    "print(\"ARMA(2,2) AIC:\", arma_22.aic, \"BIC:\", arma_22.bic)\n",
    "print(\"ARMA(1,1) AIC:\", arma_11.aic, \"BIC:\", arma_11.bic)\n",
    "print(\"ARMA(2,1) AIC:\", arma_21.aic, \"BIC:\", arma_21.bic)\n",
    "print(\"ARMA(1,2) AIC:\", arma_12.aic, \"BIC:\", arma_12.bic)\n",
    "print(\"ARMA(3,2) AIC:\", arma_32.aic, \"BIC:\", arma_32.bic)"
   ]
  },
  {
   "cell_type": "markdown",
   "metadata": {},
   "source": [
    "ARMA(1, 0, 1) Lowest BIC & AIC"
   ]
  },
  {
   "cell_type": "code",
   "execution_count": 92,
   "metadata": {},
   "outputs": [
    {
     "name": "stdout",
     "output_type": "stream",
     "text": [
      "                               SARIMAX Results                                \n",
      "==============================================================================\n",
      "Dep. Variable:              log_total   No. Observations:                   60\n",
      "Model:                 ARIMA(1, 0, 1)   Log Likelihood                  15.670\n",
      "Date:                Mon, 03 Mar 2025   AIC                            -23.341\n",
      "Time:                        20:16:44   BIC                            -14.963\n",
      "Sample:                             0   HQIC                           -20.064\n",
      "                                 - 60                                         \n",
      "Covariance Type:                  opg                                         \n",
      "==============================================================================\n",
      "                 coef    std err          z      P>|z|      [0.025      0.975]\n",
      "------------------------------------------------------------------------------\n",
      "const         17.7617      0.313     56.688      0.000      17.148      18.376\n",
      "ar.L1          0.8417      0.166      5.064      0.000       0.516       1.167\n",
      "ma.L1          0.1360      0.239      0.570      0.569      -0.332       0.604\n",
      "sigma2         0.0339      0.003     10.807      0.000       0.028       0.040\n",
      "===================================================================================\n",
      "Ljung-Box (L1) (Q):                   0.02   Jarque-Bera (JB):              2403.71\n",
      "Prob(Q):                              0.89   Prob(JB):                         0.00\n",
      "Heteroskedasticity (H):               0.06   Skew:                            -4.83\n",
      "Prob(H) (two-sided):                  0.00   Kurtosis:                        32.46\n",
      "===================================================================================\n",
      "\n",
      "Warnings:\n",
      "[1] Covariance matrix calculated using the outer product of gradients (complex-step).\n"
     ]
    }
   ],
   "source": [
    "from statsmodels.tsa.arima.model import ARIMA\n",
    "import warnings\n",
    "warnings.filterwarnings(\"ignore\")\n",
    "\n",
    "# Fit ARMA(2,2)\n",
    "arma_model = ARIMA(co2['log_total'], order=(1, 0, 1))  # Using the original total emissions data\n",
    "arma_fit = arma_model.fit()\n",
    "\n",
    "# Print Model Summary\n",
    "print(arma_fit.summary())"
   ]
  },
  {
   "cell_type": "markdown",
   "metadata": {},
   "source": [
    "AR(1, 0) Simpler AR Model Lowest BIC / AIC (Best Choice)"
   ]
  },
  {
   "cell_type": "code",
   "execution_count": 93,
   "metadata": {},
   "outputs": [
    {
     "name": "stdout",
     "output_type": "stream",
     "text": [
      "                               SARIMAX Results                                \n",
      "==============================================================================\n",
      "Dep. Variable:              log_total   No. Observations:                   60\n",
      "Model:                 ARIMA(1, 0, 0)   Log Likelihood                  15.127\n",
      "Date:                Mon, 03 Mar 2025   AIC                            -24.254\n",
      "Time:                        20:16:44   BIC                            -17.971\n",
      "Sample:                             0   HQIC                           -21.796\n",
      "                                 - 60                                         \n",
      "Covariance Type:                  opg                                         \n",
      "==============================================================================\n",
      "                 coef    std err          z      P>|z|      [0.025      0.975]\n",
      "------------------------------------------------------------------------------\n",
      "const         17.7701      0.343     51.800      0.000      17.098      18.442\n",
      "ar.L1          0.8719      0.119      7.327      0.000       0.639       1.105\n",
      "sigma2         0.0345      0.003     12.607      0.000       0.029       0.040\n",
      "===================================================================================\n",
      "Ljung-Box (L1) (Q):                   1.11   Jarque-Bera (JB):              2669.72\n",
      "Prob(Q):                              0.29   Prob(JB):                         0.00\n",
      "Heteroskedasticity (H):               0.06   Skew:                            -5.04\n",
      "Prob(H) (two-sided):                  0.00   Kurtosis:                        34.08\n",
      "===================================================================================\n",
      "\n",
      "Warnings:\n",
      "[1] Covariance matrix calculated using the outer product of gradients (complex-step).\n"
     ]
    }
   ],
   "source": [
    "from statsmodels.tsa.arima.model import ARIMA\n",
    "\n",
    "# Fit ARMA(1,0)\n",
    "arma_10 = ARIMA(co2['log_total'], order=(1, 0, 0)).fit()\n",
    "\n",
    "# Print summary\n",
    "print(arma_10.summary())"
   ]
  },
  {
   "cell_type": "markdown",
   "metadata": {},
   "source": [
    "Residual Analysis"
   ]
  },
  {
   "cell_type": "code",
   "execution_count": 94,
   "metadata": {},
   "outputs": [
    {
     "data": {
      "image/png": "[encoded data removed]",
      "text/plain": [
       "<Figure size 1200x1000 with 4 Axes>"
      ]
     },
     "metadata": {},
     "output_type": "display_data"
    }
   ],
   "source": [
    "import statsmodels.api as sm\n",
    "\n",
    "# Fit an AR(1) model (for example) and obtain residuals\n",
    "model = ARIMA(co2['log_total'], order=(1, 0, 0))\n",
    "results = model.fit()\n",
    "resid = results.resid\n",
    "\n",
    "# Create a 2x2 grid of plots\n",
    "fig, axes = plt.subplots(2, 2, figsize=(12, 10))\n",
    "\n",
    "# 1. Time series plot of the residuals\n",
    "axes[0, 0].plot(resid)\n",
    "axes[0, 0].set_title(\"Residuals Time Series\")\n",
    "axes[0, 0].set_xlabel(\"Date\")\n",
    "axes[0, 0].set_ylabel(\"Residuals\")\n",
    "\n",
    "# 2. ACF plot of the residuals\n",
    "plot_acf(resid, ax=axes[0, 1])\n",
    "axes[0, 1].set_title(\"ACF of Residuals\")\n",
    "\n",
    "# 3. ACF plot of the squared residuals\n",
    "plot_acf(resid**2, ax=axes[1, 0])\n",
    "axes[1, 0].set_title(\"ACF of Squared Residuals\")\n",
    "\n",
    "# 4. QQ-plot of the residuals\n",
    "sm.qqplot(resid, line='s', ax=axes[1, 1])\n",
    "axes[1, 1].set_title(\"QQ-Plot of Residuals\")\n",
    "\n",
    "plt.tight_layout()\n",
    "plt.show()"
   ]
  },
  {
   "cell_type": "markdown",
   "metadata": {},
   "source": [
    "SARIMA for fun"
   ]
  },
  {
   "cell_type": "code",
   "execution_count": 95,
   "metadata": {},
   "outputs": [
    {
     "name": "stdout",
     "output_type": "stream",
     "text": [
      "                                     SARIMAX Results                                      \n",
      "==========================================================================================\n",
      "Dep. Variable:                          log_total   No. Observations:                   60\n",
      "Model:             SARIMAX(1, 0, 1)x(1, 0, 1, 12)   Log Likelihood                   9.545\n",
      "Date:                            Mon, 03 Mar 2025   AIC                             -9.089\n",
      "Time:                                    20:16:45   BIC                              1.382\n",
      "Sample:                                         0   HQIC                            -4.993\n",
      "                                             - 60                                         \n",
      "Covariance Type:                              opg                                         \n",
      "==============================================================================\n",
      "                 coef    std err          z      P>|z|      [0.025      0.975]\n",
      "------------------------------------------------------------------------------\n",
      "ar.L1          1.0000      0.000   4388.504      0.000       1.000       1.000\n",
      "ma.L1          0.0917      0.080      1.153      0.249      -0.064       0.248\n",
      "ar.S.L12       0.7332      4.025      0.182      0.855      -7.156       8.622\n",
      "ma.S.L12      -0.6690      4.209     -0.159      0.874      -8.919       7.581\n",
      "sigma2         0.0359      0.004      9.358      0.000       0.028       0.043\n",
      "===================================================================================\n",
      "Ljung-Box (L1) (Q):                   0.00   Jarque-Bera (JB):              1851.98\n",
      "Prob(Q):                              0.95   Prob(JB):                         0.00\n",
      "Heteroskedasticity (H):               0.04   Skew:                            -4.22\n",
      "Prob(H) (two-sided):                  0.00   Kurtosis:                        28.87\n",
      "===================================================================================\n",
      "\n",
      "Warnings:\n",
      "[1] Covariance matrix calculated using the outer product of gradients (complex-step).\n"
     ]
    }
   ],
   "source": [
    "from statsmodels.tsa.statespace.sarimax import SARIMAX\n",
    "\n",
    "# Define SARIMA Model (Using Seasonal Component)\n",
    "sarima_model = SARIMAX(co2['log_total'], order=(1, 0, 1), seasonal_order=(1, 0, 1, 12)).fit()\n",
    "\n",
    "# Print summary\n",
    "print(sarima_model.summary())"
   ]
  },
  {
   "cell_type": "markdown",
   "metadata": {},
   "source": [
    "Forecasting In-sample & Out-of-sample Data (One Step Ahead & 12 Month Forecasting)"
   ]
  },
  {
   "cell_type": "code",
   "execution_count": null,
   "metadata": {},
   "outputs": [
    {
     "data": {
      "application/vnd.plotly.v1+json": {
       "config": {
        "plotlyServerURL": "https://plot.ly"
       },
       "data": [
        {
         "line": {
          "color": "blue"
         },
         "mode": "lines",
         "name": "Actual CO2 Emissions",
         "type": "scatter",
         "x": [
          "2019-01-15T00:00:00.000000000",
          "2019-02-15T00:00:00.000000000",
          "2019-03-15T00:00:00.000000000",
          "2019-04-15T00:00:00.000000000",
          "2019-05-15T00:00:00.000000000",
          "2019-06-15T00:00:00.000000000",
          "2019-07-15T00:00:00.000000000",
          "2019-08-15T00:00:00.000000000",
          "2019-09-15T00:00:00.000000000",
          "2019-10-15T00:00:00.000000000",
          "2019-11-15T00:00:00.000000000",
          "2019-12-15T00:00:00.000000000",
          "2020-01-15T00:00:00.000000000",
          "2020-02-15T00:00:00.000000000",
          "2020-03-15T00:00:00.000000000",
          "2020-04-15T00:00:00.000000000",
          "2020-05-15T00:00:00.000000000",
          "2020-06-15T00:00:00.000000000",
          "2020-07-15T00:00:00.000000000",
          "2020-08-15T00:00:00.000000000",
          "2020-09-15T00:00:00.000000000",
          "2020-10-15T00:00:00.000000000",
          "2020-11-15T00:00:00.000000000",
          "2020-12-15T00:00:00.000000000",
          "2021-01-15T00:00:00.000000000",
          "2021-02-15T00:00:00.000000000",
          "2021-03-15T00:00:00.000000000",
          "2021-04-15T00:00:00.000000000",
          "2021-05-15T00:00:00.000000000",
          "2021-06-15T00:00:00.000000000",
          "2021-07-15T00:00:00.000000000",
          "2021-08-15T00:00:00.000000000",
          "2021-09-15T00:00:00.000000000",
          "2021-10-15T00:00:00.000000000",
          "2021-11-15T00:00:00.000000000",
          "2021-12-15T00:00:00.000000000",
          "2022-01-15T00:00:00.000000000",
          "2022-02-15T00:00:00.000000000",
          "2022-03-15T00:00:00.000000000",
          "2022-04-15T00:00:00.000000000",
          "2022-05-15T00:00:00.000000000",
          "2022-06-15T00:00:00.000000000",
          "2022-07-15T00:00:00.000000000",
          "2022-08-15T00:00:00.000000000",
          "2022-09-15T00:00:00.000000000",
          "2022-10-15T00:00:00.000000000",
          "2022-11-15T00:00:00.000000000",
          "2022-12-15T00:00:00.000000000",
          "2023-01-15T00:00:00.000000000",
          "2023-02-15T00:00:00.000000000",
          "2023-03-15T00:00:00.000000000",
          "2023-04-15T00:00:00.000000000",
          "2023-05-15T00:00:00.000000000",
          "2023-06-15T00:00:00.000000000",
          "2023-07-15T00:00:00.000000000",
          "2023-08-15T00:00:00.000000000",
          "2023-09-15T00:00:00.000000000",
          "2023-10-15T00:00:00.000000000",
          "2023-11-15T00:00:00.000000000",
          "2023-12-15T00:00:00.000000000"
         ],
         "y": {
          "bdata": "AQAAvP6fkEEBAABIuiKOQf3//7d+n45BBQAArHDJkEH8//9T426RQQUAAMQvyZFB9///m+wFk0EBAAAcYvqSQQUAALSQlZFB////E/iqkUH+//8DYUyQQf3//4sYQJFB+v//w/4fkUH4//+3uLyLQfj//+eKQYVBAAAA8ArDaEH8//8PW5FvQfr//6/zanNBAgAAoBOoekH+//+/lXV+QQAAACA2IH1B9P//L9bufkEBAAAwtox+QQYAABAgjYBB/v//L3EMfkEHAABw25p5QQcAAAjuxIBB/P//fywlgUH8///fDsSBQQQAAAikvoJBBAAAqBL2hUH3//93NV6FQQcAAGhSUIVBCwAASNFshkEHAADIeiKFQfj//ze74IZBAgAAuPCshUH9//9n7buDQf///7eaMIZBCgAAeFGNhkH1//839JSIQff//ydMyohBBAAAyOubjEHy//83aHSMQff//7fqMIpB/f//hxBFikEFAADITUSIQQAAAJhsA4pBBAAA6Eooi0H0//+nR5GIQQ0AABhm3ItB8///ByPojEH6//93bR2PQfj//8dvro9B/f//M5sYkUH7//+TByWRQfT//xew/o9BCAAADOMnkEEHAACY5daNQfv///fLdI9B",
          "dtype": "f8"
         }
        },
        {
         "line": {
          "color": "red",
          "dash": "dash"
         },
         "mode": "lines",
         "name": "In-Sample Prediction",
         "type": "scatter",
         "x": [
          "2019-01-15T00:00:00.000000000",
          "2019-02-15T00:00:00.000000000",
          "2019-03-15T00:00:00.000000000",
          "2019-04-15T00:00:00.000000000",
          "2019-05-15T00:00:00.000000000",
          "2019-06-15T00:00:00.000000000",
          "2019-07-15T00:00:00.000000000",
          "2019-08-15T00:00:00.000000000",
          "2019-09-15T00:00:00.000000000",
          "2019-10-15T00:00:00.000000000",
          "2019-11-15T00:00:00.000000000",
          "2019-12-15T00:00:00.000000000",
          "2020-01-15T00:00:00.000000000",
          "2020-02-15T00:00:00.000000000",
          "2020-03-15T00:00:00.000000000",
          "2020-04-15T00:00:00.000000000",
          "2020-05-15T00:00:00.000000000",
          "2020-06-15T00:00:00.000000000",
          "2020-07-15T00:00:00.000000000",
          "2020-08-15T00:00:00.000000000",
          "2020-09-15T00:00:00.000000000",
          "2020-10-15T00:00:00.000000000",
          "2020-11-15T00:00:00.000000000",
          "2020-12-15T00:00:00.000000000",
          "2021-01-15T00:00:00.000000000",
          "2021-02-15T00:00:00.000000000",
          "2021-03-15T00:00:00.000000000",
          "2021-04-15T00:00:00.000000000",
          "2021-05-15T00:00:00.000000000",
          "2021-06-15T00:00:00.000000000",
          "2021-07-15T00:00:00.000000000",
          "2021-08-15T00:00:00.000000000",
          "2021-09-15T00:00:00.000000000",
          "2021-10-15T00:00:00.000000000",
          "2021-11-15T00:00:00.000000000",
          "2021-12-15T00:00:00.000000000",
          "2022-01-15T00:00:00.000000000",
          "2022-02-15T00:00:00.000000000",
          "2022-03-15T00:00:00.000000000",
          "2022-04-15T00:00:00.000000000",
          "2022-05-15T00:00:00.000000000",
          "2022-06-15T00:00:00.000000000",
          "2022-07-15T00:00:00.000000000",
          "2022-08-15T00:00:00.000000000",
          "2022-09-15T00:00:00.000000000",
          "2022-10-15T00:00:00.000000000",
          "2022-11-15T00:00:00.000000000",
          "2022-12-15T00:00:00.000000000"
         ],
         "y": {
          "bdata": "LlVD9CJJh0FPkk/O3pSPQVUrrUqBCI1BNd7BbTdvjUGqh6rtLNiPQbWRhFf3cZBB6p9oH7u6kEFkTkVvWbiRQVm70aYmr5FBrzmytiiRkEG95weEZ6KQQRbM95vKDI9BBbs/LC1MkEFQ3WTbNzKQQZVbSixzC4tB+8iSFb2JhUGDhG75v/xtQRXYanaddHJBmQnNCOEIdkHaWKjtJOV8Qfph7rCHMYBB6EHOxYorf0Ea0JVcnWiAQeUC+sYLPIBBuW7kB2pjgUFFXQrVqQGAQbyibwvF6ntBcHiVRIWVgUEu4p2Mt+uBQcilDKtreYJBnHfNlHdXg0FoUnlJ2yWGQdwCFu6TooVBvqWTFIyWhUFukI7rJYyGQbg6ph7NboVBxlLA3bTvhkGiqn24s+aFQaOoQ3A2NoRBzCyDEFFYhkGpzv2RF6iGQcag12DhY4hBar9HiSGRiEHOWNL+NMWLQS6zXMhhpItBcesMSfG/iUFI8+li4tCJQUTWJkJcH4hB",
          "dtype": "f8"
         }
        },
        {
         "line": {
          "color": "green",
          "dash": "dot"
         },
         "mode": "lines",
         "name": "One-Step Forecast",
         "type": "scatter",
         "x": [
          "2023-01-15T00:00:00.000000000",
          "2023-02-15T00:00:00.000000000",
          "2023-03-15T00:00:00.000000000",
          "2023-04-15T00:00:00.000000000",
          "2023-05-15T00:00:00.000000000",
          "2023-06-15T00:00:00.000000000",
          "2023-07-15T00:00:00.000000000",
          "2023-08-15T00:00:00.000000000",
          "2023-09-15T00:00:00.000000000",
          "2023-10-15T00:00:00.000000000",
          "2023-11-15T00:00:00.000000000",
          "2023-12-15T00:00:00.000000000"
         ],
         "y": {
          "bdata": "/QOlwPuXikEgLHn5ul6IQcxISpXgNItBnkKxAmQejEE6jCz4kAeOQX5Dx/F3i45BI4x/5CtekEG1Rqjk+W6QQdzpsCWS7I5BUOrgu+A5j0HIJn3vaxuNQZyn3sxVho5B",
          "dtype": "f8"
         }
        },
        {
         "fill": "toself",
         "fillcolor": "rgba(0, 255, 0, 0.2)",
         "line": {
          "color": "rgba(255,255,255,0)"
         },
         "name": "95% Confidence Interval",
         "type": "scatter",
         "x": [
          "2023-01-15T00:00:00",
          "2023-02-15T00:00:00",
          "2023-03-15T00:00:00",
          "2023-04-15T00:00:00",
          "2023-05-15T00:00:00",
          "2023-06-15T00:00:00",
          "2023-07-15T00:00:00",
          "2023-08-15T00:00:00",
          "2023-09-15T00:00:00",
          "2023-10-15T00:00:00",
          "2023-11-15T00:00:00",
          "2023-12-15T00:00:00",
          "2023-12-15T00:00:00",
          "2023-11-15T00:00:00",
          "2023-10-15T00:00:00",
          "2023-09-15T00:00:00",
          "2023-08-15T00:00:00",
          "2023-07-15T00:00:00",
          "2023-06-15T00:00:00",
          "2023-05-15T00:00:00",
          "2023-04-15T00:00:00",
          "2023-03-15T00:00:00",
          "2023-02-15T00:00:00",
          "2023-01-15T00:00:00"
         ],
         "y": [
          84021169.11090396,
          76995695.78086823,
          85957484.98730437,
          88839405.62286565,
          94876598.29671589,
          96504478.42892534,
          103426545.96553285,
          103841338.30846056,
          97702873.44103535,
          98656962.54225135,
          91962203.60157841,
          96441124.53977261,
          42491463.54816005,
          40518074.01450853,
          43467750.37766631,
          43047383.625832155,
          45751959.6809184,
          45569204.307589054,
          42519376.9459394,
          41802141.33064932,
          39142185.28328559,
          37872425.870804444,
          33923907.63018053,
          37019295.05267654
         ]
        }
       ],
       "layout": {
        "hovermode": "x unified",
        "template": {
         "data": {
          "bar": [
           {
            "error_x": {
             "color": "#f2f5fa"
            },
            "error_y": {
             "color": "#f2f5fa"
            },
            "marker": {
             "line": {
              "color": "rgb(17,17,17)",
              "width": 0.5
             },
             "pattern": {
              "fillmode": "overlay",
              "size": 10,
              "solidity": 0.2
             }
            },
            "type": "bar"
           }
          ],
          "barpolar": [
           {
            "marker": {
             "line": {
              "color": "rgb(17,17,17)",
              "width": 0.5
             },
             "pattern": {
              "fillmode": "overlay",
              "size": 10,
              "solidity": 0.2
             }
            },
            "type": "barpolar"
           }
          ],
          "carpet": [
           {
            "aaxis": {
             "endlinecolor": "#A2B1C6",
             "gridcolor": "#506784",
             "linecolor": "#506784",
             "minorgridcolor": "#506784",
             "startlinecolor": "#A2B1C6"
            },
            "baxis": {
             "endlinecolor": "#A2B1C6",
             "gridcolor": "#506784",
             "linecolor": "#506784",
             "minorgridcolor": "#506784",
             "startlinecolor": "#A2B1C6"
            },
            "type": "carpet"
           }
          ],
          "choropleth": [
           {
            "colorbar": {
             "outlinewidth": 0,
             "ticks": ""
            },
            "type": "choropleth"
           }
          ],
          "contour": [
           {
            "colorbar": {
             "outlinewidth": 0,
             "ticks": ""
            },
            "colorscale": [
             [
              0,
              "#0d0887"
             ],
             [
              0.1111111111111111,
              "#46039f"
             ],
             [
              0.2222222222222222,
              "#7201a8"
             ],
             [
              0.3333333333333333,
              "#9c179e"
             ],
             [
              0.4444444444444444,
              "#bd3786"
             ],
             [
              0.5555555555555556,
              "#d8576b"
             ],
             [
              0.6666666666666666,
              "#ed7953"
             ],
             [
              0.7777777777777778,
              "#fb9f3a"
             ],
             [
              0.8888888888888888,
              "#fdca26"
             ],
             [
              1,
              "#f0f921"
             ]
            ],
            "type": "contour"
           }
          ],
          "contourcarpet": [
           {
            "colorbar": {
             "outlinewidth": 0,
             "ticks": ""
            },
            "type": "contourcarpet"
           }
          ],
          "heatmap": [
           {
            "colorbar": {
             "outlinewidth": 0,
             "ticks": ""
            },
            "colorscale": [
             [
              0,
              "#0d0887"
             ],
             [
              0.1111111111111111,
              "#46039f"
             ],
             [
              0.2222222222222222,
              "#7201a8"
             ],
             [
              0.3333333333333333,
              "#9c179e"
             ],
             [
              0.4444444444444444,
              "#bd3786"
             ],
             [
              0.5555555555555556,
              "#d8576b"
             ],
             [
              0.6666666666666666,
              "#ed7953"
             ],
             [
              0.7777777777777778,
              "#fb9f3a"
             ],
             [
              0.8888888888888888,
              "#fdca26"
             ],
             [
              1,
              "#f0f921"
             ]
            ],
            "type": "heatmap"
           }
          ],
          "histogram": [
           {
            "marker": {
             "pattern": {
              "fillmode": "overlay",
              "size": 10,
              "solidity": 0.2
             }
            },
            "type": "histogram"
           }
          ],
          "histogram2d": [
           {
            "colorbar": {
             "outlinewidth": 0,
             "ticks": ""
            },
            "colorscale": [
             [
              0,
              "#0d0887"
             ],
             [
              0.1111111111111111,
              "#46039f"
             ],
             [
              0.2222222222222222,
              "#7201a8"
             ],
             [
              0.3333333333333333,
              "#9c179e"
             ],
             [
              0.4444444444444444,
              "#bd3786"
             ],
             [
              0.5555555555555556,
              "#d8576b"
             ],
             [
              0.6666666666666666,
              "#ed7953"
             ],
             [
              0.7777777777777778,
              "#fb9f3a"
             ],
             [
              0.8888888888888888,
              "#fdca26"
             ],
             [
              1,
              "#f0f921"
             ]
            ],
            "type": "histogram2d"
           }
          ],
          "histogram2dcontour": [
           {
            "colorbar": {
             "outlinewidth": 0,
             "ticks": ""
            },
            "colorscale": [
             [
              0,
              "#0d0887"
             ],
             [
              0.1111111111111111,
              "#46039f"
             ],
             [
              0.2222222222222222,
              "#7201a8"
             ],
             [
              0.3333333333333333,
              "#9c179e"
             ],
             [
              0.4444444444444444,
              "#bd3786"
             ],
             [
              0.5555555555555556,
              "#d8576b"
             ],
             [
              0.6666666666666666,
              "#ed7953"
             ],
             [
              0.7777777777777778,
              "#fb9f3a"
             ],
             [
              0.8888888888888888,
              "#fdca26"
             ],
             [
              1,
              "#f0f921"
             ]
            ],
            "type": "histogram2dcontour"
           }
          ],
          "mesh3d": [
           {
            "colorbar": {
             "outlinewidth": 0,
             "ticks": ""
            },
            "type": "mesh3d"
           }
          ],
          "parcoords": [
           {
            "line": {
             "colorbar": {
              "outlinewidth": 0,
              "ticks": ""
             }
            },
            "type": "parcoords"
           }
          ],
          "pie": [
           {
            "automargin": true,
            "type": "pie"
           }
          ],
          "scatter": [
           {
            "marker": {
             "line": {
              "color": "#283442"
             }
            },
            "type": "scatter"
           }
          ],
          "scatter3d": [
           {
            "line": {
             "colorbar": {
              "outlinewidth": 0,
              "ticks": ""
             }
            },
            "marker": {
             "colorbar": {
              "outlinewidth": 0,
              "ticks": ""
             }
            },
            "type": "scatter3d"
           }
          ],
          "scattercarpet": [
           {
            "marker": {
             "colorbar": {
              "outlinewidth": 0,
              "ticks": ""
             }
            },
            "type": "scattercarpet"
           }
          ],
          "scattergeo": [
           {
            "marker": {
             "colorbar": {
              "outlinewidth": 0,
              "ticks": ""
             }
            },
            "type": "scattergeo"
           }
          ],
          "scattergl": [
           {
            "marker": {
             "line": {
              "color": "#283442"
             }
            },
            "type": "scattergl"
           }
          ],
          "scattermap": [
           {
            "marker": {
             "colorbar": {
              "outlinewidth": 0,
              "ticks": ""
             }
            },
            "type": "scattermap"
           }
          ],
          "scattermapbox": [
           {
            "marker": {
             "colorbar": {
              "outlinewidth": 0,
              "ticks": ""
             }
            },
            "type": "scattermapbox"
           }
          ],
          "scatterpolar": [
           {
            "marker": {
             "colorbar": {
              "outlinewidth": 0,
              "ticks": ""
             }
            },
            "type": "scatterpolar"
           }
          ],
          "scatterpolargl": [
           {
            "marker": {
             "colorbar": {
              "outlinewidth": 0,
              "ticks": ""
             }
            },
            "type": "scatterpolargl"
           }
          ],
          "scatterternary": [
           {
            "marker": {
             "colorbar": {
              "outlinewidth": 0,
              "ticks": ""
             }
            },
            "type": "scatterternary"
           }
          ],
          "surface": [
           {
            "colorbar": {
             "outlinewidth": 0,
             "ticks": ""
            },
            "colorscale": [
             [
              0,
              "#0d0887"
             ],
             [
              0.1111111111111111,
              "#46039f"
             ],
             [
              0.2222222222222222,
              "#7201a8"
             ],
             [
              0.3333333333333333,
              "#9c179e"
             ],
             [
              0.4444444444444444,
              "#bd3786"
             ],
             [
              0.5555555555555556,
              "#d8576b"
             ],
             [
              0.6666666666666666,
              "#ed7953"
             ],
             [
              0.7777777777777778,
              "#fb9f3a"
             ],
             [
              0.8888888888888888,
              "#fdca26"
             ],
             [
              1,
              "#f0f921"
             ]
            ],
            "type": "surface"
           }
          ],
          "table": [
           {
            "cells": {
             "fill": {
              "color": "#506784"
             },
             "line": {
              "color": "rgb(17,17,17)"
             }
            },
            "header": {
             "fill": {
              "color": "#2a3f5f"
             },
             "line": {
              "color": "rgb(17,17,17)"
             }
            },
            "type": "table"
           }
          ]
         },
         "layout": {
          "annotationdefaults": {
           "arrowcolor": "#f2f5fa",
           "arrowhead": 0,
           "arrowwidth": 1
          },
          "autotypenumbers": "strict",
          "coloraxis": {
           "colorbar": {
            "outlinewidth": 0,
            "ticks": ""
           }
          },
          "colorscale": {
           "diverging": [
            [
             0,
             "#8e0152"
            ],
            [
             0.1,
             "#c51b7d"
            ],
            [
             0.2,
             "#de77ae"
            ],
            [
             0.3,
             "#f1b6da"
            ],
            [
             0.4,
             "#fde0ef"
            ],
            [
             0.5,
             "#f7f7f7"
            ],
            [
             0.6,
             "#e6f5d0"
            ],
            [
             0.7,
             "#b8e186"
            ],
            [
             0.8,
             "#7fbc41"
            ],
            [
             0.9,
             "#4d9221"
            ],
            [
             1,
             "#276419"
            ]
           ],
           "sequential": [
            [
             0,
             "#0d0887"
            ],
            [
             0.1111111111111111,
             "#46039f"
            ],
            [
             0.2222222222222222,
             "#7201a8"
            ],
            [
             0.3333333333333333,
             "#9c179e"
            ],
            [
             0.4444444444444444,
             "#bd3786"
            ],
            [
             0.5555555555555556,
             "#d8576b"
            ],
            [
             0.6666666666666666,
             "#ed7953"
            ],
            [
             0.7777777777777778,
             "#fb9f3a"
            ],
            [
             0.8888888888888888,
             "#fdca26"
            ],
            [
             1,
             "#f0f921"
            ]
           ],
           "sequentialminus": [
            [
             0,
             "#0d0887"
            ],
            [
             0.1111111111111111,
             "#46039f"
            ],
            [
             0.2222222222222222,
             "#7201a8"
            ],
            [
             0.3333333333333333,
             "#9c179e"
            ],
            [
             0.4444444444444444,
             "#bd3786"
            ],
            [
             0.5555555555555556,
             "#d8576b"
            ],
            [
             0.6666666666666666,
             "#ed7953"
            ],
            [
             0.7777777777777778,
             "#fb9f3a"
            ],
            [
             0.8888888888888888,
             "#fdca26"
            ],
            [
             1,
             "#f0f921"
            ]
           ]
          },
          "colorway": [
           "#636efa",
           "#EF553B",
           "#00cc96",
           "#ab63fa",
           "#FFA15A",
           "#19d3f3",
           "#FF6692",
           "#B6E880",
           "#FF97FF",
           "#FECB52"
          ],
          "font": {
           "color": "#f2f5fa"
          },
          "geo": {
           "bgcolor": "rgb(17,17,17)",
           "lakecolor": "rgb(17,17,17)",
           "landcolor": "rgb(17,17,17)",
           "showlakes": true,
           "showland": true,
           "subunitcolor": "#506784"
          },
          "hoverlabel": {
           "align": "left"
          },
          "hovermode": "closest",
          "mapbox": {
           "style": "dark"
          },
          "paper_bgcolor": "rgb(17,17,17)",
          "plot_bgcolor": "rgb(17,17,17)",
          "polar": {
           "angularaxis": {
            "gridcolor": "#506784",
            "linecolor": "#506784",
            "ticks": ""
           },
           "bgcolor": "rgb(17,17,17)",
           "radialaxis": {
            "gridcolor": "#506784",
            "linecolor": "#506784",
            "ticks": ""
           }
          },
          "scene": {
           "xaxis": {
            "backgroundcolor": "rgb(17,17,17)",
            "gridcolor": "#506784",
            "gridwidth": 2,
            "linecolor": "#506784",
            "showbackground": true,
            "ticks": "",
            "zerolinecolor": "#C8D4E3"
           },
           "yaxis": {
            "backgroundcolor": "rgb(17,17,17)",
            "gridcolor": "#506784",
            "gridwidth": 2,
            "linecolor": "#506784",
            "showbackground": true,
            "ticks": "",
            "zerolinecolor": "#C8D4E3"
           },
           "zaxis": {
            "backgroundcolor": "rgb(17,17,17)",
            "gridcolor": "#506784",
            "gridwidth": 2,
            "linecolor": "#506784",
            "showbackground": true,
            "ticks": "",
            "zerolinecolor": "#C8D4E3"
           }
          },
          "shapedefaults": {
           "line": {
            "color": "#f2f5fa"
           }
          },
          "sliderdefaults": {
           "bgcolor": "#C8D4E3",
           "bordercolor": "rgb(17,17,17)",
           "borderwidth": 1,
           "tickwidth": 0
          },
          "ternary": {
           "aaxis": {
            "gridcolor": "#506784",
            "linecolor": "#506784",
            "ticks": ""
           },
           "baxis": {
            "gridcolor": "#506784",
            "linecolor": "#506784",
            "ticks": ""
           },
           "bgcolor": "rgb(17,17,17)",
           "caxis": {
            "gridcolor": "#506784",
            "linecolor": "#506784",
            "ticks": ""
           }
          },
          "title": {
           "x": 0.05
          },
          "updatemenudefaults": {
           "bgcolor": "#506784",
           "borderwidth": 0
          },
          "xaxis": {
           "automargin": true,
           "gridcolor": "#283442",
           "linecolor": "#506784",
           "ticks": "",
           "title": {
            "standoff": 15
           },
           "zerolinecolor": "#283442",
           "zerolinewidth": 2
          },
          "yaxis": {
           "automargin": true,
           "gridcolor": "#283442",
           "linecolor": "#506784",
           "ticks": "",
           "title": {
            "standoff": 15
           },
           "zerolinecolor": "#283442",
           "zerolinewidth": 2
          }
         }
        },
        "title": {
         "text": "Rolling One-Step Ahead Forecast for Monthly CO2 Emissions"
        },
        "xaxis": {
         "title": {
          "text": "Date (Months)"
         }
        },
        "yaxis": {
         "title": {
          "text": "CO2 Emissions (Million Tonnes)"
         }
        }
       }
      }
     },
     "metadata": {},
     "output_type": "display_data"
    },
    {
     "data": {
      "application/vnd.plotly.v1+json": {
       "config": {
        "plotlyServerURL": "https://plot.ly"
       },
       "data": [
        {
         "line": {
          "color": "blue"
         },
         "mode": "lines",
         "name": "Actual CO2 Emissions",
         "type": "scatter",
         "x": [
          "2019-01-15T00:00:00.000000000",
          "2019-02-15T00:00:00.000000000",
          "2019-03-15T00:00:00.000000000",
          "2019-04-15T00:00:00.000000000",
          "2019-05-15T00:00:00.000000000",
          "2019-06-15T00:00:00.000000000",
          "2019-07-15T00:00:00.000000000",
          "2019-08-15T00:00:00.000000000",
          "2019-09-15T00:00:00.000000000",
          "2019-10-15T00:00:00.000000000",
          "2019-11-15T00:00:00.000000000",
          "2019-12-15T00:00:00.000000000",
          "2020-01-15T00:00:00.000000000",
          "2020-02-15T00:00:00.000000000",
          "2020-03-15T00:00:00.000000000",
          "2020-04-15T00:00:00.000000000",
          "2020-05-15T00:00:00.000000000",
          "2020-06-15T00:00:00.000000000",
          "2020-07-15T00:00:00.000000000",
          "2020-08-15T00:00:00.000000000",
          "2020-09-15T00:00:00.000000000",
          "2020-10-15T00:00:00.000000000",
          "2020-11-15T00:00:00.000000000",
          "2020-12-15T00:00:00.000000000",
          "2021-01-15T00:00:00.000000000",
          "2021-02-15T00:00:00.000000000",
          "2021-03-15T00:00:00.000000000",
          "2021-04-15T00:00:00.000000000",
          "2021-05-15T00:00:00.000000000",
          "2021-06-15T00:00:00.000000000",
          "2021-07-15T00:00:00.000000000",
          "2021-08-15T00:00:00.000000000",
          "2021-09-15T00:00:00.000000000",
          "2021-10-15T00:00:00.000000000",
          "2021-11-15T00:00:00.000000000",
          "2021-12-15T00:00:00.000000000",
          "2022-01-15T00:00:00.000000000",
          "2022-02-15T00:00:00.000000000",
          "2022-03-15T00:00:00.000000000",
          "2022-04-15T00:00:00.000000000",
          "2022-05-15T00:00:00.000000000",
          "2022-06-15T00:00:00.000000000",
          "2022-07-15T00:00:00.000000000",
          "2022-08-15T00:00:00.000000000",
          "2022-09-15T00:00:00.000000000",
          "2022-10-15T00:00:00.000000000",
          "2022-11-15T00:00:00.000000000",
          "2022-12-15T00:00:00.000000000",
          "2023-01-15T00:00:00.000000000",
          "2023-02-15T00:00:00.000000000",
          "2023-03-15T00:00:00.000000000",
          "2023-04-15T00:00:00.000000000",
          "2023-05-15T00:00:00.000000000",
          "2023-06-15T00:00:00.000000000",
          "2023-07-15T00:00:00.000000000",
          "2023-08-15T00:00:00.000000000",
          "2023-09-15T00:00:00.000000000",
          "2023-10-15T00:00:00.000000000",
          "2023-11-15T00:00:00.000000000",
          "2023-12-15T00:00:00.000000000"
         ],
         "y": {
          "bdata": "AQAAvP6fkEEBAABIuiKOQf3//7d+n45BBQAArHDJkEH8//9T426RQQUAAMQvyZFB9///m+wFk0EBAAAcYvqSQQUAALSQlZFB////E/iqkUH+//8DYUyQQf3//4sYQJFB+v//w/4fkUH4//+3uLyLQfj//+eKQYVBAAAA8ArDaEH8//8PW5FvQfr//6/zanNBAgAAoBOoekH+//+/lXV+QQAAACA2IH1B9P//L9bufkEBAAAwtox+QQYAABAgjYBB/v//L3EMfkEHAABw25p5QQcAAAjuxIBB/P//fywlgUH8///fDsSBQQQAAAikvoJBBAAAqBL2hUH3//93NV6FQQcAAGhSUIVBCwAASNFshkEHAADIeiKFQfj//ze74IZBAgAAuPCshUH9//9n7buDQf///7eaMIZBCgAAeFGNhkH1//839JSIQff//ydMyohBBAAAyOubjEHy//83aHSMQff//7fqMIpB/f//hxBFikEFAADITUSIQQAAAJhsA4pBBAAA6Eooi0H0//+nR5GIQQ0AABhm3ItB8///ByPojEH6//93bR2PQfj//8dvro9B/f//M5sYkUH7//+TByWRQfT//xew/o9BCAAADOMnkEEHAACY5daNQfv///fLdI9B",
          "dtype": "f8"
         }
        },
        {
         "line": {
          "color": "red",
          "dash": "dash"
         },
         "mode": "lines",
         "name": "In-Sample Prediction",
         "type": "scatter",
         "x": [
          "2019-01-15T00:00:00.000000000",
          "2019-02-15T00:00:00.000000000",
          "2019-03-15T00:00:00.000000000",
          "2019-04-15T00:00:00.000000000",
          "2019-05-15T00:00:00.000000000",
          "2019-06-15T00:00:00.000000000",
          "2019-07-15T00:00:00.000000000",
          "2019-08-15T00:00:00.000000000",
          "2019-09-15T00:00:00.000000000",
          "2019-10-15T00:00:00.000000000",
          "2019-11-15T00:00:00.000000000",
          "2019-12-15T00:00:00.000000000",
          "2020-01-15T00:00:00.000000000",
          "2020-02-15T00:00:00.000000000",
          "2020-03-15T00:00:00.000000000",
          "2020-04-15T00:00:00.000000000",
          "2020-05-15T00:00:00.000000000",
          "2020-06-15T00:00:00.000000000",
          "2020-07-15T00:00:00.000000000",
          "2020-08-15T00:00:00.000000000",
          "2020-09-15T00:00:00.000000000",
          "2020-10-15T00:00:00.000000000",
          "2020-11-15T00:00:00.000000000",
          "2020-12-15T00:00:00.000000000",
          "2021-01-15T00:00:00.000000000",
          "2021-02-15T00:00:00.000000000",
          "2021-03-15T00:00:00.000000000",
          "2021-04-15T00:00:00.000000000",
          "2021-05-15T00:00:00.000000000",
          "2021-06-15T00:00:00.000000000",
          "2021-07-15T00:00:00.000000000",
          "2021-08-15T00:00:00.000000000",
          "2021-09-15T00:00:00.000000000",
          "2021-10-15T00:00:00.000000000",
          "2021-11-15T00:00:00.000000000",
          "2021-12-15T00:00:00.000000000",
          "2022-01-15T00:00:00.000000000",
          "2022-02-15T00:00:00.000000000",
          "2022-03-15T00:00:00.000000000",
          "2022-04-15T00:00:00.000000000",
          "2022-05-15T00:00:00.000000000",
          "2022-06-15T00:00:00.000000000",
          "2022-07-15T00:00:00.000000000",
          "2022-08-15T00:00:00.000000000",
          "2022-09-15T00:00:00.000000000",
          "2022-10-15T00:00:00.000000000",
          "2022-11-15T00:00:00.000000000",
          "2022-12-15T00:00:00.000000000"
         ],
         "y": {
          "bdata": "LlVD9CJJh0FPkk/O3pSPQVUrrUqBCI1BNd7BbTdvjUGqh6rtLNiPQbWRhFf3cZBB6p9oH7u6kEFkTkVvWbiRQVm70aYmr5FBrzmytiiRkEG95weEZ6KQQRbM95vKDI9BBbs/LC1MkEFQ3WTbNzKQQZVbSixzC4tB+8iSFb2JhUGDhG75v/xtQRXYanaddHJBmQnNCOEIdkHaWKjtJOV8Qfph7rCHMYBB6EHOxYorf0Ea0JVcnWiAQeUC+sYLPIBBuW7kB2pjgUFFXQrVqQGAQbyibwvF6ntBcHiVRIWVgUEu4p2Mt+uBQcilDKtreYJBnHfNlHdXg0FoUnlJ2yWGQdwCFu6TooVBvqWTFIyWhUFukI7rJYyGQbg6ph7NboVBxlLA3bTvhkGiqn24s+aFQaOoQ3A2NoRBzCyDEFFYhkGpzv2RF6iGQcag12DhY4hBar9HiSGRiEHOWNL+NMWLQS6zXMhhpItBcesMSfG/iUFI8+li4tCJQUTWJkJcH4hB",
          "dtype": "f8"
         }
        },
        {
         "line": {
          "color": "green",
          "dash": "dot"
         },
         "mode": "lines",
         "name": "12-Month Forecast",
         "type": "scatter",
         "x": [
          "2023-01-15T00:00:00.000000000",
          "2023-02-15T00:00:00.000000000",
          "2023-03-15T00:00:00.000000000",
          "2023-04-15T00:00:00.000000000",
          "2023-05-15T00:00:00.000000000",
          "2023-06-15T00:00:00.000000000",
          "2023-07-15T00:00:00.000000000",
          "2023-08-15T00:00:00.000000000",
          "2023-09-15T00:00:00.000000000",
          "2023-10-15T00:00:00.000000000",
          "2023-11-15T00:00:00.000000000",
          "2023-12-15T00:00:00.000000000"
         ],
         "y": {
          "bdata": "tlVlWqmZiUHMI6qmhECJQdQh05c49YhBGm5nq4C1iEFY2c5ef3+IQc57NN6pUYhB3QdJNrgqiEFr2CDqmAmIQUZzkhxn7YdBxLyys2LVh0GR7XoE6sCHQXbjFrF0r4dB",
          "dtype": "f8"
         }
        },
        {
         "fill": "toself",
         "fillcolor": "rgba(0, 255, 0, 0.2)",
         "line": {
          "color": "rgba(255,255,255,0)"
         },
         "name": "95% Confidence Interval",
         "type": "scatter",
         "x": [
          "2023-01-15T00:00:00",
          "2023-02-15T00:00:00",
          "2023-03-15T00:00:00",
          "2023-04-15T00:00:00",
          "2023-05-15T00:00:00",
          "2023-06-15T00:00:00",
          "2023-07-15T00:00:00",
          "2023-08-15T00:00:00",
          "2023-09-15T00:00:00",
          "2023-10-15T00:00:00",
          "2023-11-15T00:00:00",
          "2023-12-15T00:00:00",
          "2023-12-15T00:00:00",
          "2023-11-15T00:00:00",
          "2023-10-15T00:00:00",
          "2023-09-15T00:00:00",
          "2023-08-15T00:00:00",
          "2023-07-15T00:00:00",
          "2023-06-15T00:00:00",
          "2023-05-15T00:00:00",
          "2023-04-15T00:00:00",
          "2023-03-15T00:00:00",
          "2023-02-15T00:00:00",
          "2023-01-15T00:00:00"
         ],
         "y": [
          80882439.21210575,
          79782270.55641706,
          78852986.49179415,
          78066601.09007137,
          77400093.95156115,
          76834430.74495162,
          76353801.22999597,
          75945020.7600504,
          75597055.98022816,
          75300645.8359676,
          75047996.4327138,
          74832533.64454977,
          32970829.51643218,
          33065761.312934425,
          33177077.340822455,
          33307674.126169547,
          33460985.618838448,
          33641092.19184641,
          33852855.08462028,
          34102083.38467263,
          34395743.00255603,
          34742220.36676728,
          35151658.14703213,
          35636386.79938982
         ]
        }
       ],
       "layout": {
        "hovermode": "x unified",
        "template": {
         "data": {
          "bar": [
           {
            "error_x": {
             "color": "#f2f5fa"
            },
            "error_y": {
             "color": "#f2f5fa"
            },
            "marker": {
             "line": {
              "color": "rgb(17,17,17)",
              "width": 0.5
             },
             "pattern": {
              "fillmode": "overlay",
              "size": 10,
              "solidity": 0.2
             }
            },
            "type": "bar"
           }
          ],
          "barpolar": [
           {
            "marker": {
             "line": {
              "color": "rgb(17,17,17)",
              "width": 0.5
             },
             "pattern": {
              "fillmode": "overlay",
              "size": 10,
              "solidity": 0.2
             }
            },
            "type": "barpolar"
           }
          ],
          "carpet": [
           {
            "aaxis": {
             "endlinecolor": "#A2B1C6",
             "gridcolor": "#506784",
             "linecolor": "#506784",
             "minorgridcolor": "#506784",
             "startlinecolor": "#A2B1C6"
            },
            "baxis": {
             "endlinecolor": "#A2B1C6",
             "gridcolor": "#506784",
             "linecolor": "#506784",
             "minorgridcolor": "#506784",
             "startlinecolor": "#A2B1C6"
            },
            "type": "carpet"
           }
          ],
          "choropleth": [
           {
            "colorbar": {
             "outlinewidth": 0,
             "ticks": ""
            },
            "type": "choropleth"
           }
          ],
          "contour": [
           {
            "colorbar": {
             "outlinewidth": 0,
             "ticks": ""
            },
            "colorscale": [
             [
              0,
              "#0d0887"
             ],
             [
              0.1111111111111111,
              "#46039f"
             ],
             [
              0.2222222222222222,
              "#7201a8"
             ],
             [
              0.3333333333333333,
              "#9c179e"
             ],
             [
              0.4444444444444444,
              "#bd3786"
             ],
             [
              0.5555555555555556,
              "#d8576b"
             ],
             [
              0.6666666666666666,
              "#ed7953"
             ],
             [
              0.7777777777777778,
              "#fb9f3a"
             ],
             [
              0.8888888888888888,
              "#fdca26"
             ],
             [
              1,
              "#f0f921"
             ]
            ],
            "type": "contour"
           }
          ],
          "contourcarpet": [
           {
            "colorbar": {
             "outlinewidth": 0,
             "ticks": ""
            },
            "type": "contourcarpet"
           }
          ],
          "heatmap": [
           {
            "colorbar": {
             "outlinewidth": 0,
             "ticks": ""
            },
            "colorscale": [
             [
              0,
              "#0d0887"
             ],
             [
              0.1111111111111111,
              "#46039f"
             ],
             [
              0.2222222222222222,
              "#7201a8"
             ],
             [
              0.3333333333333333,
              "#9c179e"
             ],
             [
              0.4444444444444444,
              "#bd3786"
             ],
             [
              0.5555555555555556,
              "#d8576b"
             ],
             [
              0.6666666666666666,
              "#ed7953"
             ],
             [
              0.7777777777777778,
              "#fb9f3a"
             ],
             [
              0.8888888888888888,
              "#fdca26"
             ],
             [
              1,
              "#f0f921"
             ]
            ],
            "type": "heatmap"
           }
          ],
          "histogram": [
           {
            "marker": {
             "pattern": {
              "fillmode": "overlay",
              "size": 10,
              "solidity": 0.2
             }
            },
            "type": "histogram"
           }
          ],
          "histogram2d": [
           {
            "colorbar": {
             "outlinewidth": 0,
             "ticks": ""
            },
            "colorscale": [
             [
              0,
              "#0d0887"
             ],
             [
              0.1111111111111111,
              "#46039f"
             ],
             [
              0.2222222222222222,
              "#7201a8"
             ],
             [
              0.3333333333333333,
              "#9c179e"
             ],
             [
              0.4444444444444444,
              "#bd3786"
             ],
             [
              0.5555555555555556,
              "#d8576b"
             ],
             [
              0.6666666666666666,
              "#ed7953"
             ],
             [
              0.7777777777777778,
              "#fb9f3a"
             ],
             [
              0.8888888888888888,
              "#fdca26"
             ],
             [
              1,
              "#f0f921"
             ]
            ],
            "type": "histogram2d"
           }
          ],
          "histogram2dcontour": [
           {
            "colorbar": {
             "outlinewidth": 0,
             "ticks": ""
            },
            "colorscale": [
             [
              0,
              "#0d0887"
             ],
             [
              0.1111111111111111,
              "#46039f"
             ],
             [
              0.2222222222222222,
              "#7201a8"
             ],
             [
              0.3333333333333333,
              "#9c179e"
             ],
             [
              0.4444444444444444,
              "#bd3786"
             ],
             [
              0.5555555555555556,
              "#d8576b"
             ],
             [
              0.6666666666666666,
              "#ed7953"
             ],
             [
              0.7777777777777778,
              "#fb9f3a"
             ],
             [
              0.8888888888888888,
              "#fdca26"
             ],
             [
              1,
              "#f0f921"
             ]
            ],
            "type": "histogram2dcontour"
           }
          ],
          "mesh3d": [
           {
            "colorbar": {
             "outlinewidth": 0,
             "ticks": ""
            },
            "type": "mesh3d"
           }
          ],
          "parcoords": [
           {
            "line": {
             "colorbar": {
              "outlinewidth": 0,
              "ticks": ""
             }
            },
            "type": "parcoords"
           }
          ],
          "pie": [
           {
            "automargin": true,
            "type": "pie"
           }
          ],
          "scatter": [
           {
            "marker": {
             "line": {
              "color": "#283442"
             }
            },
            "type": "scatter"
           }
          ],
          "scatter3d": [
           {
            "line": {
             "colorbar": {
              "outlinewidth": 0,
              "ticks": ""
             }
            },
            "marker": {
             "colorbar": {
              "outlinewidth": 0,
              "ticks": ""
             }
            },
            "type": "scatter3d"
           }
          ],
          "scattercarpet": [
           {
            "marker": {
             "colorbar": {
              "outlinewidth": 0,
              "ticks": ""
             }
            },
            "type": "scattercarpet"
           }
          ],
          "scattergeo": [
           {
            "marker": {
             "colorbar": {
              "outlinewidth": 0,
              "ticks": ""
             }
            },
            "type": "scattergeo"
           }
          ],
          "scattergl": [
           {
            "marker": {
             "line": {
              "color": "#283442"
             }
            },
            "type": "scattergl"
           }
          ],
          "scattermap": [
           {
            "marker": {
             "colorbar": {
              "outlinewidth": 0,
              "ticks": ""
             }
            },
            "type": "scattermap"
           }
          ],
          "scattermapbox": [
           {
            "marker": {
             "colorbar": {
              "outlinewidth": 0,
              "ticks": ""
             }
            },
            "type": "scattermapbox"
           }
          ],
          "scatterpolar": [
           {
            "marker": {
             "colorbar": {
              "outlinewidth": 0,
              "ticks": ""
             }
            },
            "type": "scatterpolar"
           }
          ],
          "scatterpolargl": [
           {
            "marker": {
             "colorbar": {
              "outlinewidth": 0,
              "ticks": ""
             }
            },
            "type": "scatterpolargl"
           }
          ],
          "scatterternary": [
           {
            "marker": {
             "colorbar": {
              "outlinewidth": 0,
              "ticks": ""
             }
            },
            "type": "scatterternary"
           }
          ],
          "surface": [
           {
            "colorbar": {
             "outlinewidth": 0,
             "ticks": ""
            },
            "colorscale": [
             [
              0,
              "#0d0887"
             ],
             [
              0.1111111111111111,
              "#46039f"
             ],
             [
              0.2222222222222222,
              "#7201a8"
             ],
             [
              0.3333333333333333,
              "#9c179e"
             ],
             [
              0.4444444444444444,
              "#bd3786"
             ],
             [
              0.5555555555555556,
              "#d8576b"
             ],
             [
              0.6666666666666666,
              "#ed7953"
             ],
             [
              0.7777777777777778,
              "#fb9f3a"
             ],
             [
              0.8888888888888888,
              "#fdca26"
             ],
             [
              1,
              "#f0f921"
             ]
            ],
            "type": "surface"
           }
          ],
          "table": [
           {
            "cells": {
             "fill": {
              "color": "#506784"
             },
             "line": {
              "color": "rgb(17,17,17)"
             }
            },
            "header": {
             "fill": {
              "color": "#2a3f5f"
             },
             "line": {
              "color": "rgb(17,17,17)"
             }
            },
            "type": "table"
           }
          ]
         },
         "layout": {
          "annotationdefaults": {
           "arrowcolor": "#f2f5fa",
           "arrowhead": 0,
           "arrowwidth": 1
          },
          "autotypenumbers": "strict",
          "coloraxis": {
           "colorbar": {
            "outlinewidth": 0,
            "ticks": ""
           }
          },
          "colorscale": {
           "diverging": [
            [
             0,
             "#8e0152"
            ],
            [
             0.1,
             "#c51b7d"
            ],
            [
             0.2,
             "#de77ae"
            ],
            [
             0.3,
             "#f1b6da"
            ],
            [
             0.4,
             "#fde0ef"
            ],
            [
             0.5,
             "#f7f7f7"
            ],
            [
             0.6,
             "#e6f5d0"
            ],
            [
             0.7,
             "#b8e186"
            ],
            [
             0.8,
             "#7fbc41"
            ],
            [
             0.9,
             "#4d9221"
            ],
            [
             1,
             "#276419"
            ]
           ],
           "sequential": [
            [
             0,
             "#0d0887"
            ],
            [
             0.1111111111111111,
             "#46039f"
            ],
            [
             0.2222222222222222,
             "#7201a8"
            ],
            [
             0.3333333333333333,
             "#9c179e"
            ],
            [
             0.4444444444444444,
             "#bd3786"
            ],
            [
             0.5555555555555556,
             "#d8576b"
            ],
            [
             0.6666666666666666,
             "#ed7953"
            ],
            [
             0.7777777777777778,
             "#fb9f3a"
            ],
            [
             0.8888888888888888,
             "#fdca26"
            ],
            [
             1,
             "#f0f921"
            ]
           ],
           "sequentialminus": [
            [
             0,
             "#0d0887"
            ],
            [
             0.1111111111111111,
             "#46039f"
            ],
            [
             0.2222222222222222,
             "#7201a8"
            ],
            [
             0.3333333333333333,
             "#9c179e"
            ],
            [
             0.4444444444444444,
             "#bd3786"
            ],
            [
             0.5555555555555556,
             "#d8576b"
            ],
            [
             0.6666666666666666,
             "#ed7953"
            ],
            [
             0.7777777777777778,
             "#fb9f3a"
            ],
            [
             0.8888888888888888,
             "#fdca26"
            ],
            [
             1,
             "#f0f921"
            ]
           ]
          },
          "colorway": [
           "#636efa",
           "#EF553B",
           "#00cc96",
           "#ab63fa",
           "#FFA15A",
           "#19d3f3",
           "#FF6692",
           "#B6E880",
           "#FF97FF",
           "#FECB52"
          ],
          "font": {
           "color": "#f2f5fa"
          },
          "geo": {
           "bgcolor": "rgb(17,17,17)",
           "lakecolor": "rgb(17,17,17)",
           "landcolor": "rgb(17,17,17)",
           "showlakes": true,
           "showland": true,
           "subunitcolor": "#506784"
          },
          "hoverlabel": {
           "align": "left"
          },
          "hovermode": "closest",
          "mapbox": {
           "style": "dark"
          },
          "paper_bgcolor": "rgb(17,17,17)",
          "plot_bgcolor": "rgb(17,17,17)",
          "polar": {
           "angularaxis": {
            "gridcolor": "#506784",
            "linecolor": "#506784",
            "ticks": ""
           },
           "bgcolor": "rgb(17,17,17)",
           "radialaxis": {
            "gridcolor": "#506784",
            "linecolor": "#506784",
            "ticks": ""
           }
          },
          "scene": {
           "xaxis": {
            "backgroundcolor": "rgb(17,17,17)",
            "gridcolor": "#506784",
            "gridwidth": 2,
            "linecolor": "#506784",
            "showbackground": true,
            "ticks": "",
            "zerolinecolor": "#C8D4E3"
           },
           "yaxis": {
            "backgroundcolor": "rgb(17,17,17)",
            "gridcolor": "#506784",
            "gridwidth": 2,
            "linecolor": "#506784",
            "showbackground": true,
            "ticks": "",
            "zerolinecolor": "#C8D4E3"
           },
           "zaxis": {
            "backgroundcolor": "rgb(17,17,17)",
            "gridcolor": "#506784",
            "gridwidth": 2,
            "linecolor": "#506784",
            "showbackground": true,
            "ticks": "",
            "zerolinecolor": "#C8D4E3"
           }
          },
          "shapedefaults": {
           "line": {
            "color": "#f2f5fa"
           }
          },
          "sliderdefaults": {
           "bgcolor": "#C8D4E3",
           "bordercolor": "rgb(17,17,17)",
           "borderwidth": 1,
           "tickwidth": 0
          },
          "ternary": {
           "aaxis": {
            "gridcolor": "#506784",
            "linecolor": "#506784",
            "ticks": ""
           },
           "baxis": {
            "gridcolor": "#506784",
            "linecolor": "#506784",
            "ticks": ""
           },
           "bgcolor": "rgb(17,17,17)",
           "caxis": {
            "gridcolor": "#506784",
            "linecolor": "#506784",
            "ticks": ""
           }
          },
          "title": {
           "x": 0.05
          },
          "updatemenudefaults": {
           "bgcolor": "#506784",
           "borderwidth": 0
          },
          "xaxis": {
           "automargin": true,
           "gridcolor": "#283442",
           "linecolor": "#506784",
           "ticks": "",
           "title": {
            "standoff": 15
           },
           "zerolinecolor": "#283442",
           "zerolinewidth": 2
          },
          "yaxis": {
           "automargin": true,
           "gridcolor": "#283442",
           "linecolor": "#506784",
           "ticks": "",
           "title": {
            "standoff": 15
           },
           "zerolinecolor": "#283442",
           "zerolinewidth": 2
          }
         }
        },
        "title": {
         "text": "12-Month Forecast for Monthly CO2 Emissions"
        },
        "xaxis": {
         "title": {
          "text": "Date (Months)"
         }
        },
        "yaxis": {
         "title": {
          "text": "CO2 Emissions (Million Tonnes)"
         }
        }
       }
      }
     },
     "metadata": {},
     "output_type": "display_data"
    }
   ],
   "source": [
    "import plotly.graph_objects as go\n",
    "import numpy as np\n",
    "import pandas as pd\n",
    "from statsmodels.tsa.arima.model import ARIMA\n",
    "\n",
    "\n",
    "\n",
    "# Train-test split: Exclude the last 12 months for testing\n",
    "train_data = co2.iloc[:-12]  # (everything except last 12 months)\n",
    "test_data = co2.iloc[-12:]   # (last 12 months)\n",
    "\n",
    "# Fit ARMA(1,0)\n",
    "arma_model = ARIMA(train_data[\"log_total\"], order=(1, 0, 0)).fit()\n",
    "\n",
    "# In-Sample Forecast\n",
    "train_data[\"fitted_values\"] = arma_model.fittedvalues  # Model’s in-sample predictions\n",
    "\n",
    "# Full 12-Month Forecast\n",
    "forecast_log = arma_model.forecast(steps=12)  \n",
    "forecast_original_scale = np.expm1(forecast_log)  \n",
    "\n",
    "# Create Future Date Index for Out-of-Sample Data\n",
    "future_dates = test_data.index \n",
    "forecast_series = pd.Series(forecast_original_scale.values, index=future_dates)\n",
    "\n",
    "# Rolling One-Step Ahead Forecast\n",
    "one_step_forecasts = []\n",
    "one_step_ci_lower = []\n",
    "one_step_ci_upper = []\n",
    "current_results = arma_model  \n",
    "\n",
    "for date in test_data.index:\n",
    "    updated_model = ARIMA(co2.loc[:date, \"log_total\"], order=(1, 0, 0)).fit()\n",
    "\n",
    "    # Forecast one step ahead\n",
    "    forecast_obj = updated_model.get_forecast(steps=1)\n",
    "    forecast_value_log = forecast_obj.predicted_mean.iloc[0]\n",
    "    ci_log = forecast_obj.conf_int()\n",
    "\n",
    "    # Convert log forecasts back to original scale\n",
    "    forecast_value = np.expm1(forecast_value_log)\n",
    "    ci_lower = np.expm1(ci_log.iloc[0, 0])\n",
    "    ci_upper = np.expm1(ci_log.iloc[0, 1])\n",
    "\n",
    "    one_step_forecasts.append(forecast_value)\n",
    "    one_step_ci_lower.append(ci_lower)\n",
    "    one_step_ci_upper.append(ci_upper)\n",
    "\n",
    "one_step_forecasts = pd.Series(one_step_forecasts, index=test_data.index)\n",
    "one_step_ci_lower = pd.Series(one_step_ci_lower, index=test_data.index)\n",
    "one_step_ci_upper = pd.Series(one_step_ci_upper, index=test_data.index)\n",
    "\n",
    "# Confidence Interval for 12-Month Forecast\n",
    "residuals = train_data[\"log_total\"] - arma_model.fittedvalues  \n",
    "std_dev = np.std(residuals)\n",
    "confidence_interval = np.exp(1.96 * std_dev)  \n",
    "\n",
    "# Rolling One-Step Ahead Forecast\n",
    "fig1 = go.Figure()\n",
    "\n",
    "# Actual Data\n",
    "fig1.add_trace(go.Scatter(\n",
    "    x=co2.index,\n",
    "    y=np.expm1(co2[\"log_total\"]),\n",
    "    mode='lines',\n",
    "    name='Actual CO2 Emissions',\n",
    "    line=dict(color='blue')\n",
    "))\n",
    "\n",
    "# In-Sample Predictions\n",
    "fig1.add_trace(go.Scatter(\n",
    "    x=train_data.index,\n",
    "    y=np.expm1(train_data[\"fitted_values\"]),\n",
    "    mode='lines',\n",
    "    name='In-Sample Prediction',\n",
    "    line=dict(color='red', dash='dash')\n",
    "))\n",
    "\n",
    "# Rolling One-Step Forecast\n",
    "fig1.add_trace(go.Scatter(\n",
    "    x=one_step_forecasts.index,\n",
    "    y=one_step_forecasts,\n",
    "    mode='lines',\n",
    "    name='One-Step Forecast',\n",
    "    line=dict(color='green', dash='dot')\n",
    "))\n",
    "\n",
    "# Confidence Interval - Shaded Region\n",
    "fig1.add_trace(go.Scatter(\n",
    "    x=one_step_forecasts.index.tolist() + one_step_forecasts.index[::-1].tolist(),\n",
    "    y=(one_step_forecasts * confidence_interval).tolist() + (one_step_forecasts / confidence_interval)[::-1].tolist(),\n",
    "    fill='toself',\n",
    "    fillcolor='rgba(0, 255, 0, 0.2)',\n",
    "    line=dict(color='rgba(255,255,255,0)'),\n",
    "    name='95% Confidence Interval'\n",
    "))\n",
    "\n",
    "# Customize Layout\n",
    "fig1.update_layout(\n",
    "    title=\"Rolling One-Step Ahead Forecast for Monthly CO2 Emissions\",\n",
    "    xaxis_title=\"Date (Months)\",\n",
    "    yaxis_title=\"CO2 Emissions (Million Tonnes)\",\n",
    "    template=\"plotly_dark\",\n",
    "    hovermode=\"x unified\"\n",
    ")\n",
    "\n",
    "# Plot Second Graph: Full 12-Month Forecast\n",
    "fig2 = go.Figure()\n",
    "\n",
    "# Actual Data - Blue Line\n",
    "fig2.add_trace(go.Scatter(\n",
    "    x=co2.index,\n",
    "    y=np.expm1(co2[\"log_total\"]),\n",
    "    mode='lines',\n",
    "    name='Actual CO2 Emissions',\n",
    "    line=dict(color='blue')\n",
    "))\n",
    "\n",
    "# In-Sample Predictions - Red Dashed Line\n",
    "fig2.add_trace(go.Scatter(\n",
    "    x=train_data.index,\n",
    "    y=np.expm1(train_data[\"fitted_values\"]),\n",
    "    mode='lines',\n",
    "    name='In-Sample Prediction',\n",
    "    line=dict(color='red', dash='dash')\n",
    "))\n",
    "\n",
    "# Full 12-Month Forecast - Green Dashed Line\n",
    "fig2.add_trace(go.Scatter(\n",
    "    x=forecast_series.index,\n",
    "    y=forecast_series,\n",
    "    mode='lines',\n",
    "    name='12-Month Forecast',\n",
    "    line=dict(color='green', dash='dot')\n",
    "))\n",
    "\n",
    "# Confidence Interval - Shaded Region\n",
    "fig2.add_trace(go.Scatter(\n",
    "    x=forecast_series.index.tolist() + forecast_series.index[::-1].tolist(),\n",
    "    y=(forecast_series * confidence_interval).tolist() + (forecast_series / confidence_interval)[::-1].tolist(),\n",
    "    fill='toself',\n",
    "    fillcolor='rgba(0, 255, 0, 0.2)',\n",
    "    line=dict(color='rgba(255,255,255,0)'),\n",
    "    name='95% Confidence Interval'\n",
    "))\n",
    "\n",
    "# Customize Layout\n",
    "fig2.update_layout(\n",
    "    title=\"12-Month Forecast for Monthly CO2 Emissions\",\n",
    "    xaxis_title=\"Date (Months)\",\n",
    "    yaxis_title=\"CO2 Emissions (Million Tonnes)\",\n",
    "    template=\"plotly_dark\",\n",
    "    hovermode=\"x unified\"\n",
    ")\n",
    "\n",
    "fig1.show()\n",
    "fig2.show()"
   ]
  }
 ],
 "metadata": {
  "kernelspec": {
   "display_name": ".venv",
   "language": "python",
   "name": "python3"
  },
  "language_info": {
   "codemirror_mode": {
    "name": "ipython",
    "version": 3
   },
   "file_extension": ".py",
   "mimetype": "text/x-python",
   "name": "python",
   "nbconvert_exporter": "python",
   "pygments_lexer": "ipython3",
   "version": "3.12.0"
  }
 },
 "nbformat": 4,
 "nbformat_minor": 2
}
