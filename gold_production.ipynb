{
 "cells": [
  {
   "cell_type": "code",
   "execution_count": 16,
   "metadata": {},
   "outputs": [],
   "source": [
    "import pandas as pd\n",
    "import requests\n",
    "\n",
    "# Fetch the data.\n",
    "df = pd.read_csv(\"https://ourworldindata.org/grapher/gold-production.csv?v=1&csvType=full&useColumnShortNames=true\", storage_options = {'User-Agent': 'Our World In Data data fetch/1.0'})\n",
    "\n",
    "# Fetch the metadata\n",
    "metadata = requests.get(\"https://ourworldindata.org/grapher/gold-production.metadata.json?v=1&csvType=full&useColumnShortNames=true\").json()"
   ]
  },
  {
   "cell_type": "code",
   "execution_count": 17,
   "metadata": {},
   "outputs": [
    {
     "data": {
      "text/html": [
       "<div>\n",
       "<style scoped>\n",
       "    .dataframe tbody tr th:only-of-type {\n",
       "        vertical-align: middle;\n",
       "    }\n",
       "\n",
       "    .dataframe tbody tr th {\n",
       "        vertical-align: top;\n",
       "    }\n",
       "\n",
       "    .dataframe thead th {\n",
       "        text-align: right;\n",
       "    }\n",
       "</style>\n",
       "<table border=\"1\" class=\"dataframe\">\n",
       "  <thead>\n",
       "    <tr style=\"text-align: right;\">\n",
       "      <th></th>\n",
       "      <th>Entity</th>\n",
       "      <th>Code</th>\n",
       "      <th>Year</th>\n",
       "      <th>Gold Production (Clio-Infra &amp; USGS)</th>\n",
       "    </tr>\n",
       "  </thead>\n",
       "  <tbody>\n",
       "    <tr>\n",
       "      <th>0</th>\n",
       "      <td>Afghanistan</td>\n",
       "      <td>AFG</td>\n",
       "      <td>2013</td>\n",
       "      <td>0</td>\n",
       "    </tr>\n",
       "  </tbody>\n",
       "</table>\n",
       "</div>"
      ],
      "text/plain": [
       "        Entity Code  Year  Gold Production (Clio-Infra & USGS)\n",
       "0  Afghanistan  AFG  2013                                    0"
      ]
     },
     "execution_count": 17,
     "metadata": {},
     "output_type": "execute_result"
    }
   ],
   "source": [
    "df.head(1)"
   ]
  },
  {
   "cell_type": "code",
   "execution_count": 18,
   "metadata": {},
   "outputs": [],
   "source": [
    "gold = df[(df['Entity'] == 'World') & (df['Year'] >= 1850)]"
   ]
  },
  {
   "cell_type": "code",
   "execution_count": 19,
   "metadata": {},
   "outputs": [
    {
     "data": {
      "application/vnd.plotly.v1+json": {
       "config": {
        "plotlyServerURL": "https://plot.ly"
       },
       "data": [
        {
         "mode": "lines",
         "type": "scatter",
         "x": {
          "bdata": "Ogc7BzwHPQc+Bz8HQAdBB0IHQwdEB0UHRgdHB0gHSQdKB0sHTAdNB04HTwdQB1EHUgdTB1QHVQdWB1cHWAdZB1oHWwdcB10HXgdfB2AHYQdiB2MHZAdlB2YHZwdoB2kHagdrB2wHbQduB28HcAdxB3IHcwd0B3UHdgd3B3gHeQd6B3sHfAd9B34HfweAB4EHggeDB4QHhQeGB4cHiAeJB4oHiweMB40HjgePB5AHkQeSB5MHlAeVB5YHlweYB5kHmgebB5wHnQeeB58HoAehB6IHowekB6UHpgenB6gHqQeqB6sHrAetB64HrwewB7EHsgezB7QHtQe2B7cHuAe5B7oHuwe8B70Hvge/B8AHwQfCB8MHxAfFB8YHxwfIB8kHygfLB8wHzQfOB88H0AfRB9IH0wfUB9UH1gfXB9gH2QfaB9sH3AfdB94H3wc=",
          "dtype": "i2"
         },
         "y": {
          "bdata": "agB9ANEA4ADBAM0A0wDMAMEAuwCxAK8AqwCtAKwAuwDBALwAvAC5ALYAugCnAJ8AlwCZAJoApgCqAJcAlQCRAIYAggCEAIkAhwCDAIsAmwCgALYAyADmAAYBGwEvAVEBogHDAW4BcwGdAckB7QEeAkgCRgJuAn8CjgKWArcCyAKbArsCogJrAjMCFgLuAeYB1wEcAjsCPwJNAk0CXgJjAoQCsgLvAgUDOAOBA/IDJgR5BKwEFQVZBNED/QKmAosCnAKoArYC1gLsAtsC7gLsAhgDPwNiA4cDoAPkAxIENAR9BK4E2QT7BPsE0QTaBOAEVwZDBhcG6wWLBUkFbwXKBNQEygTIBOAEIAV0BYkFywUJBkIG4AauBzIITQjBCPkIqgiTCMkIaAmxCe8J4An9CccJ1AlrCY4JXAkbCe0IsQkaCg0K/gloC8wLHAw=",
          "dtype": "i2"
         }
        }
       ],
       "layout": {
        "template": {
         "data": {
          "bar": [
           {
            "error_x": {
             "color": "#f2f5fa"
            },
            "error_y": {
             "color": "#f2f5fa"
            },
            "marker": {
             "line": {
              "color": "rgb(17,17,17)",
              "width": 0.5
             },
             "pattern": {
              "fillmode": "overlay",
              "size": 10,
              "solidity": 0.2
             }
            },
            "type": "bar"
           }
          ],
          "barpolar": [
           {
            "marker": {
             "line": {
              "color": "rgb(17,17,17)",
              "width": 0.5
             },
             "pattern": {
              "fillmode": "overlay",
              "size": 10,
              "solidity": 0.2
             }
            },
            "type": "barpolar"
           }
          ],
          "carpet": [
           {
            "aaxis": {
             "endlinecolor": "#A2B1C6",
             "gridcolor": "#506784",
             "linecolor": "#506784",
             "minorgridcolor": "#506784",
             "startlinecolor": "#A2B1C6"
            },
            "baxis": {
             "endlinecolor": "#A2B1C6",
             "gridcolor": "#506784",
             "linecolor": "#506784",
             "minorgridcolor": "#506784",
             "startlinecolor": "#A2B1C6"
            },
            "type": "carpet"
           }
          ],
          "choropleth": [
           {
            "colorbar": {
             "outlinewidth": 0,
             "ticks": ""
            },
            "type": "choropleth"
           }
          ],
          "contour": [
           {
            "colorbar": {
             "outlinewidth": 0,
             "ticks": ""
            },
            "colorscale": [
             [
              0,
              "#0d0887"
             ],
             [
              0.1111111111111111,
              "#46039f"
             ],
             [
              0.2222222222222222,
              "#7201a8"
             ],
             [
              0.3333333333333333,
              "#9c179e"
             ],
             [
              0.4444444444444444,
              "#bd3786"
             ],
             [
              0.5555555555555556,
              "#d8576b"
             ],
             [
              0.6666666666666666,
              "#ed7953"
             ],
             [
              0.7777777777777778,
              "#fb9f3a"
             ],
             [
              0.8888888888888888,
              "#fdca26"
             ],
             [
              1,
              "#f0f921"
             ]
            ],
            "type": "contour"
           }
          ],
          "contourcarpet": [
           {
            "colorbar": {
             "outlinewidth": 0,
             "ticks": ""
            },
            "type": "contourcarpet"
           }
          ],
          "heatmap": [
           {
            "colorbar": {
             "outlinewidth": 0,
             "ticks": ""
            },
            "colorscale": [
             [
              0,
              "#0d0887"
             ],
             [
              0.1111111111111111,
              "#46039f"
             ],
             [
              0.2222222222222222,
              "#7201a8"
             ],
             [
              0.3333333333333333,
              "#9c179e"
             ],
             [
              0.4444444444444444,
              "#bd3786"
             ],
             [
              0.5555555555555556,
              "#d8576b"
             ],
             [
              0.6666666666666666,
              "#ed7953"
             ],
             [
              0.7777777777777778,
              "#fb9f3a"
             ],
             [
              0.8888888888888888,
              "#fdca26"
             ],
             [
              1,
              "#f0f921"
             ]
            ],
            "type": "heatmap"
           }
          ],
          "histogram": [
           {
            "marker": {
             "pattern": {
              "fillmode": "overlay",
              "size": 10,
              "solidity": 0.2
             }
            },
            "type": "histogram"
           }
          ],
          "histogram2d": [
           {
            "colorbar": {
             "outlinewidth": 0,
             "ticks": ""
            },
            "colorscale": [
             [
              0,
              "#0d0887"
             ],
             [
              0.1111111111111111,
              "#46039f"
             ],
             [
              0.2222222222222222,
              "#7201a8"
             ],
             [
              0.3333333333333333,
              "#9c179e"
             ],
             [
              0.4444444444444444,
              "#bd3786"
             ],
             [
              0.5555555555555556,
              "#d8576b"
             ],
             [
              0.6666666666666666,
              "#ed7953"
             ],
             [
              0.7777777777777778,
              "#fb9f3a"
             ],
             [
              0.8888888888888888,
              "#fdca26"
             ],
             [
              1,
              "#f0f921"
             ]
            ],
            "type": "histogram2d"
           }
          ],
          "histogram2dcontour": [
           {
            "colorbar": {
             "outlinewidth": 0,
             "ticks": ""
            },
            "colorscale": [
             [
              0,
              "#0d0887"
             ],
             [
              0.1111111111111111,
              "#46039f"
             ],
             [
              0.2222222222222222,
              "#7201a8"
             ],
             [
              0.3333333333333333,
              "#9c179e"
             ],
             [
              0.4444444444444444,
              "#bd3786"
             ],
             [
              0.5555555555555556,
              "#d8576b"
             ],
             [
              0.6666666666666666,
              "#ed7953"
             ],
             [
              0.7777777777777778,
              "#fb9f3a"
             ],
             [
              0.8888888888888888,
              "#fdca26"
             ],
             [
              1,
              "#f0f921"
             ]
            ],
            "type": "histogram2dcontour"
           }
          ],
          "mesh3d": [
           {
            "colorbar": {
             "outlinewidth": 0,
             "ticks": ""
            },
            "type": "mesh3d"
           }
          ],
          "parcoords": [
           {
            "line": {
             "colorbar": {
              "outlinewidth": 0,
              "ticks": ""
             }
            },
            "type": "parcoords"
           }
          ],
          "pie": [
           {
            "automargin": true,
            "type": "pie"
           }
          ],
          "scatter": [
           {
            "marker": {
             "line": {
              "color": "#283442"
             }
            },
            "type": "scatter"
           }
          ],
          "scatter3d": [
           {
            "line": {
             "colorbar": {
              "outlinewidth": 0,
              "ticks": ""
             }
            },
            "marker": {
             "colorbar": {
              "outlinewidth": 0,
              "ticks": ""
             }
            },
            "type": "scatter3d"
           }
          ],
          "scattercarpet": [
           {
            "marker": {
             "colorbar": {
              "outlinewidth": 0,
              "ticks": ""
             }
            },
            "type": "scattercarpet"
           }
          ],
          "scattergeo": [
           {
            "marker": {
             "colorbar": {
              "outlinewidth": 0,
              "ticks": ""
             }
            },
            "type": "scattergeo"
           }
          ],
          "scattergl": [
           {
            "marker": {
             "line": {
              "color": "#283442"
             }
            },
            "type": "scattergl"
           }
          ],
          "scattermap": [
           {
            "marker": {
             "colorbar": {
              "outlinewidth": 0,
              "ticks": ""
             }
            },
            "type": "scattermap"
           }
          ],
          "scattermapbox": [
           {
            "marker": {
             "colorbar": {
              "outlinewidth": 0,
              "ticks": ""
             }
            },
            "type": "scattermapbox"
           }
          ],
          "scatterpolar": [
           {
            "marker": {
             "colorbar": {
              "outlinewidth": 0,
              "ticks": ""
             }
            },
            "type": "scatterpolar"
           }
          ],
          "scatterpolargl": [
           {
            "marker": {
             "colorbar": {
              "outlinewidth": 0,
              "ticks": ""
             }
            },
            "type": "scatterpolargl"
           }
          ],
          "scatterternary": [
           {
            "marker": {
             "colorbar": {
              "outlinewidth": 0,
              "ticks": ""
             }
            },
            "type": "scatterternary"
           }
          ],
          "surface": [
           {
            "colorbar": {
             "outlinewidth": 0,
             "ticks": ""
            },
            "colorscale": [
             [
              0,
              "#0d0887"
             ],
             [
              0.1111111111111111,
              "#46039f"
             ],
             [
              0.2222222222222222,
              "#7201a8"
             ],
             [
              0.3333333333333333,
              "#9c179e"
             ],
             [
              0.4444444444444444,
              "#bd3786"
             ],
             [
              0.5555555555555556,
              "#d8576b"
             ],
             [
              0.6666666666666666,
              "#ed7953"
             ],
             [
              0.7777777777777778,
              "#fb9f3a"
             ],
             [
              0.8888888888888888,
              "#fdca26"
             ],
             [
              1,
              "#f0f921"
             ]
            ],
            "type": "surface"
           }
          ],
          "table": [
           {
            "cells": {
             "fill": {
              "color": "#506784"
             },
             "line": {
              "color": "rgb(17,17,17)"
             }
            },
            "header": {
             "fill": {
              "color": "#2a3f5f"
             },
             "line": {
              "color": "rgb(17,17,17)"
             }
            },
            "type": "table"
           }
          ]
         },
         "layout": {
          "annotationdefaults": {
           "arrowcolor": "#f2f5fa",
           "arrowhead": 0,
           "arrowwidth": 1
          },
          "autotypenumbers": "strict",
          "coloraxis": {
           "colorbar": {
            "outlinewidth": 0,
            "ticks": ""
           }
          },
          "colorscale": {
           "diverging": [
            [
             0,
             "#8e0152"
            ],
            [
             0.1,
             "#c51b7d"
            ],
            [
             0.2,
             "#de77ae"
            ],
            [
             0.3,
             "#f1b6da"
            ],
            [
             0.4,
             "#fde0ef"
            ],
            [
             0.5,
             "#f7f7f7"
            ],
            [
             0.6,
             "#e6f5d0"
            ],
            [
             0.7,
             "#b8e186"
            ],
            [
             0.8,
             "#7fbc41"
            ],
            [
             0.9,
             "#4d9221"
            ],
            [
             1,
             "#276419"
            ]
           ],
           "sequential": [
            [
             0,
             "#0d0887"
            ],
            [
             0.1111111111111111,
             "#46039f"
            ],
            [
             0.2222222222222222,
             "#7201a8"
            ],
            [
             0.3333333333333333,
             "#9c179e"
            ],
            [
             0.4444444444444444,
             "#bd3786"
            ],
            [
             0.5555555555555556,
             "#d8576b"
            ],
            [
             0.6666666666666666,
             "#ed7953"
            ],
            [
             0.7777777777777778,
             "#fb9f3a"
            ],
            [
             0.8888888888888888,
             "#fdca26"
            ],
            [
             1,
             "#f0f921"
            ]
           ],
           "sequentialminus": [
            [
             0,
             "#0d0887"
            ],
            [
             0.1111111111111111,
             "#46039f"
            ],
            [
             0.2222222222222222,
             "#7201a8"
            ],
            [
             0.3333333333333333,
             "#9c179e"
            ],
            [
             0.4444444444444444,
             "#bd3786"
            ],
            [
             0.5555555555555556,
             "#d8576b"
            ],
            [
             0.6666666666666666,
             "#ed7953"
            ],
            [
             0.7777777777777778,
             "#fb9f3a"
            ],
            [
             0.8888888888888888,
             "#fdca26"
            ],
            [
             1,
             "#f0f921"
            ]
           ]
          },
          "colorway": [
           "#636efa",
           "#EF553B",
           "#00cc96",
           "#ab63fa",
           "#FFA15A",
           "#19d3f3",
           "#FF6692",
           "#B6E880",
           "#FF97FF",
           "#FECB52"
          ],
          "font": {
           "color": "#f2f5fa"
          },
          "geo": {
           "bgcolor": "rgb(17,17,17)",
           "lakecolor": "rgb(17,17,17)",
           "landcolor": "rgb(17,17,17)",
           "showlakes": true,
           "showland": true,
           "subunitcolor": "#506784"
          },
          "hoverlabel": {
           "align": "left"
          },
          "hovermode": "closest",
          "mapbox": {
           "style": "dark"
          },
          "paper_bgcolor": "rgb(17,17,17)",
          "plot_bgcolor": "rgb(17,17,17)",
          "polar": {
           "angularaxis": {
            "gridcolor": "#506784",
            "linecolor": "#506784",
            "ticks": ""
           },
           "bgcolor": "rgb(17,17,17)",
           "radialaxis": {
            "gridcolor": "#506784",
            "linecolor": "#506784",
            "ticks": ""
           }
          },
          "scene": {
           "xaxis": {
            "backgroundcolor": "rgb(17,17,17)",
            "gridcolor": "#506784",
            "gridwidth": 2,
            "linecolor": "#506784",
            "showbackground": true,
            "ticks": "",
            "zerolinecolor": "#C8D4E3"
           },
           "yaxis": {
            "backgroundcolor": "rgb(17,17,17)",
            "gridcolor": "#506784",
            "gridwidth": 2,
            "linecolor": "#506784",
            "showbackground": true,
            "ticks": "",
            "zerolinecolor": "#C8D4E3"
           },
           "zaxis": {
            "backgroundcolor": "rgb(17,17,17)",
            "gridcolor": "#506784",
            "gridwidth": 2,
            "linecolor": "#506784",
            "showbackground": true,
            "ticks": "",
            "zerolinecolor": "#C8D4E3"
           }
          },
          "shapedefaults": {
           "line": {
            "color": "#f2f5fa"
           }
          },
          "sliderdefaults": {
           "bgcolor": "#C8D4E3",
           "bordercolor": "rgb(17,17,17)",
           "borderwidth": 1,
           "tickwidth": 0
          },
          "ternary": {
           "aaxis": {
            "gridcolor": "#506784",
            "linecolor": "#506784",
            "ticks": ""
           },
           "baxis": {
            "gridcolor": "#506784",
            "linecolor": "#506784",
            "ticks": ""
           },
           "bgcolor": "rgb(17,17,17)",
           "caxis": {
            "gridcolor": "#506784",
            "linecolor": "#506784",
            "ticks": ""
           }
          },
          "title": {
           "x": 0.05
          },
          "updatemenudefaults": {
           "bgcolor": "#506784",
           "borderwidth": 0
          },
          "xaxis": {
           "automargin": true,
           "gridcolor": "#283442",
           "linecolor": "#506784",
           "ticks": "",
           "title": {
            "standoff": 15
           },
           "zerolinecolor": "#283442",
           "zerolinewidth": 2
          },
          "yaxis": {
           "automargin": true,
           "gridcolor": "#283442",
           "linecolor": "#506784",
           "ticks": "",
           "title": {
            "standoff": 15
           },
           "zerolinecolor": "#283442",
           "zerolinewidth": 2
          }
         }
        },
        "title": {
         "text": "Yearly Gold Production"
        },
        "xaxis": {
         "title": {
          "text": "Date (Years)"
         }
        },
        "yaxis": {
         "title": {
          "text": "Gold Production (Tonnes)"
         }
        }
       }
      }
     },
     "metadata": {},
     "output_type": "display_data"
    }
   ],
   "source": [
    "import plotly.express as px\n",
    "import plotly.graph_objects as go\n",
    "\n",
    "fig = go.Figure()\n",
    "\n",
    "fig.add_trace(go.Scatter(x = gold['Year'], y = gold['Gold Production (Clio-Infra & USGS)'], mode = 'lines'))\n",
    "\n",
    "fig.update_layout(title = 'Yearly Gold Production',\n",
    "                  xaxis_title = 'Date (Years)',\n",
    "                  yaxis_title = 'Gold Production (Tonnes)',\n",
    "                  template = 'plotly_dark')\n",
    "\n",
    "fig.show()"
   ]
  },
  {
   "cell_type": "code",
   "execution_count": 20,
   "metadata": {},
   "outputs": [
    {
     "data": {
      "text/plain": [
       "<Figure size 800x500 with 0 Axes>"
      ]
     },
     "metadata": {},
     "output_type": "display_data"
    },
    {
     "data": {
      "image/png": "[encoded data removed]",
      "text/plain": [
       "<Figure size 640x480 with 1 Axes>"
      ]
     },
     "metadata": {},
     "output_type": "display_data"
    }
   ],
   "source": [
    "from statsmodels.graphics.tsaplots import plot_acf\n",
    "import matplotlib.pyplot as plt\n",
    "\n",
    "# Plot ACF of Apple closing prices\n",
    "plt.figure(figsize=(8, 5))\n",
    "plot_acf(gold['Gold Production (Clio-Infra & USGS)'], lags=40)\n",
    "plt.title(\"ACF of Gold Production Per Year\")\n",
    "plt.show()"
   ]
  },
  {
   "cell_type": "code",
   "execution_count": 33,
   "metadata": {},
   "outputs": [
    {
     "data": {
      "text/html": [
       "<div>\n",
       "<style scoped>\n",
       "    .dataframe tbody tr th:only-of-type {\n",
       "        vertical-align: middle;\n",
       "    }\n",
       "\n",
       "    .dataframe tbody tr th {\n",
       "        vertical-align: top;\n",
       "    }\n",
       "\n",
       "    .dataframe thead th {\n",
       "        text-align: right;\n",
       "    }\n",
       "</style>\n",
       "<table border=\"1\" class=\"dataframe\">\n",
       "  <thead>\n",
       "    <tr style=\"text-align: right;\">\n",
       "      <th></th>\n",
       "      <th>Entity</th>\n",
       "      <th>Code</th>\n",
       "      <th>Gold Production (Clio-Infra &amp; USGS)</th>\n",
       "    </tr>\n",
       "    <tr>\n",
       "      <th>Year</th>\n",
       "      <th></th>\n",
       "      <th></th>\n",
       "      <th></th>\n",
       "    </tr>\n",
       "  </thead>\n",
       "  <tbody>\n",
       "    <tr>\n",
       "      <th>1850</th>\n",
       "      <td>World</td>\n",
       "      <td>OWID_WRL</td>\n",
       "      <td>106</td>\n",
       "    </tr>\n",
       "    <tr>\n",
       "      <th>1851</th>\n",
       "      <td>World</td>\n",
       "      <td>OWID_WRL</td>\n",
       "      <td>125</td>\n",
       "    </tr>\n",
       "    <tr>\n",
       "      <th>1852</th>\n",
       "      <td>World</td>\n",
       "      <td>OWID_WRL</td>\n",
       "      <td>209</td>\n",
       "    </tr>\n",
       "    <tr>\n",
       "      <th>1853</th>\n",
       "      <td>World</td>\n",
       "      <td>OWID_WRL</td>\n",
       "      <td>224</td>\n",
       "    </tr>\n",
       "    <tr>\n",
       "      <th>1854</th>\n",
       "      <td>World</td>\n",
       "      <td>OWID_WRL</td>\n",
       "      <td>193</td>\n",
       "    </tr>\n",
       "  </tbody>\n",
       "</table>\n",
       "</div>"
      ],
      "text/plain": [
       "     Entity      Code  Gold Production (Clio-Infra & USGS)\n",
       "Year                                                      \n",
       "1850  World  OWID_WRL                                  106\n",
       "1851  World  OWID_WRL                                  125\n",
       "1852  World  OWID_WRL                                  209\n",
       "1853  World  OWID_WRL                                  224\n",
       "1854  World  OWID_WRL                                  193"
      ]
     },
     "execution_count": 33,
     "metadata": {},
     "output_type": "execute_result"
    }
   ],
   "source": [
    "gold.set_index('Year', inplace = True)\n",
    "gold.head()"
   ]
  },
  {
   "cell_type": "code",
   "execution_count": 34,
   "metadata": {},
   "outputs": [
    {
     "data": {
      "image/png": "[encoded data removed]",
      "text/plain": [
       "<Figure size 1400x1000 with 8 Axes>"
      ]
     },
     "metadata": {},
     "output_type": "display_data"
    }
   ],
   "source": [
    "import numpy as np\n",
    "import pandas as pd\n",
    "import matplotlib.pyplot as plt\n",
    "from statsmodels.tsa.seasonal import seasonal_decompose\n",
    "from statsmodels.tsa.stattools import adfuller\n",
    "from statsmodels.graphics.tsaplots import plot_acf, plot_pacf\n",
    "from statsmodels.stats.diagnostic import acorr_ljungbox\n",
    "\n",
    "# ---  Apply Additive and Multiplicative Decomposition ---\n",
    "additive_decomposition = seasonal_decompose(gold[\"Gold Production (Clio-Infra & USGS)\"], model=\"additive\", period=12)\n",
    "multiplicative_decomposition = seasonal_decompose(gold[\"Gold Production (Clio-Infra & USGS)\"], model=\"multiplicative\", period=12)\n",
    "\n",
    "# Plot both decompositions side by side\n",
    "fig, axes = plt.subplots(4, 2, figsize=(14, 10), sharex=True)\n",
    "\n",
    "# Additive Decomposition Plots\n",
    "axes[0, 0].plot(gold.index, gold[\"Gold Production (Clio-Infra & USGS)\"], color=\"black\")\n",
    "axes[0, 0].set_title(\"Original Time Series\")\n",
    "\n",
    "axes[1, 0].plot(gold.index, additive_decomposition.trend, color=\"blue\")\n",
    "axes[1, 0].set_title(\"Additive Trend Component\")\n",
    "\n",
    "axes[2, 0].plot(gold.index, additive_decomposition.seasonal, color=\"green\")\n",
    "axes[2, 0].set_title(\"Additive Seasonal Component\")\n",
    "\n",
    "axes[3, 0].plot(gold.index, additive_decomposition.resid, color=\"red\")\n",
    "axes[3, 0].set_title(\"Additive Residual Component\")\n",
    "\n",
    "# Multiplicative Decomposition Plots\n",
    "axes[0, 1].plot(gold.index, gold[\"Gold Production (Clio-Infra & USGS)\"], color=\"black\")\n",
    "axes[0, 1].set_title(\"Original Time Series\")\n",
    "\n",
    "axes[1, 1].plot(gold.index, multiplicative_decomposition.trend, color=\"blue\")\n",
    "axes[1, 1].set_title(\"Multiplicative Trend Component\")\n",
    "\n",
    "axes[2, 1].plot(gold.index, multiplicative_decomposition.seasonal, color=\"green\")\n",
    "axes[2, 1].set_title(\"Multiplicative Seasonal Component\")\n",
    "\n",
    "axes[3, 1].plot(gold.index, multiplicative_decomposition.resid, color=\"red\")\n",
    "axes[3, 1].set_title(\"Multiplicative Residual Component\")\n",
    "\n",
    "plt.tight_layout()\n",
    "plt.show()"
   ]
  },
  {
   "cell_type": "code",
   "execution_count": 35,
   "metadata": {},
   "outputs": [
    {
     "name": "stdout",
     "output_type": "stream",
     "text": [
      "ADF Statistic: -5.1403\n",
      "p-value: 0.0000\n"
     ]
    }
   ],
   "source": [
    "# --- Perform ADF Test on Residuals (Assuming Additive is Best) ---\n",
    "residuals = additive_decomposition.resid.dropna()\n",
    "adf_result = adfuller(residuals)\n",
    "\n",
    "print(f\"ADF Statistic: {adf_result[0]:.4f}\")\n",
    "print(f\"p-value: {adf_result[1]:.4f}\")"
   ]
  },
  {
   "cell_type": "code",
   "execution_count": 36,
   "metadata": {},
   "outputs": [
    {
     "data": {
      "image/png": "[encoded data removed]",
      "text/plain": [
       "<Figure size 1200x500 with 2 Axes>"
      ]
     },
     "metadata": {},
     "output_type": "display_data"
    }
   ],
   "source": [
    "# ---  ACF and PACF Plots of Residuals ---\n",
    "fig, axes = plt.subplots(1, 2, figsize=(12, 5))\n",
    "\n",
    "# ACF plot\n",
    "plot_acf(residuals, lags=32, ax=axes[0])\n",
    "axes[0].set_title(\"ACF of Residuals\")\n",
    "\n",
    "# PACF plot\n",
    "plot_pacf(residuals, lags=32, ax=axes[1])\n",
    "axes[1].set_title(\"PACF of Residuals\")\n",
    "\n",
    "plt.tight_layout()\n",
    "plt.show()"
   ]
  },
  {
   "cell_type": "code",
   "execution_count": 37,
   "metadata": {},
   "outputs": [
    {
     "name": "stdout",
     "output_type": "stream",
     "text": [
      "Ljung-Box p-value: 0.0000\n",
      "Tests if data is whitenoise (if it is then no correllation) low p = not whitenoise\n"
     ]
    }
   ],
   "source": [
    "# --- Perform Ljung-Box Test ---\n",
    "ljungbox_result = acorr_ljungbox(residuals, lags=[20], return_df=True)\n",
    "p_value_ljungbox = ljungbox_result[\"lb_pvalue\"].values[0]\n",
    "\n",
    "print(f\"Ljung-Box p-value: {p_value_ljungbox:.4f}\")\n",
    "print(\"Tests if data is whitenoise (if it is then no correllation) low p = not whitenoise\")"
   ]
  },
  {
   "cell_type": "code",
   "execution_count": 38,
   "metadata": {},
   "outputs": [
    {
     "name": "stdout",
     "output_type": "stream",
     "text": [
      "ADF Statistic: -6.4437\n",
      "p-value: 0.0000\n"
     ]
    }
   ],
   "source": [
    "# --- Perform ADF Test on Residuals (Assuming Multiplicative is Best) ---\n",
    "residuals = multiplicative_decomposition.resid.dropna()\n",
    "adf_result = adfuller(residuals)\n",
    "\n",
    "print(f\"ADF Statistic: {adf_result[0]:.4f}\")\n",
    "print(f\"p-value: {adf_result[1]:.4f}\")"
   ]
  },
  {
   "cell_type": "code",
   "execution_count": 39,
   "metadata": {},
   "outputs": [
    {
     "data": {
      "image/png": "[encoded data removed]",
      "text/plain": [
       "<Figure size 1200x500 with 2 Axes>"
      ]
     },
     "metadata": {},
     "output_type": "display_data"
    }
   ],
   "source": [
    "# ---  ACF and PACF Plots of Residuals ---\n",
    "fig, axes = plt.subplots(1, 2, figsize=(12, 5))\n",
    "\n",
    "# ACF plot\n",
    "plot_acf(residuals, lags=32, ax=axes[0])\n",
    "axes[0].set_title(\"ACF of Residuals\")\n",
    "\n",
    "# PACF plot\n",
    "plot_pacf(residuals, lags=32, ax=axes[1])\n",
    "axes[1].set_title(\"PACF of Residuals\")\n",
    "\n",
    "plt.tight_layout()\n",
    "plt.show()"
   ]
  },
  {
   "cell_type": "code",
   "execution_count": 40,
   "metadata": {},
   "outputs": [
    {
     "name": "stdout",
     "output_type": "stream",
     "text": [
      "Ljung-Box p-value: 0.0000\n",
      "Tests if data is whitenoise (if it is then no correllation) low p = not whitenoise\n"
     ]
    }
   ],
   "source": [
    "# --- Perform Ljung-Box Test ---\n",
    "ljungbox_result = acorr_ljungbox(residuals, lags=[20], return_df=True)\n",
    "p_value_ljungbox = ljungbox_result[\"lb_pvalue\"].values[0]\n",
    "\n",
    "print(f\"Ljung-Box p-value: {p_value_ljungbox:.4f}\")\n",
    "print(\"Tests if data is whitenoise (if it is then no correllation) low p = not whitenoise\")"
   ]
  },
  {
   "cell_type": "code",
   "execution_count": 43,
   "metadata": {},
   "outputs": [
    {
     "name": "stderr",
     "output_type": "stream",
     "text": [
      "c:\\Users\\SABIO\\Documents\\GitHub\\Operations-Management-Group-Project-1\\.venv\\Lib\\site-packages\\statsmodels\\tsa\\base\\tsa_model.py:473: ValueWarning:\n",
      "\n",
      "No frequency information was provided, so inferred frequency ns will be used.\n",
      "\n"
     ]
    },
    {
     "data": {
      "application/vnd.plotly.v1+json": {
       "config": {
        "plotlyServerURL": "https://plot.ly"
       },
       "data": [
        {
         "line": {
          "color": "blue"
         },
         "mode": "lines",
         "name": "Gold Production Tonnes",
         "type": "scatter",
         "x": [
          "1970-01-01T00:00:00.000001912",
          "1970-01-01T00:00:00.000001913",
          "1970-01-01T00:00:00.000001914",
          "1970-01-01T00:00:00.000001915",
          "1970-01-01T00:00:00.000001916",
          "1970-01-01T00:00:00.000001917",
          "1970-01-01T00:00:00.000001918",
          "1970-01-01T00:00:00.000001919",
          "1970-01-01T00:00:00.000001920",
          "1970-01-01T00:00:00.000001921",
          "1970-01-01T00:00:00.000001922",
          "1970-01-01T00:00:00.000001923",
          "1970-01-01T00:00:00.000001924",
          "1970-01-01T00:00:00.000001925",
          "1970-01-01T00:00:00.000001926",
          "1970-01-01T00:00:00.000001927",
          "1970-01-01T00:00:00.000001928",
          "1970-01-01T00:00:00.000001929",
          "1970-01-01T00:00:00.000001930",
          "1970-01-01T00:00:00.000001931",
          "1970-01-01T00:00:00.000001932",
          "1970-01-01T00:00:00.000001933",
          "1970-01-01T00:00:00.000001934",
          "1970-01-01T00:00:00.000001935",
          "1970-01-01T00:00:00.000001936",
          "1970-01-01T00:00:00.000001937",
          "1970-01-01T00:00:00.000001938",
          "1970-01-01T00:00:00.000001939",
          "1970-01-01T00:00:00.000001940",
          "1970-01-01T00:00:00.000001941",
          "1970-01-01T00:00:00.000001942",
          "1970-01-01T00:00:00.000001943",
          "1970-01-01T00:00:00.000001944",
          "1970-01-01T00:00:00.000001945",
          "1970-01-01T00:00:00.000001946",
          "1970-01-01T00:00:00.000001947",
          "1970-01-01T00:00:00.000001948",
          "1970-01-01T00:00:00.000001949",
          "1970-01-01T00:00:00.000001950",
          "1970-01-01T00:00:00.000001951",
          "1970-01-01T00:00:00.000001952",
          "1970-01-01T00:00:00.000001953",
          "1970-01-01T00:00:00.000001954",
          "1970-01-01T00:00:00.000001955",
          "1970-01-01T00:00:00.000001956",
          "1970-01-01T00:00:00.000001957",
          "1970-01-01T00:00:00.000001958",
          "1970-01-01T00:00:00.000001959",
          "1970-01-01T00:00:00.000001960",
          "1970-01-01T00:00:00.000001961",
          "1970-01-01T00:00:00.000001962",
          "1970-01-01T00:00:00.000001963",
          "1970-01-01T00:00:00.000001964",
          "1970-01-01T00:00:00.000001965",
          "1970-01-01T00:00:00.000001966",
          "1970-01-01T00:00:00.000001967",
          "1970-01-01T00:00:00.000001968",
          "1970-01-01T00:00:00.000001969",
          "1970-01-01T00:00:00.000001970",
          "1970-01-01T00:00:00.000001971",
          "1970-01-01T00:00:00.000001972",
          "1970-01-01T00:00:00.000001973",
          "1970-01-01T00:00:00.000001974",
          "1970-01-01T00:00:00.000001975",
          "1970-01-01T00:00:00.000001976",
          "1970-01-01T00:00:00.000001977",
          "1970-01-01T00:00:00.000001978",
          "1970-01-01T00:00:00.000001979",
          "1970-01-01T00:00:00.000001980",
          "1970-01-01T00:00:00.000001981",
          "1970-01-01T00:00:00.000001982",
          "1970-01-01T00:00:00.000001983",
          "1970-01-01T00:00:00.000001984",
          "1970-01-01T00:00:00.000001985",
          "1970-01-01T00:00:00.000001986",
          "1970-01-01T00:00:00.000001987",
          "1970-01-01T00:00:00.000001988",
          "1970-01-01T00:00:00.000001989",
          "1970-01-01T00:00:00.000001990",
          "1970-01-01T00:00:00.000001991",
          "1970-01-01T00:00:00.000001992",
          "1970-01-01T00:00:00.000001993",
          "1970-01-01T00:00:00.000001994",
          "1970-01-01T00:00:00.000001995",
          "1970-01-01T00:00:00.000001996",
          "1970-01-01T00:00:00.000001997",
          "1970-01-01T00:00:00.000001998",
          "1970-01-01T00:00:00.000001999",
          "1970-01-01T00:00:00.000002000",
          "1970-01-01T00:00:00.000002001",
          "1970-01-01T00:00:00.000002002",
          "1970-01-01T00:00:00.000002003",
          "1970-01-01T00:00:00.000002004",
          "1970-01-01T00:00:00.000002005",
          "1970-01-01T00:00:00.000002006",
          "1970-01-01T00:00:00.000002007",
          "1970-01-01T00:00:00.000002008",
          "1970-01-01T00:00:00.000002009",
          "1970-01-01T00:00:00.000002010",
          "1970-01-01T00:00:00.000002011",
          "1970-01-01T00:00:00.000002012",
          "1970-01-01T00:00:00.000002013",
          "1970-01-01T00:00:00.000002014",
          "1970-01-01T00:00:00.000002015"
         ],
         "y": {
          "bdata": "twLIApsCuwKiAmsCMwIWAu4B5gHXARwCOwI/Ak0CTQJeAmMChAKyAu8CBQM4A4ED8gMmBHkErAQVBVkE0QP9AqYCiwKcAqgCtgLWAuwC2wLuAuwCGAM/A2IDhwOgA+QDEgQ0BH0ErgTZBPsE+wTRBNoE4ARXBkMGFwbrBYsFSQVvBcoE1ATKBMgE4AQgBXQFiQXLBQkGQgbgBq4HMghNCMEI+QiqCJMIyQhoCbEJ7wngCf0JxwnUCWsJjglcCRsJ7QixCRoKDQr+CWgLzAscDA==",
          "dtype": "i2"
         }
        },
        {
         "line": {
          "color": "red",
          "dash": "dash"
         },
         "mode": "lines",
         "name": "Holt-Winters Forecast",
         "type": "scatter",
         "x": [
          "1970-01-01T00:00:00.000002004",
          "1970-01-01T00:00:00.000002005",
          "1970-01-01T00:00:00.000002006",
          "1970-01-01T00:00:00.000002007",
          "1970-01-01T00:00:00.000002008",
          "1970-01-01T00:00:00.000002009",
          "1970-01-01T00:00:00.000002010",
          "1970-01-01T00:00:00.000002011",
          "1970-01-01T00:00:00.000002012",
          "1970-01-01T00:00:00.000002013",
          "1970-01-01T00:00:00.000002014",
          "1970-01-01T00:00:00.000002015"
         ],
         "y": {
          "bdata": "fYp3fvJro0D3IEm+n3ijQHi2c3GooKNAc8eE32pmo0AvSrkzunujQH1Prp9yoKNADNFNwla9o0DQVkLIAfSjQLkS+BUzTKRA46RWGwHNpEDkZnRWDjalQEqkLktinKVA",
          "dtype": "f8"
         }
        },
        {
         "fill": "toself",
         "fillcolor": "rgba(255, 0, 0, 0.2)",
         "line": {
          "color": "rgba(255,255,255,0)"
         },
         "name": "95% Confidence Interval",
         "type": "scatter",
         "x": [
          "1970-01-01T00:00:00.000002004",
          "1970-01-01T00:00:00.000002005",
          "1970-01-01T00:00:00.000002006",
          "1970-01-01T00:00:00.000002007",
          "1970-01-01T00:00:00.000002008",
          "1970-01-01T00:00:00.000002009",
          "1970-01-01T00:00:00.000002010",
          "1970-01-01T00:00:00.000002011",
          "1970-01-01T00:00:00.000002012",
          "1970-01-01T00:00:00.000002013",
          "1970-01-01T00:00:00.000002014",
          "1970-01-01T00:00:00.000002015",
          "1970-01-01T00:00:00.000002015",
          "1970-01-01T00:00:00.000002014",
          "1970-01-01T00:00:00.000002013",
          "1970-01-01T00:00:00.000002012",
          "1970-01-01T00:00:00.000002011",
          "1970-01-01T00:00:00.000002010",
          "1970-01-01T00:00:00.000002009",
          "1970-01-01T00:00:00.000002008",
          "1970-01-01T00:00:00.000002007",
          "1970-01-01T00:00:00.000002006",
          "1970-01-01T00:00:00.000002005",
          "1970-01-01T00:00:00.000002004"
         ],
         "y": [
          2594.497395856628,
          2600.8357733796865,
          2620.8527653104097,
          2591.7325113024244,
          2602.3874506115053,
          2620.7476492589067,
          2635.1932259119726,
          2662.5272557212843,
          2706.623551725759,
          2771.025936441166,
          2823.5517780872956,
          2874.715754584941,
          2657.668205104304,
          2606.5042286066587,
          2553.978386960529,
          2489.5760022451223,
          2445.4797062406474,
          2418.1456764313357,
          2403.7000997782698,
          2385.3399011308684,
          2374.6849618217875,
          2403.805215829773,
          2383.7882238990496,
          2377.449846375991
         ]
        }
       ],
       "layout": {
        "hovermode": "x unified",
        "template": {
         "data": {
          "bar": [
           {
            "error_x": {
             "color": "#f2f5fa"
            },
            "error_y": {
             "color": "#f2f5fa"
            },
            "marker": {
             "line": {
              "color": "rgb(17,17,17)",
              "width": 0.5
             },
             "pattern": {
              "fillmode": "overlay",
              "size": 10,
              "solidity": 0.2
             }
            },
            "type": "bar"
           }
          ],
          "barpolar": [
           {
            "marker": {
             "line": {
              "color": "rgb(17,17,17)",
              "width": 0.5
             },
             "pattern": {
              "fillmode": "overlay",
              "size": 10,
              "solidity": 0.2
             }
            },
            "type": "barpolar"
           }
          ],
          "carpet": [
           {
            "aaxis": {
             "endlinecolor": "#A2B1C6",
             "gridcolor": "#506784",
             "linecolor": "#506784",
             "minorgridcolor": "#506784",
             "startlinecolor": "#A2B1C6"
            },
            "baxis": {
             "endlinecolor": "#A2B1C6",
             "gridcolor": "#506784",
             "linecolor": "#506784",
             "minorgridcolor": "#506784",
             "startlinecolor": "#A2B1C6"
            },
            "type": "carpet"
           }
          ],
          "choropleth": [
           {
            "colorbar": {
             "outlinewidth": 0,
             "ticks": ""
            },
            "type": "choropleth"
           }
          ],
          "contour": [
           {
            "colorbar": {
             "outlinewidth": 0,
             "ticks": ""
            },
            "colorscale": [
             [
              0,
              "#0d0887"
             ],
             [
              0.1111111111111111,
              "#46039f"
             ],
             [
              0.2222222222222222,
              "#7201a8"
             ],
             [
              0.3333333333333333,
              "#9c179e"
             ],
             [
              0.4444444444444444,
              "#bd3786"
             ],
             [
              0.5555555555555556,
              "#d8576b"
             ],
             [
              0.6666666666666666,
              "#ed7953"
             ],
             [
              0.7777777777777778,
              "#fb9f3a"
             ],
             [
              0.8888888888888888,
              "#fdca26"
             ],
             [
              1,
              "#f0f921"
             ]
            ],
            "type": "contour"
           }
          ],
          "contourcarpet": [
           {
            "colorbar": {
             "outlinewidth": 0,
             "ticks": ""
            },
            "type": "contourcarpet"
           }
          ],
          "heatmap": [
           {
            "colorbar": {
             "outlinewidth": 0,
             "ticks": ""
            },
            "colorscale": [
             [
              0,
              "#0d0887"
             ],
             [
              0.1111111111111111,
              "#46039f"
             ],
             [
              0.2222222222222222,
              "#7201a8"
             ],
             [
              0.3333333333333333,
              "#9c179e"
             ],
             [
              0.4444444444444444,
              "#bd3786"
             ],
             [
              0.5555555555555556,
              "#d8576b"
             ],
             [
              0.6666666666666666,
              "#ed7953"
             ],
             [
              0.7777777777777778,
              "#fb9f3a"
             ],
             [
              0.8888888888888888,
              "#fdca26"
             ],
             [
              1,
              "#f0f921"
             ]
            ],
            "type": "heatmap"
           }
          ],
          "histogram": [
           {
            "marker": {
             "pattern": {
              "fillmode": "overlay",
              "size": 10,
              "solidity": 0.2
             }
            },
            "type": "histogram"
           }
          ],
          "histogram2d": [
           {
            "colorbar": {
             "outlinewidth": 0,
             "ticks": ""
            },
            "colorscale": [
             [
              0,
              "#0d0887"
             ],
             [
              0.1111111111111111,
              "#46039f"
             ],
             [
              0.2222222222222222,
              "#7201a8"
             ],
             [
              0.3333333333333333,
              "#9c179e"
             ],
             [
              0.4444444444444444,
              "#bd3786"
             ],
             [
              0.5555555555555556,
              "#d8576b"
             ],
             [
              0.6666666666666666,
              "#ed7953"
             ],
             [
              0.7777777777777778,
              "#fb9f3a"
             ],
             [
              0.8888888888888888,
              "#fdca26"
             ],
             [
              1,
              "#f0f921"
             ]
            ],
            "type": "histogram2d"
           }
          ],
          "histogram2dcontour": [
           {
            "colorbar": {
             "outlinewidth": 0,
             "ticks": ""
            },
            "colorscale": [
             [
              0,
              "#0d0887"
             ],
             [
              0.1111111111111111,
              "#46039f"
             ],
             [
              0.2222222222222222,
              "#7201a8"
             ],
             [
              0.3333333333333333,
              "#9c179e"
             ],
             [
              0.4444444444444444,
              "#bd3786"
             ],
             [
              0.5555555555555556,
              "#d8576b"
             ],
             [
              0.6666666666666666,
              "#ed7953"
             ],
             [
              0.7777777777777778,
              "#fb9f3a"
             ],
             [
              0.8888888888888888,
              "#fdca26"
             ],
             [
              1,
              "#f0f921"
             ]
            ],
            "type": "histogram2dcontour"
           }
          ],
          "mesh3d": [
           {
            "colorbar": {
             "outlinewidth": 0,
             "ticks": ""
            },
            "type": "mesh3d"
           }
          ],
          "parcoords": [
           {
            "line": {
             "colorbar": {
              "outlinewidth": 0,
              "ticks": ""
             }
            },
            "type": "parcoords"
           }
          ],
          "pie": [
           {
            "automargin": true,
            "type": "pie"
           }
          ],
          "scatter": [
           {
            "marker": {
             "line": {
              "color": "#283442"
             }
            },
            "type": "scatter"
           }
          ],
          "scatter3d": [
           {
            "line": {
             "colorbar": {
              "outlinewidth": 0,
              "ticks": ""
             }
            },
            "marker": {
             "colorbar": {
              "outlinewidth": 0,
              "ticks": ""
             }
            },
            "type": "scatter3d"
           }
          ],
          "scattercarpet": [
           {
            "marker": {
             "colorbar": {
              "outlinewidth": 0,
              "ticks": ""
             }
            },
            "type": "scattercarpet"
           }
          ],
          "scattergeo": [
           {
            "marker": {
             "colorbar": {
              "outlinewidth": 0,
              "ticks": ""
             }
            },
            "type": "scattergeo"
           }
          ],
          "scattergl": [
           {
            "marker": {
             "line": {
              "color": "#283442"
             }
            },
            "type": "scattergl"
           }
          ],
          "scattermap": [
           {
            "marker": {
             "colorbar": {
              "outlinewidth": 0,
              "ticks": ""
             }
            },
            "type": "scattermap"
           }
          ],
          "scattermapbox": [
           {
            "marker": {
             "colorbar": {
              "outlinewidth": 0,
              "ticks": ""
             }
            },
            "type": "scattermapbox"
           }
          ],
          "scatterpolar": [
           {
            "marker": {
             "colorbar": {
              "outlinewidth": 0,
              "ticks": ""
             }
            },
            "type": "scatterpolar"
           }
          ],
          "scatterpolargl": [
           {
            "marker": {
             "colorbar": {
              "outlinewidth": 0,
              "ticks": ""
             }
            },
            "type": "scatterpolargl"
           }
          ],
          "scatterternary": [
           {
            "marker": {
             "colorbar": {
              "outlinewidth": 0,
              "ticks": ""
             }
            },
            "type": "scatterternary"
           }
          ],
          "surface": [
           {
            "colorbar": {
             "outlinewidth": 0,
             "ticks": ""
            },
            "colorscale": [
             [
              0,
              "#0d0887"
             ],
             [
              0.1111111111111111,
              "#46039f"
             ],
             [
              0.2222222222222222,
              "#7201a8"
             ],
             [
              0.3333333333333333,
              "#9c179e"
             ],
             [
              0.4444444444444444,
              "#bd3786"
             ],
             [
              0.5555555555555556,
              "#d8576b"
             ],
             [
              0.6666666666666666,
              "#ed7953"
             ],
             [
              0.7777777777777778,
              "#fb9f3a"
             ],
             [
              0.8888888888888888,
              "#fdca26"
             ],
             [
              1,
              "#f0f921"
             ]
            ],
            "type": "surface"
           }
          ],
          "table": [
           {
            "cells": {
             "fill": {
              "color": "#506784"
             },
             "line": {
              "color": "rgb(17,17,17)"
             }
            },
            "header": {
             "fill": {
              "color": "#2a3f5f"
             },
             "line": {
              "color": "rgb(17,17,17)"
             }
            },
            "type": "table"
           }
          ]
         },
         "layout": {
          "annotationdefaults": {
           "arrowcolor": "#f2f5fa",
           "arrowhead": 0,
           "arrowwidth": 1
          },
          "autotypenumbers": "strict",
          "coloraxis": {
           "colorbar": {
            "outlinewidth": 0,
            "ticks": ""
           }
          },
          "colorscale": {
           "diverging": [
            [
             0,
             "#8e0152"
            ],
            [
             0.1,
             "#c51b7d"
            ],
            [
             0.2,
             "#de77ae"
            ],
            [
             0.3,
             "#f1b6da"
            ],
            [
             0.4,
             "#fde0ef"
            ],
            [
             0.5,
             "#f7f7f7"
            ],
            [
             0.6,
             "#e6f5d0"
            ],
            [
             0.7,
             "#b8e186"
            ],
            [
             0.8,
             "#7fbc41"
            ],
            [
             0.9,
             "#4d9221"
            ],
            [
             1,
             "#276419"
            ]
           ],
           "sequential": [
            [
             0,
             "#0d0887"
            ],
            [
             0.1111111111111111,
             "#46039f"
            ],
            [
             0.2222222222222222,
             "#7201a8"
            ],
            [
             0.3333333333333333,
             "#9c179e"
            ],
            [
             0.4444444444444444,
             "#bd3786"
            ],
            [
             0.5555555555555556,
             "#d8576b"
            ],
            [
             0.6666666666666666,
             "#ed7953"
            ],
            [
             0.7777777777777778,
             "#fb9f3a"
            ],
            [
             0.8888888888888888,
             "#fdca26"
            ],
            [
             1,
             "#f0f921"
            ]
           ],
           "sequentialminus": [
            [
             0,
             "#0d0887"
            ],
            [
             0.1111111111111111,
             "#46039f"
            ],
            [
             0.2222222222222222,
             "#7201a8"
            ],
            [
             0.3333333333333333,
             "#9c179e"
            ],
            [
             0.4444444444444444,
             "#bd3786"
            ],
            [
             0.5555555555555556,
             "#d8576b"
            ],
            [
             0.6666666666666666,
             "#ed7953"
            ],
            [
             0.7777777777777778,
             "#fb9f3a"
            ],
            [
             0.8888888888888888,
             "#fdca26"
            ],
            [
             1,
             "#f0f921"
            ]
           ]
          },
          "colorway": [
           "#636efa",
           "#EF553B",
           "#00cc96",
           "#ab63fa",
           "#FFA15A",
           "#19d3f3",
           "#FF6692",
           "#B6E880",
           "#FF97FF",
           "#FECB52"
          ],
          "font": {
           "color": "#f2f5fa"
          },
          "geo": {
           "bgcolor": "rgb(17,17,17)",
           "lakecolor": "rgb(17,17,17)",
           "landcolor": "rgb(17,17,17)",
           "showlakes": true,
           "showland": true,
           "subunitcolor": "#506784"
          },
          "hoverlabel": {
           "align": "left"
          },
          "hovermode": "closest",
          "mapbox": {
           "style": "dark"
          },
          "paper_bgcolor": "rgb(17,17,17)",
          "plot_bgcolor": "rgb(17,17,17)",
          "polar": {
           "angularaxis": {
            "gridcolor": "#506784",
            "linecolor": "#506784",
            "ticks": ""
           },
           "bgcolor": "rgb(17,17,17)",
           "radialaxis": {
            "gridcolor": "#506784",
            "linecolor": "#506784",
            "ticks": ""
           }
          },
          "scene": {
           "xaxis": {
            "backgroundcolor": "rgb(17,17,17)",
            "gridcolor": "#506784",
            "gridwidth": 2,
            "linecolor": "#506784",
            "showbackground": true,
            "ticks": "",
            "zerolinecolor": "#C8D4E3"
           },
           "yaxis": {
            "backgroundcolor": "rgb(17,17,17)",
            "gridcolor": "#506784",
            "gridwidth": 2,
            "linecolor": "#506784",
            "showbackground": true,
            "ticks": "",
            "zerolinecolor": "#C8D4E3"
           },
           "zaxis": {
            "backgroundcolor": "rgb(17,17,17)",
            "gridcolor": "#506784",
            "gridwidth": 2,
            "linecolor": "#506784",
            "showbackground": true,
            "ticks": "",
            "zerolinecolor": "#C8D4E3"
           }
          },
          "shapedefaults": {
           "line": {
            "color": "#f2f5fa"
           }
          },
          "sliderdefaults": {
           "bgcolor": "#C8D4E3",
           "bordercolor": "rgb(17,17,17)",
           "borderwidth": 1,
           "tickwidth": 0
          },
          "ternary": {
           "aaxis": {
            "gridcolor": "#506784",
            "linecolor": "#506784",
            "ticks": ""
           },
           "baxis": {
            "gridcolor": "#506784",
            "linecolor": "#506784",
            "ticks": ""
           },
           "bgcolor": "rgb(17,17,17)",
           "caxis": {
            "gridcolor": "#506784",
            "linecolor": "#506784",
            "ticks": ""
           }
          },
          "title": {
           "x": 0.05
          },
          "updatemenudefaults": {
           "bgcolor": "#506784",
           "borderwidth": 0
          },
          "xaxis": {
           "automargin": true,
           "gridcolor": "#283442",
           "linecolor": "#506784",
           "ticks": "",
           "title": {
            "standoff": 15
           },
           "zerolinecolor": "#283442",
           "zerolinewidth": 2
          },
          "yaxis": {
           "automargin": true,
           "gridcolor": "#283442",
           "linecolor": "#506784",
           "ticks": "",
           "title": {
            "standoff": 15
           },
           "zerolinecolor": "#283442",
           "zerolinewidth": 2
          }
         }
        },
        "title": {
         "text": "Holt-Winters Forecast for Yearly Gold Production"
        },
        "xaxis": {
         "tickangle": 45,
         "tickformat": "%b %Y",
         "tickmode": "auto",
         "title": {
          "text": "Date (Years)"
         }
        },
        "yaxis": {
         "showgrid": true,
         "title": {
          "text": "Gold Production (Tonnes)"
         }
        }
       }
      }
     },
     "metadata": {},
     "output_type": "display_data"
    }
   ],
   "source": [
    "import plotly.graph_objects as go\n",
    "import numpy as np\n",
    "import pandas as pd\n",
    "from statsmodels.tsa.holtwinters import ExponentialSmoothing\n",
    "\n",
    "# Ensure the index is datetime\n",
    "gold.index = pd.to_datetime(gold.index)\n",
    "\n",
    "# Train-test split: Exclude the last 12 weeks for training\n",
    "train_data = gold.iloc[:-12] # all data except last 12 weeks\n",
    "test_data = gold.iloc[-12:]   # only last 12 weeks\n",
    "\n",
    "# Fit Holt-Winters Exponential Smoothing model\n",
    "hw_model = ExponentialSmoothing(\n",
    "    train_data[\"Gold Production (Clio-Infra & USGS)\"],  # Use the \"count\" column\n",
    "    trend=\"add\",          # Additive trend\n",
    "    seasonal=\"add\",       # Additive seasonality\n",
    "    seasonal_periods=30   # 52 weeks in a year (for weekly data)\n",
    ").fit()\n",
    "\n",
    "# Forecast the next 12 weeks\n",
    "forecast_values = hw_model.forecast(steps=12)\n",
    "\n",
    "# Estimate confidence intervals using residual standard deviation\n",
    "residuals = train_data[\"Gold Production (Clio-Infra & USGS)\"] - hw_model.fittedvalues\n",
    "std_dev = np.std(residuals)\n",
    "confidence_interval = 1.96 * std_dev  # 95% Confidence Interval\n",
    "\n",
    "# Convert forecasted values to a Pandas Series with correct weekly index\n",
    "forecast_series = pd.Series(forecast_values.values, index=test_data.index)\n",
    "\n",
    "# Select the last 2 years of actual data for plotting\n",
    "df_last2years = gold.iloc[-104:]  # Show last 104 weeks (2 years)\n",
    "\n",
    "# Create the figure\n",
    "fig = go.Figure()\n",
    "\n",
    "# **1. Actual Data - Blue Line**\n",
    "fig.add_trace(go.Scatter(\n",
    "    x=df_last2years.index,\n",
    "    y=df_last2years[\"Gold Production (Clio-Infra & USGS)\"],\n",
    "    mode='lines',\n",
    "    name='Gold Production Tonnes',\n",
    "    line=dict(color='blue')\n",
    "))\n",
    "\n",
    "# **2. Forecasted Data - Red Dashed Line**\n",
    "fig.add_trace(go.Scatter(\n",
    "    x=forecast_series.index,\n",
    "    y=forecast_series,\n",
    "    mode='lines',\n",
    "    name='Holt-Winters Forecast',\n",
    "    line=dict(color='red', dash='dash')\n",
    "))\n",
    "\n",
    "# **3. Confidence Interval - Shaded Region**\n",
    "fig.add_trace(go.Scatter(\n",
    "    x=forecast_series.index.tolist() + forecast_series.index[::-1].tolist(),\n",
    "    y=(forecast_series + confidence_interval).tolist() + (forecast_series - confidence_interval)[::-1].tolist(),\n",
    "    fill='toself',\n",
    "    fillcolor='rgba(255, 0, 0, 0.2)',  # Light red shading\n",
    "    line=dict(color='rgba(255,255,255,0)'),\n",
    "    name='95% Confidence Interval'\n",
    "))\n",
    "\n",
    "# **Customize Layout**\n",
    "fig.update_layout(\n",
    "    title=\"Holt-Winters Forecast for Yearly Gold Production\",\n",
    "    xaxis_title=\"Date (Years)\",\n",
    "    yaxis_title=\"Gold Production (Tonnes)\",\n",
    "    template=\"plotly_dark\",\n",
    "    xaxis=dict(\n",
    "        tickformat=\"%b %Y\",  # Show month & year on X-axis\n",
    "        tickangle=45,        # Rotate labels\n",
    "        tickmode=\"auto\"\n",
    "    ),\n",
    "    yaxis=dict(showgrid=True),\n",
    "    hovermode=\"x unified\"  # Show all values on hover\n",
    ")\n",
    "\n",
    "# Show the plot\n",
    "fig.show()"
   ]
  }
 ],
 "metadata": {
  "kernelspec": {
   "display_name": ".venv",
   "language": "python",
   "name": "python3"
  },
  "language_info": {
   "codemirror_mode": {
    "name": "ipython",
    "version": 3
   },
   "file_extension": ".py",
   "mimetype": "text/x-python",
   "name": "python",
   "nbconvert_exporter": "python",
   "pygments_lexer": "ipython3",
   "version": "3.12.0"
  }
 },
 "nbformat": 4,
 "nbformat_minor": 2
}
