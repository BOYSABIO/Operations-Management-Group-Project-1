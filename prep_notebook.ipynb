{
 "cells": [
  {
   "cell_type": "markdown",
   "metadata": {},
   "source": [
    "Import Libraries"
   ]
  },
  {
   "cell_type": "code",
   "execution_count": 9,
   "metadata": {},
   "outputs": [],
   "source": [
    "import pandas as pd\n",
    "import plotly.express as px\n",
    "import plotly.graph_objects as go\n",
    "import matplotlib.pyplot as plt\n",
    "import numpy as np\n",
    "from statsmodels.tsa.seasonal import seasonal_decompose\n",
    "from statsmodels.tsa.stattools import adfuller\n",
    "from statsmodels.graphics.tsaplots import plot_acf, plot_pacf\n",
    "from statsmodels.stats.diagnostic import acorr_ljungbox\n",
    "from statsmodels.tsa.holtwinters import ExponentialSmoothing"
   ]
  },
  {
   "cell_type": "markdown",
   "metadata": {},
   "source": [
    "Clean & Filter the DataFrame"
   ]
  },
  {
   "cell_type": "code",
   "execution_count": null,
   "metadata": {},
   "outputs": [],
   "source": []
  },
  {
   "cell_type": "markdown",
   "metadata": {},
   "source": [
    "Set Date as Index"
   ]
  },
  {
   "cell_type": "code",
   "execution_count": null,
   "metadata": {},
   "outputs": [],
   "source": []
  },
  {
   "cell_type": "markdown",
   "metadata": {},
   "source": [
    "Plot Timeseries"
   ]
  },
  {
   "cell_type": "code",
   "execution_count": 2,
   "metadata": {},
   "outputs": [],
   "source": [
    "def plot_timeseries_data(grain, df):\n",
    "\n",
    "    fig = go.Figure()\n",
    "\n",
    "    fig.add_trace(go.Scatter(x = df.index, y = df['value'], mode = 'lines'))\n",
    "\n",
    "    fig.update_layout(title = f'{grain} {df['value'].name} Time Series',\n",
    "                    xaxis_title = f'Date ({grain})',\n",
    "                    yaxis_title = f'{df['value'].name}',\n",
    "                    template = 'plotly_dark')\n",
    "\n",
    "    return fig.show()"
   ]
  },
  {
   "cell_type": "markdown",
   "metadata": {},
   "source": [
    "ACF Plot"
   ]
  },
  {
   "cell_type": "code",
   "execution_count": 4,
   "metadata": {},
   "outputs": [],
   "source": [
    "def acf_plot(df, lag):\n",
    "    plt.figure(figsize=(8, 5))\n",
    "    plot_acf(df['total'], lags=lag)\n",
    "    plt.title(f\"ACF of {df['value'].name}\")\n",
    "    return plt.show()"
   ]
  },
  {
   "cell_type": "markdown",
   "metadata": {},
   "source": [
    "Decomposition"
   ]
  },
  {
   "cell_type": "code",
   "execution_count": null,
   "metadata": {},
   "outputs": [],
   "source": [
    "def decomposition(df):\n",
    "    # ---  Apply Additive and Multiplicative Decomposition ---\n",
    "    additive_decomposition = seasonal_decompose(df[\"value\"], model=\"additive\", period=12)\n",
    "    multiplicative_decomposition = seasonal_decompose(df[\"value\"], model=\"multiplicative\", period=12)\n",
    "\n",
    "    # Plot both decompositions side by side\n",
    "    fig, axes = plt.subplots(4, 2, figsize=(14, 10), sharex=True)\n",
    "\n",
    "    # Additive Decomposition Plots\n",
    "    axes[0, 0].plot(df.index, df[\"value\"], color=\"black\")\n",
    "    axes[0, 0].set_title(\"Original Time Series\")\n",
    "\n",
    "    axes[1, 0].plot(df.index, additive_decomposition.trend, color=\"blue\")\n",
    "    axes[1, 0].set_title(\"Additive Trend Component\")\n",
    "\n",
    "    axes[2, 0].plot(df.index, additive_decomposition.seasonal, color=\"green\")\n",
    "    axes[2, 0].set_title(\"Additive Seasonal Component\")\n",
    "\n",
    "    axes[3, 0].plot(df.index, additive_decomposition.resid, color=\"red\")\n",
    "    axes[3, 0].set_title(\"Additive Residual Component\")\n",
    "\n",
    "    # Multiplicative Decomposition Plots\n",
    "    axes[0, 1].plot(df.index, df[\"value\"], color=\"black\")\n",
    "    axes[0, 1].set_title(\"Original Time Series\")\n",
    "\n",
    "    axes[1, 1].plot(df.index, multiplicative_decomposition.trend, color=\"blue\")\n",
    "    axes[1, 1].set_title(\"Multiplicative Trend Component\")\n",
    "\n",
    "    axes[2, 1].plot(df.index, multiplicative_decomposition.seasonal, color=\"green\")\n",
    "    axes[2, 1].set_title(\"Multiplicative Seasonal Component\")\n",
    "\n",
    "    axes[3, 1].plot(df.index, multiplicative_decomposition.resid, color=\"red\")\n",
    "    axes[3, 1].set_title(\"Multiplicative Residual Component\")\n",
    "\n",
    "    plt.tight_layout()\n",
    "    return plt.show()"
   ]
  },
  {
   "cell_type": "markdown",
   "metadata": {},
   "source": [
    "ADF Test"
   ]
  },
  {
   "cell_type": "code",
   "execution_count": null,
   "metadata": {},
   "outputs": [],
   "source": [
    "def adf_test(df, add_mul):\n",
    "    if add_mul == 'add':\n",
    "        additive_decomposition = seasonal_decompose(df[\"value\"], model=\"additive\", period=12)\n",
    "        # --- Perform ADF Test on Residuals (Assuming Additive is Best) ---\n",
    "        residuals = additive_decomposition.resid.dropna()\n",
    "        adf_result = adfuller(residuals)\n",
    "    elif add_mul == 'mul':\n",
    "        multiplicative_decomposition = seasonal_decompose(df[\"value\"], model=\"multiplicative\", period=12)\n",
    "        # --- Perform ADF Test on Residuals (Assuming Multiplicative is Best) ---\n",
    "        residuals = multiplicative_decomposition.resid.dropna()\n",
    "        adf_result = adfuller(residuals)\n",
    "\n",
    "    print(f\"ADF Statistic: {adf_result[0]:.4f}\")\n",
    "    print(f\"p-value: {adf_result[1]:.4f}\")\n",
    "    return residuals"
   ]
  },
  {
   "cell_type": "markdown",
   "metadata": {},
   "source": [
    "ACF & PACF Plot Residuals"
   ]
  },
  {
   "cell_type": "code",
   "execution_count": 8,
   "metadata": {},
   "outputs": [],
   "source": [
    "def acf_pacf_residuals(residuals, lag):\n",
    "        # ---  ACF and PACF Plots of Residuals ---\n",
    "        fig, axes = plt.subplots(1, 2, figsize=(12, 5))\n",
    "\n",
    "        # ACF plot\n",
    "        plot_acf(residuals, lags=lag, ax=axes[0])\n",
    "        axes[0].set_title(\"ACF of Residuals\")\n",
    "\n",
    "        # PACF plot\n",
    "        plot_pacf(residuals, lags=lag, ax=axes[1])\n",
    "        axes[1].set_title(\"PACF of Residuals\")\n",
    "\n",
    "        plt.tight_layout()\n",
    "        plt.show()"
   ]
  },
  {
   "cell_type": "markdown",
   "metadata": {},
   "source": [
    "Lijung Box Test"
   ]
  },
  {
   "cell_type": "code",
   "execution_count": null,
   "metadata": {},
   "outputs": [],
   "source": [
    "def ljung_box(residuals):\n",
    "    # --- Perform Ljung-Box Test ---\n",
    "    ljungbox_result = acorr_ljungbox(residuals, lags=[20], return_df=True)\n",
    "    p_value_ljungbox = ljungbox_result[\"lb_pvalue\"].values[0]\n",
    "\n",
    "    print(f\"Ljung-Box p-value: {p_value_ljungbox:.4f}\")\n",
    "    print(\"Tests if data is whitenoise (if it is then no correllation) low p = not whitenoise\")"
   ]
  },
  {
   "cell_type": "markdown",
   "metadata": {},
   "source": [
    "Forecast"
   ]
  },
  {
   "cell_type": "code",
   "execution_count": 10,
   "metadata": {},
   "outputs": [],
   "source": [
    "def holt_winters(df, test, add_mul, season, steps_to_forecast, steps_to_plot):\n",
    "    # Ensure the index is datetime\n",
    "    df.index = pd.to_datetime(df.index)\n",
    "\n",
    "    # Train-test split: Exclude the last 12 weeks for training\n",
    "    train_data = df.iloc[:-test] # all data except last 12 weeks\n",
    "    test_data = df.iloc[-test:]   # only last 12 weeks\n",
    "\n",
    "    # Fit Holt-Winters Exponential Smoothing model\n",
    "    hw_model = ExponentialSmoothing(\n",
    "        train_data[\"value\"],  # Use the \"count\" column\n",
    "        trend=add_mul,          # Additive trend\n",
    "        seasonal=add_mul,       # Additive seasonality\n",
    "        seasonal_periods=season   # 52 weeks in a year (for weekly data)\n",
    "    ).fit()\n",
    "\n",
    "    # Forecast the next 12 weeks\n",
    "    forecast_values = hw_model.forecast(steps=steps_to_forecast)\n",
    "\n",
    "    # Estimate confidence intervals using residual standard deviation\n",
    "    residuals = train_data[\"value\"] - hw_model.fittedvalues\n",
    "    std_dev = np.std(residuals)\n",
    "    confidence_interval = 1.96 * std_dev  # 95% Confidence Interval\n",
    "\n",
    "    # Convert forecasted values to a Pandas Series with correct weekly index\n",
    "    forecast_series = pd.Series(forecast_values.values, index=test_data.index)\n",
    "\n",
    "    # Select the last 2 years of actual data for plotting\n",
    "    df_last2years = df.iloc[-steps_to_plot:]  # Show last 104 weeks (2 years)\n",
    "\n",
    "    # Create the figure\n",
    "    fig = go.Figure()\n",
    "\n",
    "    # **1. Actual Data - Blue Line**\n",
    "    fig.add_trace(go.Scatter(\n",
    "        x=df_last2years.index,\n",
    "        y=df_last2years[\"value\"],\n",
    "        mode='lines',\n",
    "        name=f'Actual {df['value'].name}',\n",
    "        line=dict(color='blue')\n",
    "    ))\n",
    "\n",
    "    # **2. Forecasted Data - Red Dashed Line**\n",
    "    fig.add_trace(go.Scatter(\n",
    "        x=forecast_series.index,\n",
    "        y=forecast_series,\n",
    "        mode='lines',\n",
    "        name='Holt-Winters Forecast',\n",
    "        line=dict(color='red', dash='dash')\n",
    "    ))\n",
    "\n",
    "    # **3. Confidence Interval - Shaded Region**\n",
    "    fig.add_trace(go.Scatter(\n",
    "        x=forecast_series.index.tolist() + forecast_series.index[::-1].tolist(),\n",
    "        y=(forecast_series + confidence_interval).tolist() + (forecast_series - confidence_interval)[::-1].tolist(),\n",
    "        fill='toself',\n",
    "        fillcolor='rgba(255, 0, 0, 0.2)',  # Light red shading\n",
    "        line=dict(color='rgba(255,255,255,0)'),\n",
    "        name='95% Confidence Interval'\n",
    "    ))\n",
    "\n",
    "    # **Customize Layout**\n",
    "    fig.update_layout(\n",
    "        title=\"Holt-Winters Forecast for Weekly Vehicle Thefts (Last 2 Years Shown)\",\n",
    "        xaxis_title=\"Date\",\n",
    "        yaxis_title=f\"{df['value'].name}\",\n",
    "        template=\"plotly_dark\",\n",
    "        xaxis=dict(\n",
    "            tickformat=\"%b %Y\",  # Show month & year on X-axis\n",
    "            tickangle=45,        # Rotate labels\n",
    "            tickmode=\"auto\"\n",
    "        ),\n",
    "        yaxis=dict(showgrid=True),\n",
    "        hovermode=\"x unified\"  # Show all values on hover\n",
    "    )\n",
    "\n",
    "    # Show the plot\n",
    "    fig.show()"
   ]
  }
 ],
 "metadata": {
  "kernelspec": {
   "display_name": ".venv",
   "language": "python",
   "name": "python3"
  },
  "language_info": {
   "codemirror_mode": {
    "name": "ipython",
    "version": 3
   },
   "file_extension": ".py",
   "mimetype": "text/x-python",
   "name": "python",
   "nbconvert_exporter": "python",
   "pygments_lexer": "ipython3",
   "version": "3.12.0"
  }
 },
 "nbformat": 4,
 "nbformat_minor": 2
}
