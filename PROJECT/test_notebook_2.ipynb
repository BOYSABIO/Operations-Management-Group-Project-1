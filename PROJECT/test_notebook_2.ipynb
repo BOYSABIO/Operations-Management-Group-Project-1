{
 "cells": [
  {
   "cell_type": "code",
   "execution_count": 1,
   "metadata": {},
   "outputs": [],
   "source": [
    "import pandas as pd\n",
    "import plotly.express as px\n",
    "import plotly.graph_objects as go\n",
    "pd.set_option('display.max_columns', None)"
   ]
  },
  {
   "cell_type": "code",
   "execution_count": 2,
   "metadata": {},
   "outputs": [
    {
     "data": {
      "text/html": [
       "<div>\n",
       "<style scoped>\n",
       "    .dataframe tbody tr th:only-of-type {\n",
       "        vertical-align: middle;\n",
       "    }\n",
       "\n",
       "    .dataframe tbody tr th {\n",
       "        vertical-align: top;\n",
       "    }\n",
       "\n",
       "    .dataframe thead th {\n",
       "        text-align: right;\n",
       "    }\n",
       "</style>\n",
       "<table border=\"1\" class=\"dataframe\">\n",
       "  <thead>\n",
       "    <tr style=\"text-align: right;\">\n",
       "      <th></th>\n",
       "      <th>DR_NO</th>\n",
       "      <th>Date Rptd</th>\n",
       "      <th>DATE OCC</th>\n",
       "      <th>TIME OCC</th>\n",
       "      <th>AREA</th>\n",
       "      <th>AREA NAME</th>\n",
       "      <th>Rpt Dist No</th>\n",
       "      <th>Part 1-2</th>\n",
       "      <th>Crm Cd</th>\n",
       "      <th>Crm Cd Desc</th>\n",
       "      <th>Mocodes</th>\n",
       "      <th>Vict Age</th>\n",
       "      <th>Vict Sex</th>\n",
       "      <th>Vict Descent</th>\n",
       "      <th>Premis Cd</th>\n",
       "      <th>Premis Desc</th>\n",
       "      <th>Weapon Used Cd</th>\n",
       "      <th>Weapon Desc</th>\n",
       "      <th>Status</th>\n",
       "      <th>Status Desc</th>\n",
       "      <th>Crm Cd 1</th>\n",
       "      <th>Crm Cd 2</th>\n",
       "      <th>Crm Cd 3</th>\n",
       "      <th>Crm Cd 4</th>\n",
       "      <th>LOCATION</th>\n",
       "      <th>Cross Street</th>\n",
       "      <th>LAT</th>\n",
       "      <th>LON</th>\n",
       "    </tr>\n",
       "  </thead>\n",
       "  <tbody>\n",
       "    <tr>\n",
       "      <th>0</th>\n",
       "      <td>190326475</td>\n",
       "      <td>03/01/2020 12:00:00 AM</td>\n",
       "      <td>03/01/2020 12:00:00 AM</td>\n",
       "      <td>2130</td>\n",
       "      <td>7</td>\n",
       "      <td>Wilshire</td>\n",
       "      <td>784</td>\n",
       "      <td>1</td>\n",
       "      <td>510</td>\n",
       "      <td>VEHICLE - STOLEN</td>\n",
       "      <td>NaN</td>\n",
       "      <td>0</td>\n",
       "      <td>M</td>\n",
       "      <td>O</td>\n",
       "      <td>101.0</td>\n",
       "      <td>STREET</td>\n",
       "      <td>NaN</td>\n",
       "      <td>NaN</td>\n",
       "      <td>AA</td>\n",
       "      <td>Adult Arrest</td>\n",
       "      <td>510.0</td>\n",
       "      <td>998.0</td>\n",
       "      <td>NaN</td>\n",
       "      <td>NaN</td>\n",
       "      <td>1900 S  LONGWOOD                     AV</td>\n",
       "      <td>NaN</td>\n",
       "      <td>34.0375</td>\n",
       "      <td>-118.3506</td>\n",
       "    </tr>\n",
       "    <tr>\n",
       "      <th>1</th>\n",
       "      <td>200106753</td>\n",
       "      <td>02/09/2020 12:00:00 AM</td>\n",
       "      <td>02/08/2020 12:00:00 AM</td>\n",
       "      <td>1800</td>\n",
       "      <td>1</td>\n",
       "      <td>Central</td>\n",
       "      <td>182</td>\n",
       "      <td>1</td>\n",
       "      <td>330</td>\n",
       "      <td>BURGLARY FROM VEHICLE</td>\n",
       "      <td>1822 1402 0344</td>\n",
       "      <td>47</td>\n",
       "      <td>M</td>\n",
       "      <td>O</td>\n",
       "      <td>128.0</td>\n",
       "      <td>BUS STOP/LAYOVER (ALSO QUERY 124)</td>\n",
       "      <td>NaN</td>\n",
       "      <td>NaN</td>\n",
       "      <td>IC</td>\n",
       "      <td>Invest Cont</td>\n",
       "      <td>330.0</td>\n",
       "      <td>998.0</td>\n",
       "      <td>NaN</td>\n",
       "      <td>NaN</td>\n",
       "      <td>1000 S  FLOWER                       ST</td>\n",
       "      <td>NaN</td>\n",
       "      <td>34.0444</td>\n",
       "      <td>-118.2628</td>\n",
       "    </tr>\n",
       "    <tr>\n",
       "      <th>2</th>\n",
       "      <td>200320258</td>\n",
       "      <td>11/11/2020 12:00:00 AM</td>\n",
       "      <td>11/04/2020 12:00:00 AM</td>\n",
       "      <td>1700</td>\n",
       "      <td>3</td>\n",
       "      <td>Southwest</td>\n",
       "      <td>356</td>\n",
       "      <td>1</td>\n",
       "      <td>480</td>\n",
       "      <td>BIKE - STOLEN</td>\n",
       "      <td>0344 1251</td>\n",
       "      <td>19</td>\n",
       "      <td>X</td>\n",
       "      <td>X</td>\n",
       "      <td>502.0</td>\n",
       "      <td>MULTI-UNIT DWELLING (APARTMENT, DUPLEX, ETC)</td>\n",
       "      <td>NaN</td>\n",
       "      <td>NaN</td>\n",
       "      <td>IC</td>\n",
       "      <td>Invest Cont</td>\n",
       "      <td>480.0</td>\n",
       "      <td>NaN</td>\n",
       "      <td>NaN</td>\n",
       "      <td>NaN</td>\n",
       "      <td>1400 W  37TH                         ST</td>\n",
       "      <td>NaN</td>\n",
       "      <td>34.0210</td>\n",
       "      <td>-118.3002</td>\n",
       "    </tr>\n",
       "    <tr>\n",
       "      <th>3</th>\n",
       "      <td>200907217</td>\n",
       "      <td>05/10/2023 12:00:00 AM</td>\n",
       "      <td>03/10/2020 12:00:00 AM</td>\n",
       "      <td>2037</td>\n",
       "      <td>9</td>\n",
       "      <td>Van Nuys</td>\n",
       "      <td>964</td>\n",
       "      <td>1</td>\n",
       "      <td>343</td>\n",
       "      <td>SHOPLIFTING-GRAND THEFT ($950.01 &amp; OVER)</td>\n",
       "      <td>0325 1501</td>\n",
       "      <td>19</td>\n",
       "      <td>M</td>\n",
       "      <td>O</td>\n",
       "      <td>405.0</td>\n",
       "      <td>CLOTHING STORE</td>\n",
       "      <td>NaN</td>\n",
       "      <td>NaN</td>\n",
       "      <td>IC</td>\n",
       "      <td>Invest Cont</td>\n",
       "      <td>343.0</td>\n",
       "      <td>NaN</td>\n",
       "      <td>NaN</td>\n",
       "      <td>NaN</td>\n",
       "      <td>14000    RIVERSIDE                    DR</td>\n",
       "      <td>NaN</td>\n",
       "      <td>34.1576</td>\n",
       "      <td>-118.4387</td>\n",
       "    </tr>\n",
       "    <tr>\n",
       "      <th>4</th>\n",
       "      <td>200412582</td>\n",
       "      <td>09/09/2020 12:00:00 AM</td>\n",
       "      <td>09/09/2020 12:00:00 AM</td>\n",
       "      <td>630</td>\n",
       "      <td>4</td>\n",
       "      <td>Hollenbeck</td>\n",
       "      <td>413</td>\n",
       "      <td>1</td>\n",
       "      <td>510</td>\n",
       "      <td>VEHICLE - STOLEN</td>\n",
       "      <td>NaN</td>\n",
       "      <td>0</td>\n",
       "      <td>NaN</td>\n",
       "      <td>NaN</td>\n",
       "      <td>101.0</td>\n",
       "      <td>STREET</td>\n",
       "      <td>NaN</td>\n",
       "      <td>NaN</td>\n",
       "      <td>IC</td>\n",
       "      <td>Invest Cont</td>\n",
       "      <td>510.0</td>\n",
       "      <td>NaN</td>\n",
       "      <td>NaN</td>\n",
       "      <td>NaN</td>\n",
       "      <td>200 E  AVENUE 28</td>\n",
       "      <td>NaN</td>\n",
       "      <td>34.0820</td>\n",
       "      <td>-118.2130</td>\n",
       "    </tr>\n",
       "  </tbody>\n",
       "</table>\n",
       "</div>"
      ],
      "text/plain": [
       "       DR_NO               Date Rptd                DATE OCC  TIME OCC  AREA  \\\n",
       "0  190326475  03/01/2020 12:00:00 AM  03/01/2020 12:00:00 AM      2130     7   \n",
       "1  200106753  02/09/2020 12:00:00 AM  02/08/2020 12:00:00 AM      1800     1   \n",
       "2  200320258  11/11/2020 12:00:00 AM  11/04/2020 12:00:00 AM      1700     3   \n",
       "3  200907217  05/10/2023 12:00:00 AM  03/10/2020 12:00:00 AM      2037     9   \n",
       "4  200412582  09/09/2020 12:00:00 AM  09/09/2020 12:00:00 AM       630     4   \n",
       "\n",
       "    AREA NAME  Rpt Dist No  Part 1-2  Crm Cd  \\\n",
       "0    Wilshire          784         1     510   \n",
       "1     Central          182         1     330   \n",
       "2   Southwest          356         1     480   \n",
       "3    Van Nuys          964         1     343   \n",
       "4  Hollenbeck          413         1     510   \n",
       "\n",
       "                                Crm Cd Desc         Mocodes  Vict Age  \\\n",
       "0                          VEHICLE - STOLEN             NaN         0   \n",
       "1                     BURGLARY FROM VEHICLE  1822 1402 0344        47   \n",
       "2                             BIKE - STOLEN       0344 1251        19   \n",
       "3  SHOPLIFTING-GRAND THEFT ($950.01 & OVER)       0325 1501        19   \n",
       "4                          VEHICLE - STOLEN             NaN         0   \n",
       "\n",
       "  Vict Sex Vict Descent  Premis Cd  \\\n",
       "0        M            O      101.0   \n",
       "1        M            O      128.0   \n",
       "2        X            X      502.0   \n",
       "3        M            O      405.0   \n",
       "4      NaN          NaN      101.0   \n",
       "\n",
       "                                    Premis Desc  Weapon Used Cd Weapon Desc  \\\n",
       "0                                        STREET             NaN         NaN   \n",
       "1             BUS STOP/LAYOVER (ALSO QUERY 124)             NaN         NaN   \n",
       "2  MULTI-UNIT DWELLING (APARTMENT, DUPLEX, ETC)             NaN         NaN   \n",
       "3                                CLOTHING STORE             NaN         NaN   \n",
       "4                                        STREET             NaN         NaN   \n",
       "\n",
       "  Status   Status Desc  Crm Cd 1  Crm Cd 2  Crm Cd 3  Crm Cd 4  \\\n",
       "0     AA  Adult Arrest     510.0     998.0       NaN       NaN   \n",
       "1     IC   Invest Cont     330.0     998.0       NaN       NaN   \n",
       "2     IC   Invest Cont     480.0       NaN       NaN       NaN   \n",
       "3     IC   Invest Cont     343.0       NaN       NaN       NaN   \n",
       "4     IC   Invest Cont     510.0       NaN       NaN       NaN   \n",
       "\n",
       "                                   LOCATION Cross Street      LAT       LON  \n",
       "0   1900 S  LONGWOOD                     AV          NaN  34.0375 -118.3506  \n",
       "1   1000 S  FLOWER                       ST          NaN  34.0444 -118.2628  \n",
       "2   1400 W  37TH                         ST          NaN  34.0210 -118.3002  \n",
       "3  14000    RIVERSIDE                    DR          NaN  34.1576 -118.4387  \n",
       "4                          200 E  AVENUE 28          NaN  34.0820 -118.2130  "
      ]
     },
     "execution_count": 2,
     "metadata": {},
     "output_type": "execute_result"
    }
   ],
   "source": [
    "df = pd.read_csv('Crime_Data_from_2020_to_Present.csv')\n",
    "df.head()"
   ]
  },
  {
   "cell_type": "code",
   "execution_count": 3,
   "metadata": {},
   "outputs": [
    {
     "name": "stderr",
     "output_type": "stream",
     "text": [
      "C:\\Users\\SABIO\\AppData\\Local\\Temp\\ipykernel_25492\\352253759.py:1: UserWarning: Could not infer format, so each element will be parsed individually, falling back to `dateutil`. To ensure parsing is consistent and as-expected, please specify a format.\n",
      "  df['date'] = pd.to_datetime(df['DATE OCC'])\n"
     ]
    },
    {
     "data": {
      "text/plain": [
       "0         2020-03-01\n",
       "1         2020-02-08\n",
       "2         2020-11-04\n",
       "3         2020-03-10\n",
       "4         2020-09-09\n",
       "             ...    \n",
       "1005045   2025-01-24\n",
       "1005046   2025-01-17\n",
       "1005047   2025-01-30\n",
       "1005048   2025-01-17\n",
       "1005049   2025-01-14\n",
       "Name: date, Length: 1005050, dtype: datetime64[ns]"
      ]
     },
     "execution_count": 3,
     "metadata": {},
     "output_type": "execute_result"
    }
   ],
   "source": [
    "df['date'] = pd.to_datetime(df['DATE OCC'])\n",
    "df['date']"
   ]
  },
  {
   "cell_type": "code",
   "execution_count": 4,
   "metadata": {},
   "outputs": [
    {
     "name": "stdout",
     "output_type": "stream",
     "text": [
      "            count\n",
      "date             \n",
      "2019-12-30    196\n",
      "2020-01-06    346\n",
      "2020-01-13    308\n",
      "2020-01-20    317\n",
      "2020-01-27    343\n",
      "...           ...\n",
      "2024-12-30      3\n",
      "2025-01-13      2\n",
      "2025-01-20      9\n",
      "2025-01-27      5\n",
      "2025-02-03      8\n",
      "\n",
      "[266 rows x 1 columns]\n"
     ]
    }
   ],
   "source": [
    "import pandas as pd\n",
    "\n",
    "# Ensure 'date' column is in datetime format\n",
    "df['date'] = pd.to_datetime(df['date'])\n",
    "\n",
    "# Filter for 'VEHICLE - STOLEN'\n",
    "filtered_df = df[df['Crm Cd Desc'] == 'VEHICLE - STOLEN']\n",
    "\n",
    "# Group by week (ISO Week)\n",
    "weekly_counts = (\n",
    "    filtered_df\n",
    "    .groupby(df['date'].dt.to_period('W'))['Crm Cd Desc']\n",
    "    .count()\n",
    "    .reset_index()\n",
    ")\n",
    "\n",
    "# Convert 'date' back to a timestamp (start of the week)\n",
    "weekly_counts['date'] = weekly_counts['date'].dt.start_time\n",
    "\n",
    "# Rename columns\n",
    "weekly_counts.columns = ['date', 'count']\n",
    "\n",
    "# Set 'date' as the index\n",
    "weekly_counts = weekly_counts.set_index('date')\n",
    "\n",
    "# Display transformed DataFrame\n",
    "print(weekly_counts)\n"
   ]
  },
  {
   "cell_type": "code",
   "execution_count": 8,
   "metadata": {},
   "outputs": [
    {
     "data": {
      "application/vnd.plotly.v1+json": {
       "config": {
        "plotlyServerURL": "https://plot.ly"
       },
       "data": [
        {
         "mode": "lines",
         "type": "scatter",
         "x": [
          "2021-01-04T00:00:00.000000000",
          "2021-01-11T00:00:00.000000000",
          "2021-01-18T00:00:00.000000000",
          "2021-01-25T00:00:00.000000000",
          "2021-02-01T00:00:00.000000000",
          "2021-02-08T00:00:00.000000000",
          "2021-02-15T00:00:00.000000000",
          "2021-02-22T00:00:00.000000000",
          "2021-03-01T00:00:00.000000000",
          "2021-03-08T00:00:00.000000000",
          "2021-03-15T00:00:00.000000000",
          "2021-03-22T00:00:00.000000000",
          "2021-03-29T00:00:00.000000000",
          "2021-04-05T00:00:00.000000000",
          "2021-04-12T00:00:00.000000000",
          "2021-04-19T00:00:00.000000000",
          "2021-04-26T00:00:00.000000000",
          "2021-05-03T00:00:00.000000000",
          "2021-05-10T00:00:00.000000000",
          "2021-05-17T00:00:00.000000000",
          "2021-05-24T00:00:00.000000000",
          "2021-05-31T00:00:00.000000000",
          "2021-06-07T00:00:00.000000000",
          "2021-06-14T00:00:00.000000000",
          "2021-06-21T00:00:00.000000000",
          "2021-06-28T00:00:00.000000000",
          "2021-07-05T00:00:00.000000000",
          "2021-07-12T00:00:00.000000000",
          "2021-07-19T00:00:00.000000000",
          "2021-07-26T00:00:00.000000000",
          "2021-08-02T00:00:00.000000000",
          "2021-08-09T00:00:00.000000000",
          "2021-08-16T00:00:00.000000000",
          "2021-08-23T00:00:00.000000000",
          "2021-08-30T00:00:00.000000000",
          "2021-09-06T00:00:00.000000000",
          "2021-09-13T00:00:00.000000000",
          "2021-09-20T00:00:00.000000000",
          "2021-09-27T00:00:00.000000000",
          "2021-10-04T00:00:00.000000000",
          "2021-10-11T00:00:00.000000000",
          "2021-10-18T00:00:00.000000000",
          "2021-10-25T00:00:00.000000000",
          "2021-11-01T00:00:00.000000000",
          "2021-11-08T00:00:00.000000000",
          "2021-11-15T00:00:00.000000000",
          "2021-11-22T00:00:00.000000000",
          "2021-11-29T00:00:00.000000000",
          "2021-12-06T00:00:00.000000000",
          "2021-12-13T00:00:00.000000000",
          "2021-12-20T00:00:00.000000000",
          "2021-12-27T00:00:00.000000000",
          "2022-01-03T00:00:00.000000000",
          "2022-01-10T00:00:00.000000000",
          "2022-01-17T00:00:00.000000000",
          "2022-01-24T00:00:00.000000000",
          "2022-01-31T00:00:00.000000000",
          "2022-02-07T00:00:00.000000000",
          "2022-02-14T00:00:00.000000000",
          "2022-02-21T00:00:00.000000000",
          "2022-02-28T00:00:00.000000000",
          "2022-03-07T00:00:00.000000000",
          "2022-03-14T00:00:00.000000000",
          "2022-03-21T00:00:00.000000000",
          "2022-03-28T00:00:00.000000000",
          "2022-04-04T00:00:00.000000000",
          "2022-04-11T00:00:00.000000000",
          "2022-04-18T00:00:00.000000000",
          "2022-04-25T00:00:00.000000000",
          "2022-05-02T00:00:00.000000000",
          "2022-05-09T00:00:00.000000000",
          "2022-05-16T00:00:00.000000000",
          "2022-05-23T00:00:00.000000000",
          "2022-05-30T00:00:00.000000000",
          "2022-06-06T00:00:00.000000000",
          "2022-06-13T00:00:00.000000000",
          "2022-06-20T00:00:00.000000000",
          "2022-06-27T00:00:00.000000000",
          "2022-07-04T00:00:00.000000000",
          "2022-07-11T00:00:00.000000000",
          "2022-07-18T00:00:00.000000000",
          "2022-07-25T00:00:00.000000000",
          "2022-08-01T00:00:00.000000000",
          "2022-08-08T00:00:00.000000000",
          "2022-08-15T00:00:00.000000000",
          "2022-08-22T00:00:00.000000000",
          "2022-08-29T00:00:00.000000000",
          "2022-09-05T00:00:00.000000000",
          "2022-09-12T00:00:00.000000000",
          "2022-09-19T00:00:00.000000000",
          "2022-09-26T00:00:00.000000000",
          "2022-10-03T00:00:00.000000000",
          "2022-10-10T00:00:00.000000000",
          "2022-10-17T00:00:00.000000000",
          "2022-10-24T00:00:00.000000000",
          "2022-10-31T00:00:00.000000000",
          "2022-11-07T00:00:00.000000000",
          "2022-11-14T00:00:00.000000000",
          "2022-11-21T00:00:00.000000000",
          "2022-11-28T00:00:00.000000000",
          "2022-12-05T00:00:00.000000000",
          "2022-12-12T00:00:00.000000000",
          "2022-12-19T00:00:00.000000000",
          "2022-12-26T00:00:00.000000000",
          "2023-01-02T00:00:00.000000000",
          "2023-01-09T00:00:00.000000000",
          "2023-01-16T00:00:00.000000000",
          "2023-01-23T00:00:00.000000000",
          "2023-01-30T00:00:00.000000000",
          "2023-02-06T00:00:00.000000000",
          "2023-02-13T00:00:00.000000000",
          "2023-02-20T00:00:00.000000000",
          "2023-02-27T00:00:00.000000000",
          "2023-03-06T00:00:00.000000000",
          "2023-03-13T00:00:00.000000000",
          "2023-03-20T00:00:00.000000000",
          "2023-03-27T00:00:00.000000000",
          "2023-04-03T00:00:00.000000000",
          "2023-04-10T00:00:00.000000000",
          "2023-04-17T00:00:00.000000000",
          "2023-04-24T00:00:00.000000000",
          "2023-05-01T00:00:00.000000000",
          "2023-05-08T00:00:00.000000000",
          "2023-05-15T00:00:00.000000000",
          "2023-05-22T00:00:00.000000000",
          "2023-05-29T00:00:00.000000000",
          "2023-06-05T00:00:00.000000000",
          "2023-06-12T00:00:00.000000000",
          "2023-06-19T00:00:00.000000000",
          "2023-06-26T00:00:00.000000000",
          "2023-07-03T00:00:00.000000000",
          "2023-07-10T00:00:00.000000000",
          "2023-07-17T00:00:00.000000000",
          "2023-07-24T00:00:00.000000000",
          "2023-07-31T00:00:00.000000000",
          "2023-08-07T00:00:00.000000000",
          "2023-08-14T00:00:00.000000000",
          "2023-08-21T00:00:00.000000000",
          "2023-08-28T00:00:00.000000000",
          "2023-09-04T00:00:00.000000000",
          "2023-09-11T00:00:00.000000000",
          "2023-09-18T00:00:00.000000000",
          "2023-09-25T00:00:00.000000000",
          "2023-10-02T00:00:00.000000000",
          "2023-10-09T00:00:00.000000000",
          "2023-10-16T00:00:00.000000000",
          "2023-10-23T00:00:00.000000000",
          "2023-10-30T00:00:00.000000000",
          "2023-11-06T00:00:00.000000000",
          "2023-11-13T00:00:00.000000000",
          "2023-11-20T00:00:00.000000000",
          "2023-11-27T00:00:00.000000000",
          "2023-12-04T00:00:00.000000000",
          "2023-12-11T00:00:00.000000000",
          "2023-12-18T00:00:00.000000000",
          "2023-12-25T00:00:00.000000000"
         ],
         "y": {
          "bdata": "mAGdAcEBswHpAcwB1gGfAbkBnAGLAY0BmQGCAZABuQHPAZkBmQGVAbYBnAGtAaUBoQHEAaYBdAGOAbkBegGxAd4B2gHCAcwB2gEAAusBIwIBAuwBLwIjAvwBCwL8ARACBwL+ARkC6gHMAQoC1QHCAeYB4QHjAdMB2AHPAekB7AHnAQQC/AH8ASACBAIGAgUC3AHjAcEBzwHmAdcB3QHZAfQBzAEmAuIB3AHgAdgB0QEAAtsB1AHLAd8B1AGyAcoBoQHWAasBmgF2AZsBuQHUAZkB2AGdAckB3gHJAcEBpwHIAe4BpgHBAaQBlAGzAZgBtQGvAXsBuQHRAa8BrQG3AcoB2AHYAekBBALcAckB6wEaAuoB8gG+AdsB7wEDAgYCHAL1AQ4C+QEFAhUCCQLsAf4B6AEIAskB",
          "dtype": "i2"
         }
        }
       ],
       "layout": {
        "template": {
         "data": {
          "bar": [
           {
            "error_x": {
             "color": "#f2f5fa"
            },
            "error_y": {
             "color": "#f2f5fa"
            },
            "marker": {
             "line": {
              "color": "rgb(17,17,17)",
              "width": 0.5
             },
             "pattern": {
              "fillmode": "overlay",
              "size": 10,
              "solidity": 0.2
             }
            },
            "type": "bar"
           }
          ],
          "barpolar": [
           {
            "marker": {
             "line": {
              "color": "rgb(17,17,17)",
              "width": 0.5
             },
             "pattern": {
              "fillmode": "overlay",
              "size": 10,
              "solidity": 0.2
             }
            },
            "type": "barpolar"
           }
          ],
          "carpet": [
           {
            "aaxis": {
             "endlinecolor": "#A2B1C6",
             "gridcolor": "#506784",
             "linecolor": "#506784",
             "minorgridcolor": "#506784",
             "startlinecolor": "#A2B1C6"
            },
            "baxis": {
             "endlinecolor": "#A2B1C6",
             "gridcolor": "#506784",
             "linecolor": "#506784",
             "minorgridcolor": "#506784",
             "startlinecolor": "#A2B1C6"
            },
            "type": "carpet"
           }
          ],
          "choropleth": [
           {
            "colorbar": {
             "outlinewidth": 0,
             "ticks": ""
            },
            "type": "choropleth"
           }
          ],
          "contour": [
           {
            "colorbar": {
             "outlinewidth": 0,
             "ticks": ""
            },
            "colorscale": [
             [
              0,
              "#0d0887"
             ],
             [
              0.1111111111111111,
              "#46039f"
             ],
             [
              0.2222222222222222,
              "#7201a8"
             ],
             [
              0.3333333333333333,
              "#9c179e"
             ],
             [
              0.4444444444444444,
              "#bd3786"
             ],
             [
              0.5555555555555556,
              "#d8576b"
             ],
             [
              0.6666666666666666,
              "#ed7953"
             ],
             [
              0.7777777777777778,
              "#fb9f3a"
             ],
             [
              0.8888888888888888,
              "#fdca26"
             ],
             [
              1,
              "#f0f921"
             ]
            ],
            "type": "contour"
           }
          ],
          "contourcarpet": [
           {
            "colorbar": {
             "outlinewidth": 0,
             "ticks": ""
            },
            "type": "contourcarpet"
           }
          ],
          "heatmap": [
           {
            "colorbar": {
             "outlinewidth": 0,
             "ticks": ""
            },
            "colorscale": [
             [
              0,
              "#0d0887"
             ],
             [
              0.1111111111111111,
              "#46039f"
             ],
             [
              0.2222222222222222,
              "#7201a8"
             ],
             [
              0.3333333333333333,
              "#9c179e"
             ],
             [
              0.4444444444444444,
              "#bd3786"
             ],
             [
              0.5555555555555556,
              "#d8576b"
             ],
             [
              0.6666666666666666,
              "#ed7953"
             ],
             [
              0.7777777777777778,
              "#fb9f3a"
             ],
             [
              0.8888888888888888,
              "#fdca26"
             ],
             [
              1,
              "#f0f921"
             ]
            ],
            "type": "heatmap"
           }
          ],
          "histogram": [
           {
            "marker": {
             "pattern": {
              "fillmode": "overlay",
              "size": 10,
              "solidity": 0.2
             }
            },
            "type": "histogram"
           }
          ],
          "histogram2d": [
           {
            "colorbar": {
             "outlinewidth": 0,
             "ticks": ""
            },
            "colorscale": [
             [
              0,
              "#0d0887"
             ],
             [
              0.1111111111111111,
              "#46039f"
             ],
             [
              0.2222222222222222,
              "#7201a8"
             ],
             [
              0.3333333333333333,
              "#9c179e"
             ],
             [
              0.4444444444444444,
              "#bd3786"
             ],
             [
              0.5555555555555556,
              "#d8576b"
             ],
             [
              0.6666666666666666,
              "#ed7953"
             ],
             [
              0.7777777777777778,
              "#fb9f3a"
             ],
             [
              0.8888888888888888,
              "#fdca26"
             ],
             [
              1,
              "#f0f921"
             ]
            ],
            "type": "histogram2d"
           }
          ],
          "histogram2dcontour": [
           {
            "colorbar": {
             "outlinewidth": 0,
             "ticks": ""
            },
            "colorscale": [
             [
              0,
              "#0d0887"
             ],
             [
              0.1111111111111111,
              "#46039f"
             ],
             [
              0.2222222222222222,
              "#7201a8"
             ],
             [
              0.3333333333333333,
              "#9c179e"
             ],
             [
              0.4444444444444444,
              "#bd3786"
             ],
             [
              0.5555555555555556,
              "#d8576b"
             ],
             [
              0.6666666666666666,
              "#ed7953"
             ],
             [
              0.7777777777777778,
              "#fb9f3a"
             ],
             [
              0.8888888888888888,
              "#fdca26"
             ],
             [
              1,
              "#f0f921"
             ]
            ],
            "type": "histogram2dcontour"
           }
          ],
          "mesh3d": [
           {
            "colorbar": {
             "outlinewidth": 0,
             "ticks": ""
            },
            "type": "mesh3d"
           }
          ],
          "parcoords": [
           {
            "line": {
             "colorbar": {
              "outlinewidth": 0,
              "ticks": ""
             }
            },
            "type": "parcoords"
           }
          ],
          "pie": [
           {
            "automargin": true,
            "type": "pie"
           }
          ],
          "scatter": [
           {
            "marker": {
             "line": {
              "color": "#283442"
             }
            },
            "type": "scatter"
           }
          ],
          "scatter3d": [
           {
            "line": {
             "colorbar": {
              "outlinewidth": 0,
              "ticks": ""
             }
            },
            "marker": {
             "colorbar": {
              "outlinewidth": 0,
              "ticks": ""
             }
            },
            "type": "scatter3d"
           }
          ],
          "scattercarpet": [
           {
            "marker": {
             "colorbar": {
              "outlinewidth": 0,
              "ticks": ""
             }
            },
            "type": "scattercarpet"
           }
          ],
          "scattergeo": [
           {
            "marker": {
             "colorbar": {
              "outlinewidth": 0,
              "ticks": ""
             }
            },
            "type": "scattergeo"
           }
          ],
          "scattergl": [
           {
            "marker": {
             "line": {
              "color": "#283442"
             }
            },
            "type": "scattergl"
           }
          ],
          "scattermap": [
           {
            "marker": {
             "colorbar": {
              "outlinewidth": 0,
              "ticks": ""
             }
            },
            "type": "scattermap"
           }
          ],
          "scattermapbox": [
           {
            "marker": {
             "colorbar": {
              "outlinewidth": 0,
              "ticks": ""
             }
            },
            "type": "scattermapbox"
           }
          ],
          "scatterpolar": [
           {
            "marker": {
             "colorbar": {
              "outlinewidth": 0,
              "ticks": ""
             }
            },
            "type": "scatterpolar"
           }
          ],
          "scatterpolargl": [
           {
            "marker": {
             "colorbar": {
              "outlinewidth": 0,
              "ticks": ""
             }
            },
            "type": "scatterpolargl"
           }
          ],
          "scatterternary": [
           {
            "marker": {
             "colorbar": {
              "outlinewidth": 0,
              "ticks": ""
             }
            },
            "type": "scatterternary"
           }
          ],
          "surface": [
           {
            "colorbar": {
             "outlinewidth": 0,
             "ticks": ""
            },
            "colorscale": [
             [
              0,
              "#0d0887"
             ],
             [
              0.1111111111111111,
              "#46039f"
             ],
             [
              0.2222222222222222,
              "#7201a8"
             ],
             [
              0.3333333333333333,
              "#9c179e"
             ],
             [
              0.4444444444444444,
              "#bd3786"
             ],
             [
              0.5555555555555556,
              "#d8576b"
             ],
             [
              0.6666666666666666,
              "#ed7953"
             ],
             [
              0.7777777777777778,
              "#fb9f3a"
             ],
             [
              0.8888888888888888,
              "#fdca26"
             ],
             [
              1,
              "#f0f921"
             ]
            ],
            "type": "surface"
           }
          ],
          "table": [
           {
            "cells": {
             "fill": {
              "color": "#506784"
             },
             "line": {
              "color": "rgb(17,17,17)"
             }
            },
            "header": {
             "fill": {
              "color": "#2a3f5f"
             },
             "line": {
              "color": "rgb(17,17,17)"
             }
            },
            "type": "table"
           }
          ]
         },
         "layout": {
          "annotationdefaults": {
           "arrowcolor": "#f2f5fa",
           "arrowhead": 0,
           "arrowwidth": 1
          },
          "autotypenumbers": "strict",
          "coloraxis": {
           "colorbar": {
            "outlinewidth": 0,
            "ticks": ""
           }
          },
          "colorscale": {
           "diverging": [
            [
             0,
             "#8e0152"
            ],
            [
             0.1,
             "#c51b7d"
            ],
            [
             0.2,
             "#de77ae"
            ],
            [
             0.3,
             "#f1b6da"
            ],
            [
             0.4,
             "#fde0ef"
            ],
            [
             0.5,
             "#f7f7f7"
            ],
            [
             0.6,
             "#e6f5d0"
            ],
            [
             0.7,
             "#b8e186"
            ],
            [
             0.8,
             "#7fbc41"
            ],
            [
             0.9,
             "#4d9221"
            ],
            [
             1,
             "#276419"
            ]
           ],
           "sequential": [
            [
             0,
             "#0d0887"
            ],
            [
             0.1111111111111111,
             "#46039f"
            ],
            [
             0.2222222222222222,
             "#7201a8"
            ],
            [
             0.3333333333333333,
             "#9c179e"
            ],
            [
             0.4444444444444444,
             "#bd3786"
            ],
            [
             0.5555555555555556,
             "#d8576b"
            ],
            [
             0.6666666666666666,
             "#ed7953"
            ],
            [
             0.7777777777777778,
             "#fb9f3a"
            ],
            [
             0.8888888888888888,
             "#fdca26"
            ],
            [
             1,
             "#f0f921"
            ]
           ],
           "sequentialminus": [
            [
             0,
             "#0d0887"
            ],
            [
             0.1111111111111111,
             "#46039f"
            ],
            [
             0.2222222222222222,
             "#7201a8"
            ],
            [
             0.3333333333333333,
             "#9c179e"
            ],
            [
             0.4444444444444444,
             "#bd3786"
            ],
            [
             0.5555555555555556,
             "#d8576b"
            ],
            [
             0.6666666666666666,
             "#ed7953"
            ],
            [
             0.7777777777777778,
             "#fb9f3a"
            ],
            [
             0.8888888888888888,
             "#fdca26"
            ],
            [
             1,
             "#f0f921"
            ]
           ]
          },
          "colorway": [
           "#636efa",
           "#EF553B",
           "#00cc96",
           "#ab63fa",
           "#FFA15A",
           "#19d3f3",
           "#FF6692",
           "#B6E880",
           "#FF97FF",
           "#FECB52"
          ],
          "font": {
           "color": "#f2f5fa"
          },
          "geo": {
           "bgcolor": "rgb(17,17,17)",
           "lakecolor": "rgb(17,17,17)",
           "landcolor": "rgb(17,17,17)",
           "showlakes": true,
           "showland": true,
           "subunitcolor": "#506784"
          },
          "hoverlabel": {
           "align": "left"
          },
          "hovermode": "closest",
          "mapbox": {
           "style": "dark"
          },
          "paper_bgcolor": "rgb(17,17,17)",
          "plot_bgcolor": "rgb(17,17,17)",
          "polar": {
           "angularaxis": {
            "gridcolor": "#506784",
            "linecolor": "#506784",
            "ticks": ""
           },
           "bgcolor": "rgb(17,17,17)",
           "radialaxis": {
            "gridcolor": "#506784",
            "linecolor": "#506784",
            "ticks": ""
           }
          },
          "scene": {
           "xaxis": {
            "backgroundcolor": "rgb(17,17,17)",
            "gridcolor": "#506784",
            "gridwidth": 2,
            "linecolor": "#506784",
            "showbackground": true,
            "ticks": "",
            "zerolinecolor": "#C8D4E3"
           },
           "yaxis": {
            "backgroundcolor": "rgb(17,17,17)",
            "gridcolor": "#506784",
            "gridwidth": 2,
            "linecolor": "#506784",
            "showbackground": true,
            "ticks": "",
            "zerolinecolor": "#C8D4E3"
           },
           "zaxis": {
            "backgroundcolor": "rgb(17,17,17)",
            "gridcolor": "#506784",
            "gridwidth": 2,
            "linecolor": "#506784",
            "showbackground": true,
            "ticks": "",
            "zerolinecolor": "#C8D4E3"
           }
          },
          "shapedefaults": {
           "line": {
            "color": "#f2f5fa"
           }
          },
          "sliderdefaults": {
           "bgcolor": "#C8D4E3",
           "bordercolor": "rgb(17,17,17)",
           "borderwidth": 1,
           "tickwidth": 0
          },
          "ternary": {
           "aaxis": {
            "gridcolor": "#506784",
            "linecolor": "#506784",
            "ticks": ""
           },
           "baxis": {
            "gridcolor": "#506784",
            "linecolor": "#506784",
            "ticks": ""
           },
           "bgcolor": "rgb(17,17,17)",
           "caxis": {
            "gridcolor": "#506784",
            "linecolor": "#506784",
            "ticks": ""
           }
          },
          "title": {
           "x": 0.05
          },
          "updatemenudefaults": {
           "bgcolor": "#506784",
           "borderwidth": 0
          },
          "xaxis": {
           "automargin": true,
           "gridcolor": "#283442",
           "linecolor": "#506784",
           "ticks": "",
           "title": {
            "standoff": 15
           },
           "zerolinecolor": "#283442",
           "zerolinewidth": 2
          },
          "yaxis": {
           "automargin": true,
           "gridcolor": "#283442",
           "linecolor": "#506784",
           "ticks": "",
           "title": {
            "standoff": 15
           },
           "zerolinecolor": "#283442",
           "zerolinewidth": 2
          }
         }
        },
        "title": {
         "text": "Monthly Vehicle Thefts in Los Angeles"
        },
        "xaxis": {
         "title": {
          "text": "Date (Months)"
         }
        },
        "yaxis": {
         "title": {
          "text": "Number of Vehicle Thefts"
         }
        }
       }
      }
     },
     "metadata": {},
     "output_type": "display_data"
    }
   ],
   "source": [
    "# Ensure the index is a datetime type\n",
    "weekly_counts.index = pd.to_datetime(weekly_counts.index)\n",
    "\n",
    "# Filter for the years 2021 to 2024\n",
    "df_clean = weekly_counts.loc[\"2021-01-01\":\"2023-12-31\"]\n",
    "\n",
    "df_clean\n",
    "\n",
    "fig = go.Figure()\n",
    "\n",
    "fig.add_trace(go.Scatter(x = df_clean.index, y = df_clean['count'], mode = 'lines'))\n",
    "\n",
    "fig.update_layout(title = 'Monthly Vehicle Thefts in Los Angeles',\n",
    "                  xaxis_title = 'Date (Months)',\n",
    "                  yaxis_title = 'Number of Vehicle Thefts',\n",
    "                  template = 'plotly_dark')\n",
    "\n",
    "fig.show()"
   ]
  },
  {
   "cell_type": "code",
   "execution_count": 13,
   "metadata": {},
   "outputs": [
    {
     "data": {
      "text/plain": [
       "<Figure size 800x500 with 0 Axes>"
      ]
     },
     "metadata": {},
     "output_type": "display_data"
    },
    {
     "data": {
      "image/png": "[encoded data removed]",
      "text/plain": [
       "<Figure size 640x480 with 1 Axes>"
      ]
     },
     "metadata": {},
     "output_type": "display_data"
    }
   ],
   "source": [
    "from statsmodels.graphics.tsaplots import plot_acf\n",
    "import matplotlib.pyplot as plt\n",
    "\n",
    "# Plot ACF of Apple closing prices\n",
    "plt.figure(figsize=(8, 5))\n",
    "plot_acf(df_clean['count'], lags=40)\n",
    "plt.title(\"ACF of Conflicts per year\")\n",
    "plt.show()"
   ]
  },
  {
   "cell_type": "code",
   "execution_count": 14,
   "metadata": {},
   "outputs": [
    {
     "data": {
      "image/png": "[encoded data removed]",
      "text/plain": [
       "<Figure size 1400x1000 with 8 Axes>"
      ]
     },
     "metadata": {},
     "output_type": "display_data"
    }
   ],
   "source": [
    "import numpy as np\n",
    "import pandas as pd\n",
    "import matplotlib.pyplot as plt\n",
    "from statsmodels.tsa.seasonal import seasonal_decompose\n",
    "from statsmodels.tsa.stattools import adfuller\n",
    "from statsmodels.graphics.tsaplots import plot_acf, plot_pacf\n",
    "from statsmodels.stats.diagnostic import acorr_ljungbox\n",
    "\n",
    "# ---  Apply Additive and Multiplicative Decomposition ---\n",
    "additive_decomposition = seasonal_decompose(df_clean[\"count\"], model=\"additive\", period=12)\n",
    "multiplicative_decomposition = seasonal_decompose(df_clean[\"count\"], model=\"multiplicative\", period=12)\n",
    "\n",
    "# Plot both decompositions side by side\n",
    "fig, axes = plt.subplots(4, 2, figsize=(14, 10), sharex=True)\n",
    "\n",
    "# Additive Decomposition Plots\n",
    "axes[0, 0].plot(df_clean.index, df_clean[\"count\"], color=\"black\")\n",
    "axes[0, 0].set_title(\"Original Time Series\")\n",
    "\n",
    "axes[1, 0].plot(df_clean.index, additive_decomposition.trend, color=\"blue\")\n",
    "axes[1, 0].set_title(\"Additive Trend Component\")\n",
    "\n",
    "axes[2, 0].plot(df_clean.index, additive_decomposition.seasonal, color=\"green\")\n",
    "axes[2, 0].set_title(\"Additive Seasonal Component\")\n",
    "\n",
    "axes[3, 0].plot(df_clean.index, additive_decomposition.resid, color=\"red\")\n",
    "axes[3, 0].set_title(\"Additive Residual Component\")\n",
    "\n",
    "# Multiplicative Decomposition Plots\n",
    "axes[0, 1].plot(df_clean.index, df_clean[\"count\"], color=\"black\")\n",
    "axes[0, 1].set_title(\"Original Time Series\")\n",
    "\n",
    "axes[1, 1].plot(df_clean.index, multiplicative_decomposition.trend, color=\"blue\")\n",
    "axes[1, 1].set_title(\"Multiplicative Trend Component\")\n",
    "\n",
    "axes[2, 1].plot(df_clean.index, multiplicative_decomposition.seasonal, color=\"green\")\n",
    "axes[2, 1].set_title(\"Multiplicative Seasonal Component\")\n",
    "\n",
    "axes[3, 1].plot(df_clean.index, multiplicative_decomposition.resid, color=\"red\")\n",
    "axes[3, 1].set_title(\"Multiplicative Residual Component\")\n",
    "\n",
    "plt.tight_layout()\n",
    "plt.show()"
   ]
  },
  {
   "cell_type": "code",
   "execution_count": 15,
   "metadata": {},
   "outputs": [
    {
     "name": "stdout",
     "output_type": "stream",
     "text": [
      "ADF Statistic: -11.9883\n",
      "p-value: 0.0000\n"
     ]
    }
   ],
   "source": [
    "# --- Perform ADF Test on Residuals (Assuming Additive is Best) ---\n",
    "residuals = additive_decomposition.resid.dropna()\n",
    "adf_result = adfuller(residuals)\n",
    "\n",
    "print(f\"ADF Statistic: {adf_result[0]:.4f}\")\n",
    "print(f\"p-value: {adf_result[1]:.4f}\")"
   ]
  },
  {
   "cell_type": "code",
   "execution_count": 16,
   "metadata": {},
   "outputs": [
    {
     "data": {
      "image/png": "[encoded data removed]",
      "text/plain": [
       "<Figure size 1200x500 with 2 Axes>"
      ]
     },
     "metadata": {},
     "output_type": "display_data"
    }
   ],
   "source": [
    "# ---  ACF and PACF Plots of Residuals ---\n",
    "fig, axes = plt.subplots(1, 2, figsize=(12, 5))\n",
    "\n",
    "# ACF plot\n",
    "plot_acf(residuals, lags=32, ax=axes[0])\n",
    "axes[0].set_title(\"ACF of Residuals\")\n",
    "\n",
    "# PACF plot\n",
    "plot_pacf(residuals, lags=32, ax=axes[1])\n",
    "axes[1].set_title(\"PACF of Residuals\")\n",
    "\n",
    "plt.tight_layout()\n",
    "plt.show()"
   ]
  },
  {
   "cell_type": "code",
   "execution_count": 17,
   "metadata": {},
   "outputs": [
    {
     "name": "stdout",
     "output_type": "stream",
     "text": [
      "Ljung-Box p-value: 0.2296\n",
      "Tests if data is whitenoise (if it is then no correllation) low p = not whitenoise\n"
     ]
    }
   ],
   "source": [
    "# --- Perform Ljung-Box Test ---\n",
    "ljungbox_result = acorr_ljungbox(residuals, lags=[20], return_df=True)\n",
    "p_value_ljungbox = ljungbox_result[\"lb_pvalue\"].values[0]\n",
    "\n",
    "print(f\"Ljung-Box p-value: {p_value_ljungbox:.4f}\")\n",
    "print(\"Tests if data is whitenoise (if it is then no correllation) low p = not whitenoise\")"
   ]
  },
  {
   "cell_type": "code",
   "execution_count": 27,
   "metadata": {},
   "outputs": [
    {
     "name": "stderr",
     "output_type": "stream",
     "text": [
      "c:\\Users\\SABIO\\Documents\\GitHub\\Operations-Management-Group-Project-1\\.venv\\Lib\\site-packages\\statsmodels\\tsa\\base\\tsa_model.py:473: ValueWarning:\n",
      "\n",
      "No frequency information was provided, so inferred frequency W-MON will be used.\n",
      "\n"
     ]
    },
    {
     "data": {
      "application/vnd.plotly.v1+json": {
       "config": {
        "plotlyServerURL": "https://plot.ly"
       },
       "data": [
        {
         "line": {
          "color": "blue"
         },
         "mode": "lines",
         "name": "Actual Vehicle Thefts",
         "type": "scatter",
         "x": [
          "2022-01-03T00:00:00.000000000",
          "2022-01-10T00:00:00.000000000",
          "2022-01-17T00:00:00.000000000",
          "2022-01-24T00:00:00.000000000",
          "2022-01-31T00:00:00.000000000",
          "2022-02-07T00:00:00.000000000",
          "2022-02-14T00:00:00.000000000",
          "2022-02-21T00:00:00.000000000",
          "2022-02-28T00:00:00.000000000",
          "2022-03-07T00:00:00.000000000",
          "2022-03-14T00:00:00.000000000",
          "2022-03-21T00:00:00.000000000",
          "2022-03-28T00:00:00.000000000",
          "2022-04-04T00:00:00.000000000",
          "2022-04-11T00:00:00.000000000",
          "2022-04-18T00:00:00.000000000",
          "2022-04-25T00:00:00.000000000",
          "2022-05-02T00:00:00.000000000",
          "2022-05-09T00:00:00.000000000",
          "2022-05-16T00:00:00.000000000",
          "2022-05-23T00:00:00.000000000",
          "2022-05-30T00:00:00.000000000",
          "2022-06-06T00:00:00.000000000",
          "2022-06-13T00:00:00.000000000",
          "2022-06-20T00:00:00.000000000",
          "2022-06-27T00:00:00.000000000",
          "2022-07-04T00:00:00.000000000",
          "2022-07-11T00:00:00.000000000",
          "2022-07-18T00:00:00.000000000",
          "2022-07-25T00:00:00.000000000",
          "2022-08-01T00:00:00.000000000",
          "2022-08-08T00:00:00.000000000",
          "2022-08-15T00:00:00.000000000",
          "2022-08-22T00:00:00.000000000",
          "2022-08-29T00:00:00.000000000",
          "2022-09-05T00:00:00.000000000",
          "2022-09-12T00:00:00.000000000",
          "2022-09-19T00:00:00.000000000",
          "2022-09-26T00:00:00.000000000",
          "2022-10-03T00:00:00.000000000",
          "2022-10-10T00:00:00.000000000",
          "2022-10-17T00:00:00.000000000",
          "2022-10-24T00:00:00.000000000",
          "2022-10-31T00:00:00.000000000",
          "2022-11-07T00:00:00.000000000",
          "2022-11-14T00:00:00.000000000",
          "2022-11-21T00:00:00.000000000",
          "2022-11-28T00:00:00.000000000",
          "2022-12-05T00:00:00.000000000",
          "2022-12-12T00:00:00.000000000",
          "2022-12-19T00:00:00.000000000",
          "2022-12-26T00:00:00.000000000",
          "2023-01-02T00:00:00.000000000",
          "2023-01-09T00:00:00.000000000",
          "2023-01-16T00:00:00.000000000",
          "2023-01-23T00:00:00.000000000",
          "2023-01-30T00:00:00.000000000",
          "2023-02-06T00:00:00.000000000",
          "2023-02-13T00:00:00.000000000",
          "2023-02-20T00:00:00.000000000",
          "2023-02-27T00:00:00.000000000",
          "2023-03-06T00:00:00.000000000",
          "2023-03-13T00:00:00.000000000",
          "2023-03-20T00:00:00.000000000",
          "2023-03-27T00:00:00.000000000",
          "2023-04-03T00:00:00.000000000",
          "2023-04-10T00:00:00.000000000",
          "2023-04-17T00:00:00.000000000",
          "2023-04-24T00:00:00.000000000",
          "2023-05-01T00:00:00.000000000",
          "2023-05-08T00:00:00.000000000",
          "2023-05-15T00:00:00.000000000",
          "2023-05-22T00:00:00.000000000",
          "2023-05-29T00:00:00.000000000",
          "2023-06-05T00:00:00.000000000",
          "2023-06-12T00:00:00.000000000",
          "2023-06-19T00:00:00.000000000",
          "2023-06-26T00:00:00.000000000",
          "2023-07-03T00:00:00.000000000",
          "2023-07-10T00:00:00.000000000",
          "2023-07-17T00:00:00.000000000",
          "2023-07-24T00:00:00.000000000",
          "2023-07-31T00:00:00.000000000",
          "2023-08-07T00:00:00.000000000",
          "2023-08-14T00:00:00.000000000",
          "2023-08-21T00:00:00.000000000",
          "2023-08-28T00:00:00.000000000",
          "2023-09-04T00:00:00.000000000",
          "2023-09-11T00:00:00.000000000",
          "2023-09-18T00:00:00.000000000",
          "2023-09-25T00:00:00.000000000",
          "2023-10-02T00:00:00.000000000",
          "2023-10-09T00:00:00.000000000",
          "2023-10-16T00:00:00.000000000",
          "2023-10-23T00:00:00.000000000",
          "2023-10-30T00:00:00.000000000",
          "2023-11-06T00:00:00.000000000",
          "2023-11-13T00:00:00.000000000",
          "2023-11-20T00:00:00.000000000",
          "2023-11-27T00:00:00.000000000",
          "2023-12-04T00:00:00.000000000",
          "2023-12-11T00:00:00.000000000",
          "2023-12-18T00:00:00.000000000",
          "2023-12-25T00:00:00.000000000"
         ],
         "y": {
          "bdata": "zAEKAtUBwgHmAeEB4wHTAdgBzwHpAewB5wEEAvwB/AEgAgQCBgIFAtwB4wHBAc8B5gHXAd0B2QH0AcwBJgLiAdwB4AHYAdEBAALbAdQBywHfAdQBsgHKAaEB1gGrAZoBdgGbAbkB1AGZAdgBnQHJAd4ByQHBAacByAHuAaYBwQGkAZQBswGYAbUBrwF7AbkB0QGvAa0BtwHKAdgB2AHpAQQC3AHJAesBGgLqAfIBvgHbAe8BAwIGAhwC9QEOAvkBBQIVAgkC7AH+AegBCALJAQ==",
          "dtype": "i2"
         }
        },
        {
         "line": {
          "color": "red",
          "dash": "dash"
         },
         "mode": "lines",
         "name": "Holt-Winters Forecast",
         "type": "scatter",
         "x": [
          "2023-10-09T00:00:00.000000000",
          "2023-10-16T00:00:00.000000000",
          "2023-10-23T00:00:00.000000000",
          "2023-10-30T00:00:00.000000000",
          "2023-11-06T00:00:00.000000000",
          "2023-11-13T00:00:00.000000000",
          "2023-11-20T00:00:00.000000000",
          "2023-11-27T00:00:00.000000000",
          "2023-12-04T00:00:00.000000000",
          "2023-12-11T00:00:00.000000000",
          "2023-12-18T00:00:00.000000000",
          "2023-12-25T00:00:00.000000000"
         ],
         "y": {
          "bdata": "K7KfNxP8f0Dj6qluxv1+QNPwI52LA4BAIZTY1To1gED4iCfeZO19QKFq4/n9B4BA339kb/pAfkCVBjVhM1t+QKF0U1og83xApXROXEvWfUCjbcxs4pt/QKk7WKKT+35A",
          "dtype": "f8"
         }
        },
        {
         "fill": "toself",
         "fillcolor": "rgba(255, 0, 0, 0.2)",
         "line": {
          "color": "rgba(255,255,255,0)"
         },
         "name": "95% Confidence Interval",
         "type": "scatter",
         "x": [
          "2023-10-09T00:00:00",
          "2023-10-16T00:00:00",
          "2023-10-23T00:00:00",
          "2023-10-30T00:00:00",
          "2023-11-06T00:00:00",
          "2023-11-13T00:00:00",
          "2023-11-20T00:00:00",
          "2023-11-27T00:00:00",
          "2023-12-04T00:00:00",
          "2023-12-11T00:00:00",
          "2023-12-18T00:00:00",
          "2023-12-25T00:00:00",
          "2023-12-25T00:00:00",
          "2023-12-18T00:00:00",
          "2023-12-11T00:00:00",
          "2023-12-04T00:00:00",
          "2023-11-27T00:00:00",
          "2023-11-20T00:00:00",
          "2023-11-13T00:00:00",
          "2023-11-06T00:00:00",
          "2023-10-30T00:00:00",
          "2023-10-23T00:00:00",
          "2023-10-16T00:00:00",
          "2023-10-09T00:00:00"
         ],
         "y": [
          555.7494281171947,
          539.8556817792354,
          556.437907213583,
          562.6484645897137,
          522.8318623237961,
          556.9937481787631,
          528.0558777868074,
          529.6947802741383,
          507.1901350399032,
          521.3881349755006,
          549.7375159379493,
          539.7182798941265,
          451.7288070974895,
          461.74804314131234,
          433.3986621788637,
          419.20066224326627,
          441.7053074775014,
          440.06640499017044,
          469.0042753821262,
          434.84238952715924,
          474.65899179307684,
          468.4484344169461,
          451.86620898259844,
          467.75995532055776
         ]
        }
       ],
       "layout": {
        "hovermode": "x unified",
        "template": {
         "data": {
          "bar": [
           {
            "error_x": {
             "color": "#f2f5fa"
            },
            "error_y": {
             "color": "#f2f5fa"
            },
            "marker": {
             "line": {
              "color": "rgb(17,17,17)",
              "width": 0.5
             },
             "pattern": {
              "fillmode": "overlay",
              "size": 10,
              "solidity": 0.2
             }
            },
            "type": "bar"
           }
          ],
          "barpolar": [
           {
            "marker": {
             "line": {
              "color": "rgb(17,17,17)",
              "width": 0.5
             },
             "pattern": {
              "fillmode": "overlay",
              "size": 10,
              "solidity": 0.2
             }
            },
            "type": "barpolar"
           }
          ],
          "carpet": [
           {
            "aaxis": {
             "endlinecolor": "#A2B1C6",
             "gridcolor": "#506784",
             "linecolor": "#506784",
             "minorgridcolor": "#506784",
             "startlinecolor": "#A2B1C6"
            },
            "baxis": {
             "endlinecolor": "#A2B1C6",
             "gridcolor": "#506784",
             "linecolor": "#506784",
             "minorgridcolor": "#506784",
             "startlinecolor": "#A2B1C6"
            },
            "type": "carpet"
           }
          ],
          "choropleth": [
           {
            "colorbar": {
             "outlinewidth": 0,
             "ticks": ""
            },
            "type": "choropleth"
           }
          ],
          "contour": [
           {
            "colorbar": {
             "outlinewidth": 0,
             "ticks": ""
            },
            "colorscale": [
             [
              0,
              "#0d0887"
             ],
             [
              0.1111111111111111,
              "#46039f"
             ],
             [
              0.2222222222222222,
              "#7201a8"
             ],
             [
              0.3333333333333333,
              "#9c179e"
             ],
             [
              0.4444444444444444,
              "#bd3786"
             ],
             [
              0.5555555555555556,
              "#d8576b"
             ],
             [
              0.6666666666666666,
              "#ed7953"
             ],
             [
              0.7777777777777778,
              "#fb9f3a"
             ],
             [
              0.8888888888888888,
              "#fdca26"
             ],
             [
              1,
              "#f0f921"
             ]
            ],
            "type": "contour"
           }
          ],
          "contourcarpet": [
           {
            "colorbar": {
             "outlinewidth": 0,
             "ticks": ""
            },
            "type": "contourcarpet"
           }
          ],
          "heatmap": [
           {
            "colorbar": {
             "outlinewidth": 0,
             "ticks": ""
            },
            "colorscale": [
             [
              0,
              "#0d0887"
             ],
             [
              0.1111111111111111,
              "#46039f"
             ],
             [
              0.2222222222222222,
              "#7201a8"
             ],
             [
              0.3333333333333333,
              "#9c179e"
             ],
             [
              0.4444444444444444,
              "#bd3786"
             ],
             [
              0.5555555555555556,
              "#d8576b"
             ],
             [
              0.6666666666666666,
              "#ed7953"
             ],
             [
              0.7777777777777778,
              "#fb9f3a"
             ],
             [
              0.8888888888888888,
              "#fdca26"
             ],
             [
              1,
              "#f0f921"
             ]
            ],
            "type": "heatmap"
           }
          ],
          "histogram": [
           {
            "marker": {
             "pattern": {
              "fillmode": "overlay",
              "size": 10,
              "solidity": 0.2
             }
            },
            "type": "histogram"
           }
          ],
          "histogram2d": [
           {
            "colorbar": {
             "outlinewidth": 0,
             "ticks": ""
            },
            "colorscale": [
             [
              0,
              "#0d0887"
             ],
             [
              0.1111111111111111,
              "#46039f"
             ],
             [
              0.2222222222222222,
              "#7201a8"
             ],
             [
              0.3333333333333333,
              "#9c179e"
             ],
             [
              0.4444444444444444,
              "#bd3786"
             ],
             [
              0.5555555555555556,
              "#d8576b"
             ],
             [
              0.6666666666666666,
              "#ed7953"
             ],
             [
              0.7777777777777778,
              "#fb9f3a"
             ],
             [
              0.8888888888888888,
              "#fdca26"
             ],
             [
              1,
              "#f0f921"
             ]
            ],
            "type": "histogram2d"
           }
          ],
          "histogram2dcontour": [
           {
            "colorbar": {
             "outlinewidth": 0,
             "ticks": ""
            },
            "colorscale": [
             [
              0,
              "#0d0887"
             ],
             [
              0.1111111111111111,
              "#46039f"
             ],
             [
              0.2222222222222222,
              "#7201a8"
             ],
             [
              0.3333333333333333,
              "#9c179e"
             ],
             [
              0.4444444444444444,
              "#bd3786"
             ],
             [
              0.5555555555555556,
              "#d8576b"
             ],
             [
              0.6666666666666666,
              "#ed7953"
             ],
             [
              0.7777777777777778,
              "#fb9f3a"
             ],
             [
              0.8888888888888888,
              "#fdca26"
             ],
             [
              1,
              "#f0f921"
             ]
            ],
            "type": "histogram2dcontour"
           }
          ],
          "mesh3d": [
           {
            "colorbar": {
             "outlinewidth": 0,
             "ticks": ""
            },
            "type": "mesh3d"
           }
          ],
          "parcoords": [
           {
            "line": {
             "colorbar": {
              "outlinewidth": 0,
              "ticks": ""
             }
            },
            "type": "parcoords"
           }
          ],
          "pie": [
           {
            "automargin": true,
            "type": "pie"
           }
          ],
          "scatter": [
           {
            "marker": {
             "line": {
              "color": "#283442"
             }
            },
            "type": "scatter"
           }
          ],
          "scatter3d": [
           {
            "line": {
             "colorbar": {
              "outlinewidth": 0,
              "ticks": ""
             }
            },
            "marker": {
             "colorbar": {
              "outlinewidth": 0,
              "ticks": ""
             }
            },
            "type": "scatter3d"
           }
          ],
          "scattercarpet": [
           {
            "marker": {
             "colorbar": {
              "outlinewidth": 0,
              "ticks": ""
             }
            },
            "type": "scattercarpet"
           }
          ],
          "scattergeo": [
           {
            "marker": {
             "colorbar": {
              "outlinewidth": 0,
              "ticks": ""
             }
            },
            "type": "scattergeo"
           }
          ],
          "scattergl": [
           {
            "marker": {
             "line": {
              "color": "#283442"
             }
            },
            "type": "scattergl"
           }
          ],
          "scattermap": [
           {
            "marker": {
             "colorbar": {
              "outlinewidth": 0,
              "ticks": ""
             }
            },
            "type": "scattermap"
           }
          ],
          "scattermapbox": [
           {
            "marker": {
             "colorbar": {
              "outlinewidth": 0,
              "ticks": ""
             }
            },
            "type": "scattermapbox"
           }
          ],
          "scatterpolar": [
           {
            "marker": {
             "colorbar": {
              "outlinewidth": 0,
              "ticks": ""
             }
            },
            "type": "scatterpolar"
           }
          ],
          "scatterpolargl": [
           {
            "marker": {
             "colorbar": {
              "outlinewidth": 0,
              "ticks": ""
             }
            },
            "type": "scatterpolargl"
           }
          ],
          "scatterternary": [
           {
            "marker": {
             "colorbar": {
              "outlinewidth": 0,
              "ticks": ""
             }
            },
            "type": "scatterternary"
           }
          ],
          "surface": [
           {
            "colorbar": {
             "outlinewidth": 0,
             "ticks": ""
            },
            "colorscale": [
             [
              0,
              "#0d0887"
             ],
             [
              0.1111111111111111,
              "#46039f"
             ],
             [
              0.2222222222222222,
              "#7201a8"
             ],
             [
              0.3333333333333333,
              "#9c179e"
             ],
             [
              0.4444444444444444,
              "#bd3786"
             ],
             [
              0.5555555555555556,
              "#d8576b"
             ],
             [
              0.6666666666666666,
              "#ed7953"
             ],
             [
              0.7777777777777778,
              "#fb9f3a"
             ],
             [
              0.8888888888888888,
              "#fdca26"
             ],
             [
              1,
              "#f0f921"
             ]
            ],
            "type": "surface"
           }
          ],
          "table": [
           {
            "cells": {
             "fill": {
              "color": "#506784"
             },
             "line": {
              "color": "rgb(17,17,17)"
             }
            },
            "header": {
             "fill": {
              "color": "#2a3f5f"
             },
             "line": {
              "color": "rgb(17,17,17)"
             }
            },
            "type": "table"
           }
          ]
         },
         "layout": {
          "annotationdefaults": {
           "arrowcolor": "#f2f5fa",
           "arrowhead": 0,
           "arrowwidth": 1
          },
          "autotypenumbers": "strict",
          "coloraxis": {
           "colorbar": {
            "outlinewidth": 0,
            "ticks": ""
           }
          },
          "colorscale": {
           "diverging": [
            [
             0,
             "#8e0152"
            ],
            [
             0.1,
             "#c51b7d"
            ],
            [
             0.2,
             "#de77ae"
            ],
            [
             0.3,
             "#f1b6da"
            ],
            [
             0.4,
             "#fde0ef"
            ],
            [
             0.5,
             "#f7f7f7"
            ],
            [
             0.6,
             "#e6f5d0"
            ],
            [
             0.7,
             "#b8e186"
            ],
            [
             0.8,
             "#7fbc41"
            ],
            [
             0.9,
             "#4d9221"
            ],
            [
             1,
             "#276419"
            ]
           ],
           "sequential": [
            [
             0,
             "#0d0887"
            ],
            [
             0.1111111111111111,
             "#46039f"
            ],
            [
             0.2222222222222222,
             "#7201a8"
            ],
            [
             0.3333333333333333,
             "#9c179e"
            ],
            [
             0.4444444444444444,
             "#bd3786"
            ],
            [
             0.5555555555555556,
             "#d8576b"
            ],
            [
             0.6666666666666666,
             "#ed7953"
            ],
            [
             0.7777777777777778,
             "#fb9f3a"
            ],
            [
             0.8888888888888888,
             "#fdca26"
            ],
            [
             1,
             "#f0f921"
            ]
           ],
           "sequentialminus": [
            [
             0,
             "#0d0887"
            ],
            [
             0.1111111111111111,
             "#46039f"
            ],
            [
             0.2222222222222222,
             "#7201a8"
            ],
            [
             0.3333333333333333,
             "#9c179e"
            ],
            [
             0.4444444444444444,
             "#bd3786"
            ],
            [
             0.5555555555555556,
             "#d8576b"
            ],
            [
             0.6666666666666666,
             "#ed7953"
            ],
            [
             0.7777777777777778,
             "#fb9f3a"
            ],
            [
             0.8888888888888888,
             "#fdca26"
            ],
            [
             1,
             "#f0f921"
            ]
           ]
          },
          "colorway": [
           "#636efa",
           "#EF553B",
           "#00cc96",
           "#ab63fa",
           "#FFA15A",
           "#19d3f3",
           "#FF6692",
           "#B6E880",
           "#FF97FF",
           "#FECB52"
          ],
          "font": {
           "color": "#f2f5fa"
          },
          "geo": {
           "bgcolor": "rgb(17,17,17)",
           "lakecolor": "rgb(17,17,17)",
           "landcolor": "rgb(17,17,17)",
           "showlakes": true,
           "showland": true,
           "subunitcolor": "#506784"
          },
          "hoverlabel": {
           "align": "left"
          },
          "hovermode": "closest",
          "mapbox": {
           "style": "dark"
          },
          "paper_bgcolor": "rgb(17,17,17)",
          "plot_bgcolor": "rgb(17,17,17)",
          "polar": {
           "angularaxis": {
            "gridcolor": "#506784",
            "linecolor": "#506784",
            "ticks": ""
           },
           "bgcolor": "rgb(17,17,17)",
           "radialaxis": {
            "gridcolor": "#506784",
            "linecolor": "#506784",
            "ticks": ""
           }
          },
          "scene": {
           "xaxis": {
            "backgroundcolor": "rgb(17,17,17)",
            "gridcolor": "#506784",
            "gridwidth": 2,
            "linecolor": "#506784",
            "showbackground": true,
            "ticks": "",
            "zerolinecolor": "#C8D4E3"
           },
           "yaxis": {
            "backgroundcolor": "rgb(17,17,17)",
            "gridcolor": "#506784",
            "gridwidth": 2,
            "linecolor": "#506784",
            "showbackground": true,
            "ticks": "",
            "zerolinecolor": "#C8D4E3"
           },
           "zaxis": {
            "backgroundcolor": "rgb(17,17,17)",
            "gridcolor": "#506784",
            "gridwidth": 2,
            "linecolor": "#506784",
            "showbackground": true,
            "ticks": "",
            "zerolinecolor": "#C8D4E3"
           }
          },
          "shapedefaults": {
           "line": {
            "color": "#f2f5fa"
           }
          },
          "sliderdefaults": {
           "bgcolor": "#C8D4E3",
           "bordercolor": "rgb(17,17,17)",
           "borderwidth": 1,
           "tickwidth": 0
          },
          "ternary": {
           "aaxis": {
            "gridcolor": "#506784",
            "linecolor": "#506784",
            "ticks": ""
           },
           "baxis": {
            "gridcolor": "#506784",
            "linecolor": "#506784",
            "ticks": ""
           },
           "bgcolor": "rgb(17,17,17)",
           "caxis": {
            "gridcolor": "#506784",
            "linecolor": "#506784",
            "ticks": ""
           }
          },
          "title": {
           "x": 0.05
          },
          "updatemenudefaults": {
           "bgcolor": "#506784",
           "borderwidth": 0
          },
          "xaxis": {
           "automargin": true,
           "gridcolor": "#283442",
           "linecolor": "#506784",
           "ticks": "",
           "title": {
            "standoff": 15
           },
           "zerolinecolor": "#283442",
           "zerolinewidth": 2
          },
          "yaxis": {
           "automargin": true,
           "gridcolor": "#283442",
           "linecolor": "#506784",
           "ticks": "",
           "title": {
            "standoff": 15
           },
           "zerolinecolor": "#283442",
           "zerolinewidth": 2
          }
         }
        },
        "title": {
         "text": "Holt-Winters Forecast for Weekly Vehicle Thefts (Last 2 Years Shown)"
        },
        "xaxis": {
         "tickangle": 45,
         "tickformat": "%b %Y",
         "tickmode": "auto",
         "title": {
          "text": "Date (Weeks)"
         }
        },
        "yaxis": {
         "showgrid": true,
         "title": {
          "text": "Number of Vehicle Thefts"
         }
        }
       }
      }
     },
     "metadata": {},
     "output_type": "display_data"
    }
   ],
   "source": [
    "import plotly.graph_objects as go\n",
    "import numpy as np\n",
    "import pandas as pd\n",
    "from statsmodels.tsa.holtwinters import ExponentialSmoothing\n",
    "\n",
    "# Ensure the index is datetime\n",
    "df_clean.index = pd.to_datetime(df_clean.index)\n",
    "\n",
    "# Train-test split: Exclude the last 12 weeks for training\n",
    "train_data = df_clean.iloc[:-12]  # All but the last 12 weeks\n",
    "test_data = df_clean.iloc[-12:]   # Last 12 weeks for testing\n",
    "\n",
    "# Fit Holt-Winters Exponential Smoothing model\n",
    "hw_model = ExponentialSmoothing(\n",
    "    train_data[\"count\"],  # Use the \"count\" column\n",
    "    trend=\"add\",          # Additive trend\n",
    "    seasonal=\"add\",       # Additive seasonality\n",
    "    seasonal_periods=52   # 52 weeks in a year (for weekly data)\n",
    ").fit()\n",
    "\n",
    "# Forecast the next 12 weeks\n",
    "forecast_values = hw_model.forecast(steps=12)\n",
    "\n",
    "# Estimate confidence intervals using residual standard deviation\n",
    "residuals = train_data[\"count\"] - hw_model.fittedvalues\n",
    "std_dev = np.std(residuals)\n",
    "confidence_interval = 1.96 * std_dev  # 95% Confidence Interval\n",
    "\n",
    "# Convert forecasted values to a Pandas Series with correct weekly index\n",
    "forecast_series = pd.Series(forecast_values.values, index=test_data.index)\n",
    "\n",
    "# Select the last 2 years of actual data for plotting\n",
    "df_last2years = df_clean.iloc[-104:]  # Show last 104 weeks (2 years)\n",
    "\n",
    "# Create the figure\n",
    "fig = go.Figure()\n",
    "\n",
    "# **1. Actual Data - Blue Line**\n",
    "fig.add_trace(go.Scatter(\n",
    "    x=df_last2years.index,\n",
    "    y=df_last2years[\"count\"],\n",
    "    mode='lines',\n",
    "    name='Actual Vehicle Thefts',\n",
    "    line=dict(color='blue')\n",
    "))\n",
    "\n",
    "# **2. Forecasted Data - Red Dashed Line**\n",
    "fig.add_trace(go.Scatter(\n",
    "    x=forecast_series.index,\n",
    "    y=forecast_series,\n",
    "    mode='lines',\n",
    "    name='Holt-Winters Forecast',\n",
    "    line=dict(color='red', dash='dash')\n",
    "))\n",
    "\n",
    "# **3. Confidence Interval - Shaded Region**\n",
    "fig.add_trace(go.Scatter(\n",
    "    x=forecast_series.index.tolist() + forecast_series.index[::-1].tolist(),\n",
    "    y=(forecast_series + confidence_interval).tolist() + (forecast_series - confidence_interval)[::-1].tolist(),\n",
    "    fill='toself',\n",
    "    fillcolor='rgba(255, 0, 0, 0.2)',  # Light red shading\n",
    "    line=dict(color='rgba(255,255,255,0)'),\n",
    "    name='95% Confidence Interval'\n",
    "))\n",
    "\n",
    "# **Customize Layout**\n",
    "fig.update_layout(\n",
    "    title=\"Holt-Winters Forecast for Weekly Vehicle Thefts (Last 2 Years Shown)\",\n",
    "    xaxis_title=\"Date (Weeks)\",\n",
    "    yaxis_title=\"Number of Vehicle Thefts\",\n",
    "    template=\"plotly_dark\",\n",
    "    xaxis=dict(\n",
    "        tickformat=\"%b %Y\",  # Show month & year on X-axis\n",
    "        tickangle=45,        # Rotate labels\n",
    "        tickmode=\"auto\"\n",
    "    ),\n",
    "    yaxis=dict(showgrid=True),\n",
    "    hovermode=\"x unified\"  # Show all values on hover\n",
    ")\n",
    "\n",
    "# Show the plot\n",
    "fig.show()"
   ]
  },
  {
   "cell_type": "markdown",
   "metadata": {},
   "source": [
    "## Data seperated monthly"
   ]
  },
  {
   "cell_type": "code",
   "execution_count": 24,
   "metadata": {},
   "outputs": [],
   "source": [
    "df['year'] = df['date'].dt.year\n",
    "df['month'] = df['date'].dt.month"
   ]
  },
  {
   "cell_type": "code",
   "execution_count": 25,
   "metadata": {},
   "outputs": [],
   "source": [
    "monthly_counts = df[df['Crm Cd Desc'] == 'VEHICLE - STOLEN'].groupby(['year', 'month'])['Crm Cd Desc'].count()"
   ]
  },
  {
   "cell_type": "code",
   "execution_count": 26,
   "metadata": {},
   "outputs": [
    {
     "name": "stdout",
     "output_type": "stream",
     "text": [
      "            count\n",
      "date             \n",
      "2020-01-01   1409\n",
      "2020-02-01   1281\n",
      "2020-03-01   1477\n",
      "2020-04-01   1838\n",
      "2020-05-01   1848\n",
      "...           ...\n",
      "2024-10-01   1817\n",
      "2024-11-01   1643\n",
      "2024-12-01    715\n",
      "2025-01-01     18\n",
      "2025-02-01      8\n",
      "\n",
      "[62 rows x 1 columns]\n"
     ]
    }
   ],
   "source": [
    "monthly_counts = monthly_counts.reset_index()\n",
    "# Rename columns for clarity\n",
    "monthly_counts.columns = ['year', 'month', 'count']\n",
    "\n",
    "# Create a proper datetime index\n",
    "monthly_counts['date'] = pd.to_datetime(monthly_counts[['year', 'month']].assign(day=1))\n",
    "\n",
    "# Set 'date' as the index\n",
    "monthly_counts = monthly_counts.set_index('date')\n",
    "\n",
    "# Drop unnecessary columns\n",
    "monthly_counts = monthly_counts.drop(columns=['year', 'month'])\n",
    "\n",
    "# Display the transformed DataFrame\n",
    "print(monthly_counts)"
   ]
  },
  {
   "cell_type": "code",
   "execution_count": null,
   "metadata": {},
   "outputs": [],
   "source": [
    "monthly_counts_total = monthly_counts.copy()\n",
    "\n",
    "monthly_counts = monthly_counts[monthly_counts.index < '2024-01-12'] # Remove 2025 data"
   ]
  },
  {
   "cell_type": "code",
   "execution_count": null,
   "metadata": {},
   "outputs": [],
   "source": [
    "fig = go.Figure()\n",
    "\n",
    "fig.add_trace(go.Scatter(x = monthly_counts.index, y = monthly_counts['count'], mode = 'lines'))\n",
    "\n",
    "fig.update_layout(title = 'Monthly Vehicle Thefts in Los Angeles',\n",
    "                  xaxis_title = 'Date (Months)',\n",
    "                  yaxis_title = 'Number of Vehicle Thefts',\n",
    "                  template = 'plotly_dark')\n",
    "\n",
    "fig.show()"
   ]
  }
 ],
 "metadata": {
  "kernelspec": {
   "display_name": ".venv",
   "language": "python",
   "name": "python3"
  },
  "language_info": {
   "codemirror_mode": {
    "name": "ipython",
    "version": 3
   },
   "file_extension": ".py",
   "mimetype": "text/x-python",
   "name": "python",
   "nbconvert_exporter": "python",
   "pygments_lexer": "ipython3",
   "version": "3.12.0"
  }
 },
 "nbformat": 4,
 "nbformat_minor": 2
}
